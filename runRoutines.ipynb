{
 "cells": [
  {
   "cell_type": "code",
   "execution_count": null,
   "source": [
    "%load_ext autoreload\n",
    "%autoreload 2\n",
    "\n",
    "import os\n",
    "import re\n",
    "import json\n",
    "import glob\n",
    "import random\n",
    "\n",
    "import sys\n",
    "sys.path.append('simulation')\n",
    "from unity_simulator.comm_unity import UnityCommunication\n",
    "from dataset_utils import execute_script_utils as utils\n",
    "from evolving_graph import scripts\n",
    "\n",
    "def setup():\n",
    "    comm = UnityCommunication()\n",
    "    return comm"
   ],
   "outputs": [],
   "metadata": {}
  },
  {
   "cell_type": "markdown",
   "source": [
    "### Fetching all scripts and running them to filter the ones that run on sim"
   ],
   "metadata": {}
  },
  {
   "cell_type": "code",
   "execution_count": null,
   "source": [
    "DATASET = 'dataset/programs_processed'\n",
    "list_of_scene_scripts = glob.glob('{}/executable_programs/TrimmedTestScene{}_graph/*/*.txt'.format(DATASET,'1'))\n",
    "def graph_file_from_script(script_file):\n",
    "    return script_file.replace('executable_programs','init_and_final_graphs').replace('.txt','.json')"
   ],
   "outputs": [],
   "metadata": {}
  },
  {
   "cell_type": "code",
   "execution_count": null,
   "source": [
    "# # These were found to get the simulator stuck...\n",
    "list_of_scene_scripts.remove('dataset/programs_processed/executable_programs/TrimmedTestScene1_graph/results_text_rebuttal_specialparsed_programs_turk_third/split36_2.txt')\n",
    "list_of_scene_scripts.remove('dataset/programs_processed/executable_programs/TrimmedTestScene1_graph/results_intentions_march-13-18/file241_1.txt')\n",
    "list_of_scene_scripts.remove('dataset/programs_processed/executable_programs/TrimmedTestScene1_graph/results_intentions_march-13-18/file416_2.txt')\n",
    "list_of_scene_scripts.remove('dataset/programs_processed/executable_programs/TrimmedTestScene1_graph/results_intentions_march-13-18/file211_1.txt')\n",
    "list_of_scene_scripts.remove('dataset/programs_processed/executable_programs/TrimmedTestScene1_graph/results_intentions_march-13-18/file474_2.txt')\n",
    "list_of_scene_scripts.remove('dataset/programs_processed/executable_programs/TrimmedTestScene1_graph/results_intentions_march-13-18/file287_2.txt')\n",
    "list_of_scene_scripts.remove('dataset/programs_processed/executable_programs/TrimmedTestScene1_graph/results_intentions_march-13-18/file99_2.txt')\n",
    "list_of_scene_scripts.remove('dataset/programs_processed/executable_programs/TrimmedTestScene1_graph/results_intentions_march-13-18/file482_2.txt')\n",
    "list_of_scene_scripts.remove('dataset/programs_processed/executable_programs/TrimmedTestScene1_graph/results_intentions_march-13-18/file352_1.txt')\n",
    "list_of_scene_scripts.remove('dataset/programs_processed/executable_programs/TrimmedTestScene1_graph/results_intentions_march-13-18/file442_2.txt')\n",
    "list_of_scene_scripts.remove('dataset/programs_processed/executable_programs/TrimmedTestScene1_graph/results_text_rebuttal_specialparsed_programs_upwork_july/split23_9.txt')\n"
   ],
   "outputs": [],
   "metadata": {}
  },
  {
   "cell_type": "code",
   "execution_count": null,
   "source": [
    "def process_file_inbuilt(script_file, graph_file):\n",
    "    return utils.render_script_from_path(setup(), \n",
    "                                  script_file, graph_file,\n",
    "                                  {\"processing_time_limit\": 20, \"image_width\": 320, \"image_height\": 240, \"image_synthesis\": ['normal'], \"gen_vid\": True, \"file_name_prefix\": \"test\"})\n",
    "\n",
    "print('Total scripts to go through : ',len(list_of_scene_scripts))\n",
    "usable_scripts = []\n",
    "try:\n",
    "    for i,script_file in enumerate(list_of_scene_scripts):\n",
    "        res = process_file_inbuilt(script_file, graph_file_from_script(script_file))\n",
    "        success = res['success_expand']\n",
    "        if 'success_exec' in res.keys():\n",
    "            success = success and res['success_exec']\n",
    "        if success:\n",
    "            usable_scripts.append(script_file)\n",
    "        if i%50 == 0:\n",
    "            print(f'Processed {i} scripts')\n",
    "except Exception as e:\n",
    "    print(e)\n",
    "finally:\n",
    "    print(i,' files processed')\n",
    "    print('Last processed :',script_file)\n",
    "    print(len(usable_scripts))\n",
    "    with open(DATASET+'/usable_scripts.txt','a') as f:\n",
    "        for s in usable_scripts:\n",
    "            f.write(s+'\\n')"
   ],
   "outputs": [],
   "metadata": {}
  },
  {
   "cell_type": "markdown",
   "source": [
    "### Categorize the usable script by activity and save in short_scripts"
   ],
   "metadata": {}
  },
  {
   "cell_type": "code",
   "execution_count": null,
   "source": [
    "print(len(usable_scripts))\n",
    "if not usable_scripts:\n",
    "    with open(DATASET+'/usable_scripts.txt','r') as f:\n",
    "        for line in f:\n",
    "            usable_scripts.append(line[:-1])\n",
    "print(len(usable_scripts))\n",
    "\n",
    "activities = {}\n",
    "for script in usable_scripts:\n",
    "    with open(script,'r') as f:\n",
    "        activity = f.readline().strip()\n",
    "        if activity in activities:\n",
    "            activities[activity].append(script)\n",
    "        else:\n",
    "            activities[activity]=[script]\n",
    "for act in activities:\n",
    "    print (act,len(activities[act]))"
   ],
   "outputs": [],
   "metadata": {}
  },
  {
   "cell_type": "markdown",
   "source": [
    "### Fetching all scripts and running them to filter the ones that run on sim"
   ],
   "metadata": {}
  },
  {
   "cell_type": "code",
   "execution_count": null,
   "source": [
    "## Manual Work here!!!\n",
    "activity_categories = {}\n",
    "activity_categories['morning'] = ['Take shower', 'Turn on light', 'Open front door','Open door']\n",
    "activity_categories['night'] = ['Turn off light', 'Walk to room', 'Lock door']\n",
    "activity_categories['pastime'] = ['Read book', 'Read', 'Do work', 'Pet cat', 'Pick up phone', 'Go to toilet', 'Relax on sofa', 'Browse internet', 'Listen to music', 'Watch TV', 'Admire art']\n",
    "activity_categories['chore'] = ['Change sheets and pillow cases', 'Find dictionary','Put away shoes']\n",
    "activity_categories['food_pre'] = []\n",
    "activity_categories['food_post'] = ['Bring dirty plate to sink', ]\n",
    "activity_categories['unknown'] = ['Turn off TV', 'Bring me red cookbook', 'Close door', 'Keep cats out of room']\n",
    "\n",
    "activity_scripts = {key:[] for key in activity_categories.keys()}\n",
    "\n",
    "for act,scripts in activities.items():\n",
    "    for k,v in activity_categories.items():\n",
    "        if act in v:\n",
    "            activity_scripts[k] = activity_scripts[k] + scripts\n"
   ],
   "outputs": [],
   "metadata": {}
  },
  {
   "cell_type": "code",
   "execution_count": null,
   "source": [
    "from shutil import copyfile\n",
    "\n",
    "for act, scripts in activity_scripts.items():\n",
    "    os.makedirs('dataset/short_scripts/withoutconds/'+act)\n",
    "    print(act, len(scripts))\n",
    "    for script in scripts:\n",
    "        script = script.replace('executable_programs/TrimmedTestScene1_graph','withoutconds')\n",
    "        copyfile(script, 'dataset/short_scripts/withoutconds/'+act+'/'+os.path.basename(script))"
   ],
   "outputs": [],
   "metadata": {}
  },
  {
   "cell_type": "markdown",
   "source": [
    "### Generate concatenated scripts for full-day routine"
   ],
   "metadata": {}
  },
  {
   "cell_type": "code",
   "execution_count": null,
   "source": [
    "routine_components = ['morning','night','pastime','chore','food_post']\n",
    "routine_sequence = ['morning','morning','chore','pastime','food_post','pastime','chore','food_post','pastime','night']\n",
    "\n",
    "def write_script(script, file_name, script_name='', script_desc=''):\n",
    "    with open(file_name, 'w') as f:\n",
    "        f.write(script_name+'\\n')\n",
    "        f.write(script_desc+'\\n')\n",
    "        f.write('\\n')\n",
    "        for s in script:\n",
    "            f.write(s+'\\n')\n",
    " \n",
    "\n",
    "def sample_script():\n",
    "    script = []\n",
    "    for segment in routine_sequence:\n",
    "        file_name = random.choice(activity_scripts[segment])\n",
    "        file_name = file_name.replace('executable_programs/TrimmedTestScene1_graph','withoutconds')\n",
    "        with open(file_name) as f:\n",
    "            for line in f:\n",
    "                if '[' in line:\n",
    "                    script.append(line.strip())\n",
    "        script.append(' ')\n",
    "    return script\n",
    "\n",
    "for i in range(5):\n",
    "    write_script(sample_script(), 'dataset/long_scripts/withoutconds/batch2/'+str(i)+'.txt', 'Randomly generated routine', str(routine_sequence))"
   ],
   "outputs": [],
   "metadata": {}
  },
  {
   "cell_type": "code",
   "execution_count": null,
   "source": [
    "def parse_exec_script_file(file_name):\n",
    "    with open(file_name, 'r') as f:\n",
    "        content = f.readlines()\n",
    "        content = [x.strip() for x in content]\n",
    "        title = content[0]\n",
    "        description = content[1]\n",
    "        script_raw = content[4:]\n",
    "\n",
    "    script = []\n",
    "    for elem in script_raw:\n",
    "        script.append(re.sub('[0-9]\\.', '', elem))\n",
    "    print(script)\n",
    "    return title, description, script\n",
    "\n",
    "def obtain_objects_from_message(message):\n",
    "    objects_missing = []\n",
    "    for x in ['unplaced', 'missing_destinations', 'missing_prefabs']:\n",
    "        if x in message.keys():\n",
    "            objects_missing += message[x]\n",
    "    return objects_missing\n",
    "\n",
    "def process_file_elaborate():\n",
    "    # get comm\n",
    "    comm = setup()\n",
    "    status = comm.reset(0)\n",
    "    if not status:\n",
    "        print(\"Error: could not load sim.\")\n",
    "        exit()\n",
    "    # get script\n",
    "    try:\n",
    "        title, desc, script = parse_exec_script_file(SCRIPT_FILE)\n",
    "    except FileNotFoundError:\n",
    "        print(\"Error: could not load script file.\")\n",
    "        exit()\n",
    "    script_content = scripts.read_script_from_list_string(script)\n",
    "    print(\"TITLE: \" + title)\n",
    "    print(\"DESCRIPTION: \" + desc)\n",
    "    print(\"### SCRIPT ###\")\n",
    "    print(script)\n",
    "    print(\"### SCRIPT ###\")\n",
    "    # get init_graph\n",
    "    graphs = None\n",
    "    try:\n",
    "        with open(GRAPH_FILE, \"r\") as f:\n",
    "            graphs = json.load(f)\n",
    "    except FileNotFoundError:\n",
    "        print(\"Error: could not load graph file.\")\n",
    "        exit()\n",
    "    init_graph = graphs[\"init_graph\"]\n",
    "    status, msg = comm.expand_scene(init_graph)\n",
    "    if not status:\n",
    "        # sometimes fails due to \"background\" not renderable by unity\n",
    "        objects_missing = obtain_objects_from_message(msg)\n",
    "        objects_script = [x[0].replace('_', '') for x in script_content.obtain_objects()]\n",
    "        intersection_objects = list(set(objects_script).intersection(objects_missing))\n",
    "        if len(intersection_objects) > 0:\n",
    "            print(\"Error: could not load init_graph. See below.\")\n",
    "            print(msg)\n",
    "            exit()\n",
    "    # finally with comm, graph, and script, render the script\n",
    "    render_args = {\"processing_time_limit\": 120,\n",
    "                \"image_width\": 320,\n",
    "                \"image_height\": 240,\n",
    "                \"image_synthesis\": ['normal'],\n",
    "                \"gen_vid\": True,\n",
    "                \"file_name_prefix\": \"test\"}\n",
    "    status, msg = comm.render_script(script, **render_args)\n",
    "    if status:\n",
    "        print(\"robotHow recipe executed!\")\n",
    "    else:\n",
    "        print(msg)"
   ],
   "outputs": [],
   "metadata": {}
  },
  {
   "cell_type": "markdown",
   "source": [
    "Scripts now run on their own init graph. How to generate an init graph for a sequence? Complete and fix the scripts manually then concatenate and try creating init graph and executable"
   ],
   "metadata": {}
  },
  {
   "cell_type": "code",
   "execution_count": null,
   "source": [],
   "outputs": [],
   "metadata": {}
  }
 ],
 "metadata": {
  "orig_nbformat": 4,
  "language_info": {
   "name": "python",
   "version": "3.6.9",
   "mimetype": "text/x-python",
   "codemirror_mode": {
    "name": "ipython",
    "version": 3
   },
   "pygments_lexer": "ipython3",
   "nbconvert_exporter": "python",
   "file_extension": ".py"
  },
  "kernelspec": {
   "name": "python3",
   "display_name": "Python 3.6.9 64-bit ('.venv': virtualenv)"
  },
  "interpreter": {
   "hash": "6c44053934534b20d3a940e90c6cf7ed3394be216f46c73e9aa30edae98e616b"
  }
 },
 "nbformat": 4,
 "nbformat_minor": 2
}