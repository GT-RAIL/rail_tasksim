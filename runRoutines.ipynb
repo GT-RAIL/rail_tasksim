{
 "cells": [
  {
   "cell_type": "code",
   "execution_count": null,
   "source": [
    "%load_ext autoreload\n",
    "%autoreload 2\n",
    "\n",
    "\n",
    "import os\n",
    "import re\n",
    "import json\n",
    "import glob\n",
    "import random\n",
    "\n",
    "import sys\n",
    "sys.path.append('simulation')\n",
    "from unity_simulator.comm_unity import UnityCommunication\n",
    "from dataset_utils import execute_script_utils as utils\n",
    "from evolving_graph import scripts\n",
    "\n",
    "def setup():\n",
    "    comm = UnityCommunication()\n",
    "    return comm"
   ],
   "outputs": [],
   "metadata": {}
  },
  {
   "cell_type": "markdown",
   "source": [
    "### Fetching all scripts and running them to filter the ones that run on sim"
   ],
   "metadata": {}
  },
  {
   "cell_type": "code",
   "execution_count": null,
   "source": [
    "# DATASET = 'dataset/programs_processed'\n",
    "# list_of_scene_scripts = glob.glob('{}/executable_programs/TrimmedTestScene{}_graph/*/*.txt'.format(DATASET,'1'))\n",
    "def graph_file_from_script(script_file):\n",
    "    return script_file.replace('executable_programs','init_and_final_graphs').replace('.txt','.json')"
   ],
   "outputs": [],
   "metadata": {}
  },
  {
   "cell_type": "code",
   "execution_count": null,
   "source": [
    "# # # These were found to get the simulator stuck...\n",
    "# list_of_scene_scripts.remove('dataset/programs_processed/executable_programs/TrimmedTestScene1_graph/results_text_rebuttal_specialparsed_programs_turk_third/split36_2.txt')\n",
    "# list_of_scene_scripts.remove('dataset/programs_processed/executable_programs/TrimmedTestScene1_graph/results_intentions_march-13-18/file241_1.txt')\n",
    "# list_of_scene_scripts.remove('dataset/programs_processed/executable_programs/TrimmedTestScene1_graph/results_intentions_march-13-18/file416_2.txt')\n",
    "# list_of_scene_scripts.remove('dataset/programs_processed/executable_programs/TrimmedTestScene1_graph/results_intentions_march-13-18/file211_1.txt')\n",
    "# list_of_scene_scripts.remove('dataset/programs_processed/executable_programs/TrimmedTestScene1_graph/results_intentions_march-13-18/file474_2.txt')\n",
    "# list_of_scene_scripts.remove('dataset/programs_processed/executable_programs/TrimmedTestScene1_graph/results_intentions_march-13-18/file287_2.txt')\n",
    "# list_of_scene_scripts.remove('dataset/programs_processed/executable_programs/TrimmedTestScene1_graph/results_intentions_march-13-18/file99_2.txt')\n",
    "# list_of_scene_scripts.remove('dataset/programs_processed/executable_programs/TrimmedTestScene1_graph/results_intentions_march-13-18/file482_2.txt')\n",
    "# list_of_scene_scripts.remove('dataset/programs_processed/executable_programs/TrimmedTestScene1_graph/results_intentions_march-13-18/file352_1.txt')\n",
    "# list_of_scene_scripts.remove('dataset/programs_processed/executable_programs/TrimmedTestScene1_graph/results_intentions_march-13-18/file442_2.txt')\n",
    "# list_of_scene_scripts.remove('dataset/programs_processed/executable_programs/TrimmedTestScene1_graph/results_text_rebuttal_specialparsed_programs_upwork_july/split23_9.txt')\n"
   ],
   "outputs": [],
   "metadata": {}
  },
  {
   "cell_type": "code",
   "execution_count": null,
   "source": [
    "def process_file_inbuilt(script_file, graph_file):\n",
    "    return utils.render_script_from_path(setup(),\n",
    "                                  script_file, graph_file,\n",
    "                                  {\"processing_time_limit\": 500, \"image_width\": 320, \"image_height\": 240, \"image_synthesis\": ['normal'], \"gen_vid\": True, \"file_name_prefix\": \"test\", \"camera_mode\": 'PERSON_TOP'}, scene_id=1)\n",
    "\n",
    "# print('Total scripts to go through : ',len(list_of_scene_scripts))\n",
    "# usable_scripts = []\n",
    "# try:\n",
    "#     for i,script_file in enumerate(list_of_scene_scripts):\n",
    "#         res = process_file_inbuilt(script_file, graph_file_from_script(script_file))\n",
    "#         success = res['success_expand']\n",
    "#         if 'success_exec' in res.keys():\n",
    "#             success = success and res['success_exec']\n",
    "#         if success:\n",
    "#             usable_scripts.append(script_file)\n",
    "#         if i%50 == 0:\n",
    "#             print(f'Processed {i} scripts')\n",
    "# except Exception as e:\n",
    "#     print(e)\n",
    "# finally:\n",
    "#     print(i,' files processed')\n",
    "    # print('Last processed :',script_file)\n",
    "    # print(len(usable_scripts))\n",
    "    # with open(DATASET+'/usable_scripts.txt','a') as f:\n",
    "    #     for s in usable_scripts:\n",
    "    #         f.write(s+'\\n')"
   ],
   "outputs": [],
   "metadata": {}
  },
  {
   "cell_type": "markdown",
   "source": [
    "### Categorize the usable script by activity and save in short_scripts"
   ],
   "metadata": {}
  },
  {
   "cell_type": "code",
   "execution_count": null,
   "source": [
    "# try:\n",
    "#     assert(len(usable_scripts) > 0)\n",
    "# except:\n",
    "#     usable_scripts = []\n",
    "#     with open(DATASET+'/usable_scripts.txt','r') as f:\n",
    "#         for line in f:\n",
    "#             usable_scripts.append(line[:-1])\n",
    "# print(len(usable_scripts))\n",
    "\n",
    "# activities = {}\n",
    "# for script in usable_scripts:\n",
    "#     with open(script,'r') as f:\n",
    "#         activity = f.readline().strip()\n",
    "#         if activity in activities:\n",
    "#             activities[activity].append(script)\n",
    "#         else:\n",
    "#             activities[activity]=[script]\n",
    "# for act in activities:\n",
    "#     print (act,len(activities[act]))"
   ],
   "outputs": [],
   "metadata": {}
  },
  {
   "cell_type": "markdown",
   "source": [
    "### Fetching all scripts and running them to filter the ones that run on sim"
   ],
   "metadata": {}
  },
  {
   "cell_type": "code",
   "execution_count": null,
   "source": [
    "## Manual Work here!!!\n",
    "# activity_categories = {}\n",
    "# activity_categories['morning'] = ['Take shower', 'Turn on light', 'Open front door','Open door']\n",
    "# activity_categories['night'] = ['Turn off light', 'Walk to room', 'Lock door']\n",
    "# activity_categories['pastime'] = ['Read book', 'Read', 'Do work', 'Pet cat', 'Pick up phone', 'Go to toilet', 'Relax on sofa', 'Browse internet', 'Listen to music', 'Watch TV', 'Admire art']\n",
    "# activity_categories['chore'] = ['Change sheets and pillow cases', 'Find dictionary','Put away shoes']\n",
    "# activity_categories['food_pre'] = []\n",
    "# activity_categories['food_post'] = ['Bring dirty plate to sink', ]\n",
    "# activity_categories['unknown'] = ['Turn off TV', 'Bring me red cookbook', 'Close door', 'Keep cats out of room']\n",
    "\n",
    "# activity_scripts = {key:[] for key in activity_categories.keys()}\n",
    "\n",
    "# for act,scripts in activities.items():\n",
    "#     for k,v in activity_categories.items():\n",
    "#         if act in v:\n",
    "#             activity_scripts[k] = activity_scripts[k] + scripts\n"
   ],
   "outputs": [],
   "metadata": {}
  },
  {
   "cell_type": "code",
   "execution_count": null,
   "source": [
    "from shutil import copyfile\n",
    "\n",
    "# for act, scripts in activity_scripts.items():\n",
    "#     os.makedirs('dataset/short_scripts/withoutconds/'+act)\n",
    "#     print(act, len(scripts))\n",
    "#     for script in scripts:\n",
    "#         script = script.replace('executable_programs/TrimmedTestScene1_graph','withoutconds')\n",
    "#         copyfile(script, 'dataset/short_scripts/withoutconds/'+act+'/'+os.path.basename(script))\n",
    "\n",
    "activity_scripts = {}\n",
    "base_dir = 'dataset/short_scripts/withoutconds/'\n",
    "for dir in glob.glob('{}/*'.format(base_dir)):\n",
    "    activity_scripts[os.path.basename(dir)] = glob.glob('{}/*.txt'.format(dir))\n",
    "\n",
    "for act,scripts in activity_scripts.items():\n",
    "    print (act, len(scripts))"
   ],
   "outputs": [],
   "metadata": {}
  },
  {
   "cell_type": "markdown",
   "source": [
    "### Generate concatenated scripts for full-day routine"
   ],
   "metadata": {}
  },
  {
   "cell_type": "code",
   "execution_count": null,
   "source": [
    "routine_components = ['morning','night','pastime','chore','food_post']\n",
    "routine_sequence = ['morning','chore','pastime','food_post','pastime','chore','food_post','pastime','night']\n",
    "\n",
    "def write_script(script, file_name, script_name='', script_desc=''):\n",
    "    with open(file_name, 'w') as f:\n",
    "        f.write(script_name+'\\n')\n",
    "        f.write(script_desc+'\\n\\n\\n')\n",
    "        for s in script:\n",
    "            f.write(s+'\\n')\n",
    " \n",
    "\n",
    "def sample_script():\n",
    "    script = []\n",
    "    for segment in routine_sequence:\n",
    "        segment_script_files = glob.glob('dataset/short_scripts/withoutconds/{}/*.txt'.format(segment))\n",
    "        file_name = random.choice(segment_script_files)\n",
    "        with open(file_name) as f:\n",
    "            for line in f:\n",
    "                if '[' in line:\n",
    "                    script.append(line.strip())\n",
    "    return script\n",
    "\n",
    "\n",
    "!rm -r 'dataset/long_scripts'\n",
    "!mkdir -p 'dataset/long_scripts/withoutconds/batch1'\n",
    "for i in range(50):\n",
    "    write_script(sample_script(), 'dataset/long_scripts/withoutconds/batch1/'+str(i)+'.txt', 'Randomly generated routine', str(routine_sequence)[1:-1])"
   ],
   "outputs": [],
   "metadata": {}
  },
  {
   "cell_type": "markdown",
   "source": [
    "## Add preconditions for scripts + Create initial graphs and execute scripts"
   ],
   "metadata": {}
  },
  {
   "cell_type": "markdown",
   "source": [
    "Scripts now run on their own init graph. How to generate an init graph for a sequence? Complete and fix the scripts manually then concatenate and try creating init graph and executable"
   ],
   "metadata": {}
  },
  {
   "cell_type": "code",
   "execution_count": null,
   "source": [
    "### Test-A-Script\n",
    "\n",
    "path_input = 'dataset/long_scripts'\n",
    "\n",
    "from shutil import rmtree\n",
    "if os.path.exists('{}/executable_programs'.format(path_input)):\n",
    "    rmtree('{}/executable_programs'.format(path_input))\n",
    "    rmtree('{}/init_and_final_graphs'.format(path_input))\n",
    "    rmtree('{}/initstate'.format(path_input))\n",
    "    rmtree('{}/state_list'.format(path_input))\n",
    "\n",
    "# script_path = 'dataset/test_script/withoutconds/test/1.txt'\n",
    "%run -i 'dataset_utils/add_preconds.py'\n",
    "%run -i 'simulation/evolving_graph/check_programs.py' 0"
   ],
   "outputs": [],
   "metadata": {}
  },
  {
   "cell_type": "code",
   "execution_count": null,
   "source": [
    "comm = setup()\n",
    "comm.reset(0)\n",
    "s, graph = comm.environment_graph()"
   ],
   "outputs": [],
   "metadata": {}
  },
  {
   "cell_type": "code",
   "execution_count": null,
   "source": [
    "from simulation.evolving_graph.environment import EnvironmentGraph\n",
    "\n",
    "print(len(graph['nodes']))\n",
    "print(len(graph['edges']))\n",
    "print(graph['nodes'][0])\n",
    "classes = {}\n",
    "for node in graph['nodes']:\n",
    "    if node['class_name'] in classes:\n",
    "        classes[node['class_name']] += 1\n",
    "    else:\n",
    "        classes[node['class_name']] = 1\n",
    "print(sorted(list(classes.items())))"
   ],
   "outputs": [],
   "metadata": {}
  },
  {
   "cell_type": "code",
   "execution_count": null,
   "source": [
    "from simulation.evolving_graph.environment import Relation\n",
    "env = EnvironmentGraph(graph)\n",
    "objects =  env.get_nodes_by_attr('class_name', 'shoes')\n",
    "# print(f'{len(objects)} objects found!')\n",
    "for obj in objects:\n",
    "    print (type(obj))\n",
    "    # stuff = [(r,vals) for (nid,r),vals in env._edge_map.items() if nid == l.id]\n",
    "    # for s in stuff:\n",
    "    #     print (s[0])\n",
    "    #     print (s[1])\n",
    "    #     print()\n",
    "    # nodes = env.get_nodes_from(l, Relation.INSIDE)\n",
    "    # for node in nodes:\n",
    "    #     print (node.class_name)\n"
   ],
   "outputs": [],
   "metadata": {}
  },
  {
   "cell_type": "code",
   "execution_count": null,
   "source": [
    "# import simulation.evolving_graph.utils as utils\n",
    "# from simulation.evolving_graph.scripts import read_script_from_list_string\n",
    "# from simulation.evolving_graph.preparation import AddMissingScriptObjects, AddRandomObjects, ChangeObjectStates\n",
    "# from simulation.evolving_graph.execution import ScriptExecutor, Action\n",
    "\n",
    "# script_list = ['[Walk] <bathroom> (1)', '[Walk] <shower> (2)', '[Find] <shower> (2)']\n",
    "\n",
    "# graph = utils.load_graph('example_graphs/TestScene1_graph.json')\n",
    "# script = read_script_from_list_string(script_list)\n",
    "# for l in script:\n",
    "#     print (str(l))\n",
    "\n",
    "# name_equivalence = utils.load_name_equivalence()\n",
    "# object_placing = utils.load_object_placing()\n",
    "# properties_data = utils.load_properties_data()\n",
    "# executor = ScriptExecutor(graph, name_equivalence)\n",
    "\n",
    "# # Execute script; fails due to a missing object\n",
    "# # state_enum = executor.find_solutions(script)\n",
    "# # state = next(state_enum, None)\n",
    "# # print('Script is {0}executable'.format('not ' if state is None else ''))\n",
    "\n",
    "# # Add missing objects (random)\n",
    "# prepare_1 = AddMissingScriptObjects(name_equivalence, properties_data, object_placing)\n",
    "# print(prepare_1)\n",
    "\n",
    "# # Add 10 random objects\n",
    "# prepare_2 = AddRandomObjects(properties_data, object_placing, choices=10)\n",
    "\n",
    "# # Change states of \"can_open\" and \"has_switch\" objects to\n",
    "# # open/closed, on/off)\n",
    "# prepare_3 = ChangeObjectStates(properties_data)\n",
    "\n",
    "# state_enum = executor.find_solutions(script, [prepare_1, prepare_2, prepare_3])\n",
    "# state = next(state_enum, None)\n",
    "# print('Script is {0}executable'.format('not ' if state is None else ''))"
   ],
   "outputs": [],
   "metadata": {}
  },
  {
   "cell_type": "code",
   "execution_count": null,
   "source": [
    "# !mkdir dataset/long_scripts_/videos\n",
    "script_file = 'dataset/short_scripts/executable_programs/TrimmedTestScene1_graph/chore/1.txt'\n",
    "process_file_inbuilt(script_file, graph_file_from_script(script_file))\n",
    "# for script_file in glob.glob('dataset/long_scripts_/executable_programs/TrimmedTestScene1_graph/batch1/*.txt'):\n",
    "#     print(process_file_inbuilt(script_file, graph_file_from_script(script_file)))\n",
    "#     file_num = os.path.splitext(os.path.basename(script_file))[0]\n",
    "#     copyfile('Output/test/Action_normal.mp4', 'dataset/long_scripts_/videos/'+file_num+'.mp4')"
   ],
   "outputs": [],
   "metadata": {}
  },
  {
   "cell_type": "code",
   "execution_count": null,
   "source": [
    "import simulation.evolving_graph.utils as utils\n",
    "from simulation.evolving_graph.scripts import read_script\n",
    "from simulation.evolving_graph.execution import ScriptExecutor\n",
    "\n",
    "for script_file in glob.glob('dataset/long_scripts/executable_programs/TrimmedTestScene1_graph/batch1/*.txt'):\n",
    "    graph = utils.load_graph(graph_file_from_script(script_file))\n",
    "    script = read_script('example_scripts/example_script_3.txt')\n",
    "    name_equivalence = utils.load_name_equivalence()\n",
    "    executor = ScriptExecutor(graph, name_equivalence)\n",
    "    success, state, graph_state_list = executor.execute(script)\n",
    "    if not success:\n",
    "        print('Script is not executable, since {}'.format(executor.info.get_error_string()))\n",
    "    else:\n",
    "        print('Script is executable')\n"
   ],
   "outputs": [],
   "metadata": {}
  }
 ],
 "metadata": {
  "orig_nbformat": 4,
  "language_info": {
   "name": "python",
   "version": "3.6.9",
   "mimetype": "text/x-python",
   "codemirror_mode": {
    "name": "ipython",
    "version": 3
   },
   "pygments_lexer": "ipython3",
   "nbconvert_exporter": "python",
   "file_extension": ".py"
  },
  "kernelspec": {
   "name": "python3",
   "display_name": "Python 3.6.9 64-bit ('.venv': venv)"
  },
  "interpreter": {
   "hash": "88c6c5450cd209f1ba597a5f088c6418b96b446d6c4315d484bb25af0ae61413"
  }
 },
 "nbformat": 4,
 "nbformat_minor": 2
}