{
 "cells": [
  {
   "cell_type": "code",
   "execution_count": 9,
   "metadata": {},
   "outputs": [],
   "source": [
    "# For every routine\n",
    "# Sample times per activity\n",
    "# Check for overlaps and get actions in order\n",
    "# Create single script with times\n",
    "# Execute to get timestamped graphs ***"
   ]
  },
  {
   "cell_type": "code",
   "execution_count": 10,
   "metadata": {},
   "outputs": [
    {
     "name": "stdout",
     "output_type": "stream",
     "text": [
      "The autoreload extension is already loaded. To reload it, use:\n",
      "  %reload_ext autoreload\n"
     ]
    }
   ],
   "source": [
    "%load_ext autoreload\n",
    "%autoreload 2\n",
    "\n",
    "import json\n",
    "import os\n",
    "import shutil\n",
    "import numpy as np\n",
    "from random import random\n",
    "\n",
    "from evolving_graph.scripts import Script, parse_script_line\n",
    "import evolving_graph.utils as utils\n",
    "from evolving_graph.scripts import read_script, read_script_from_string, read_script_from_list_string, ScriptParseException, Action\n",
    "from evolving_graph.execution import ScriptExecutor\n",
    "from evolving_graph.environment import EnvironmentGraph\n",
    "\n",
    "from GraphReader import GraphReader, init_graph_file, scene_num\n",
    "from ProgramExecutor import read_program"
   ]
  },
  {
   "cell_type": "code",
   "execution_count": null,
   "metadata": {},
   "outputs": [],
   "source": [
    "def time_internal(mins, hrs, day):\n",
    "    return int(round(((((day)*24)+hrs)*60+mins)/DT))\n",
    "\n",
    "def day_num(day_of_week):\n",
    "    return {'Monday':0,'Tuesday':1,'Wednesday':2,'Thursday':3,'Friday':4,'Saturday':5,'Sunday':6}[day_of_week]"
   ]
  },
  {
   "cell_type": "code",
   "execution_count": null,
   "metadata": {},
   "outputs": [],
   "source": [
    "init_graph = GraphReader(graph_file=init_graph_file)\n",
    "print(f'Using scene {int(scene_num)-1}, i.e. \\'TestScene{scene_num}\\'')"
   ]
  },
  {
   "cell_type": "code",
   "execution_count": null,
   "metadata": {},
   "outputs": [],
   "source": [
    "DT = 1   # minutes\n",
    "NUM_REPEAT_ROUTINES = 5\n",
    "WEEKEND_DAYS = [day_num(day) for day in ['Saturday','Sunday']]\n",
    "INTERLEAVING = False\n",
    "START_TIME = (5,50)\n",
    "END_TIME = (24,00)\n",
    "\n",
    "DATASET_DIR = 'sourcedRoutines/trial'\n",
    "if os.path.exists(DATASET_DIR):\n",
    "    shutil.rmtree(DATASET_DIR)\n",
    "os.makedirs(DATASET_DIR)"
   ]
  },
  {
   "cell_type": "code",
   "execution_count": null,
   "metadata": {},
   "outputs": [],
   "source": [
    "class Activity():\n",
    "    def __init__(self, name, time, script_file=None):\n",
    "        self.name = name\n",
    "        start_time = time[0][0]*60 + time[0][1]\n",
    "        end_time = time[1][0]*60 + time[1][1]\n",
    "        directory = os.path.join('sourcedScripts', name)\n",
    "        if script_file is None:\n",
    "            script_file = np.random.choice(os.listdir(directory))\n",
    "            headers, self.scripts = read_program(os.path.join(directory,script_file), init_graph.node_map)\n",
    "        def sample_duration(header):\n",
    "            durations = (header).split('-')\n",
    "            assert len(durations)==2, f\"Invalid comment {header} in {name}->{script_file}\"\n",
    "            duration_min = int(durations[0].strip())\n",
    "            duration_max = int(durations[1].strip())\n",
    "            duration_sampled = random() * (duration_max-duration_min) + duration_min\n",
    "            return duration_sampled\n",
    "        self.durations = [sample_duration(header) for header in headers]\n",
    "        def valid_times(times):\n",
    "            for time, next_time, duration in zip(times[:-1], times[1:], self.durations[:-1]):\n",
    "                if next_time-time < duration:\n",
    "                    return False\n",
    "            return True\n",
    "        valid = False\n",
    "        while not valid:\n",
    "            times = (np.random.rand(len(headers)) * (end_time-start_time) + start_time).round().astype(int)\n",
    "            times.sort()\n",
    "            valid = valid_times(times)\n",
    "        self.times = times\n",
    "\n",
    "\n",
    "class Schedule():\n",
    "    def __init__(self, sourced_schedule):\n"
   ]
  },
  {
   "cell_type": "code",
   "execution_count": 12,
   "metadata": {},
   "outputs": [
    {
     "data": {
      "text/plain": [
       "{'getting_out_of_bed': [[6, 0], [9, 0]],\n",
       " 'brushing_teeth': [[6, 0], [9, 0]],\n",
       " 'showering': [[7, 0], [9, 0]],\n",
       " 'breakfast': [[7, 0], [9, 0]],\n",
       " 'getting_dressed': [[9, 0], [10, 0]],\n",
       " 'leave_home': [[10, 0], [12, 0]],\n",
       " 'coming_back_home': [[5, 0], [6, 0]],\n",
       " 'watching_tv': [[5, 0], [6, 0]],\n",
       " 'dinner': [[6, 0], [8, 0]],\n",
       " 'take_out_trash': [[8, 0], [9, 0]],\n",
       " 'taking_medication': [[8, 30], [9, 30]],\n",
       " 'sleeping': [[10, 0], [11, 0]]}"
      ]
     },
     "execution_count": 12,
     "metadata": {},
     "output_type": "execute_result"
    }
   ],
   "source": [
    "schedule_file = 'sourcedSchedules/example.json'\n",
    "with open(schedule_file) as f:\n",
    "    schedule = json.load(f)"
   ]
  }
 ],
 "metadata": {
  "interpreter": {
   "hash": "4cffe7c9c5b16c39ad8342f96bfb2ea1c3f8c12324c2ee5fa5fb5a776efa78cb"
  },
  "kernelspec": {
   "display_name": "Python 3.7.4 64-bit ('.venv': venv)",
   "language": "python",
   "name": "python3"
  },
  "language_info": {
   "codemirror_mode": {
    "name": "ipython",
    "version": 3
   },
   "file_extension": ".py",
   "mimetype": "text/x-python",
   "name": "python",
   "nbconvert_exporter": "python",
   "pygments_lexer": "ipython3",
   "version": "3.7.4"
  },
  "orig_nbformat": 4
 },
 "nbformat": 4,
 "nbformat_minor": 2
}
