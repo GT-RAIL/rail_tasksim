{
 "cells": [
  {
   "cell_type": "markdown",
   "metadata": {},
   "source": [
    "#### For every routine\n",
    "#### Sample times per activity\n",
    "#### Check for overlaps and get actions in order\n",
    "#### Create single script with times\n",
    "#### Execute to get timestamped graphs ***"
   ]
  },
  {
   "cell_type": "code",
   "execution_count": null,
   "metadata": {},
   "outputs": [],
   "source": [
    "%load_ext autoreload\n",
    "%autoreload 2\n",
    "\n",
    "import json\n",
    "import os\n",
    "import shutil\n",
    "import numpy as np\n",
    "from random import random\n",
    "\n",
    "sys.path.append('simulation')\n",
    "from evolving_graph.scripts import Script, parse_script_line\n",
    "import evolving_graph.utils as utils\n",
    "from evolving_graph.scripts import read_script, read_script_from_string, read_script_from_list_string, ScriptParseException, Action\n",
    "from evolving_graph.execution import ScriptExecutor\n",
    "from evolving_graph.environment import EnvironmentGraph\n",
    "\n",
    "from GraphReader import GraphReader, init_graph_file, scene_num\n",
    "from ProgramExecutor import read_program"
   ]
  },
  {
   "cell_type": "code",
   "execution_count": null,
   "metadata": {},
   "outputs": [],
   "source": [
    "def time_internal(mins, hrs, day):\n",
    "    return int(round(((((day)*24)+hrs)*60+mins)/DT))\n",
    "\n",
    "def day_num(day_of_week):\n",
    "    return {'Monday':0,'Tuesday':1,'Wednesday':2,'Thursday':3,'Friday':4,'Saturday':5,'Sunday':6}[day_of_week]"
   ]
  },
  {
   "cell_type": "code",
   "execution_count": null,
   "metadata": {},
   "outputs": [],
   "source": [
    "init_graph = GraphReader(graph_file=init_graph_file)\n",
    "print(f'Using scene {int(scene_num)-1}, i.e. \\'TestScene{scene_num}\\'')"
   ]
  },
  {
   "cell_type": "code",
   "execution_count": null,
   "metadata": {},
   "outputs": [],
   "source": [
    "DT = 1   # minutes\n",
    "NUM_REPEAT_ROUTINES = 5\n",
    "WEEKEND_DAYS = [day_num(day) for day in ['Saturday','Sunday']]\n",
    "INTERLEAVING = True\n",
    "START_TIME = (5,50)\n",
    "END_TIME = (24,00)\n",
    "\n",
    "DATASET_DIR = 'sourcedRoutines/trial'\n",
    "if os.path.exists(DATASET_DIR):\n",
    "    shutil.rmtree(DATASET_DIR)\n",
    "os.makedirs(DATASET_DIR)"
   ]
  },
  {
   "cell_type": "code",
   "execution_count": null,
   "metadata": {},
   "outputs": [],
   "source": [
    "class Activity():\n",
    "    def __init__(self, name, time, script_file=None):\n",
    "        self.name = name\n",
    "        start_time = time[0][0]*60 + time[0][1]\n",
    "        end_time = time[1][0]*60 + time[1][1]\n",
    "        directory = os.path.join('sourcedScripts', name)\n",
    "        if script_file is None:\n",
    "            script_file = np.random.choice(os.listdir(directory))\n",
    "            headers, self.scripts = read_program(os.path.join(directory,script_file), init_graph.node_map)\n",
    "        def sample_duration(header):\n",
    "            durations = (header).split('-')\n",
    "            assert len(durations)==2, f\"Invalid comment {header} in {name}->{script_file}\"\n",
    "            duration_min = int(durations[0].strip())\n",
    "            duration_max = int(durations[1].strip())\n",
    "            duration_sampled = random() * (duration_max-duration_min) + duration_min\n",
    "            return duration_sampled\n",
    "        self.durations = [sample_duration(header) for header in headers]\n",
    "        def valid_times(times):\n",
    "            for time, next_time, duration in zip(times[:-1], times[1:], self.durations[:-1]):\n",
    "                if next_time-time < duration:\n",
    "                    return False\n",
    "            return True\n",
    "        valid = False\n",
    "        while not valid:\n",
    "            times = (np.random.rand(len(headers)) * (end_time-start_time) + start_time).round().astype(int)\n",
    "            times.sort()\n",
    "            valid = valid_times(times)\n",
    "        self.times = times\n",
    "    \n",
    "    def get_action_info(self):\n",
    "        detailed_actions = []\n",
    "        for t,d,scr in zip(self.times, self.durations, self.scripts):\n",
    "            t2 = int(round(t+d))\n",
    "            detailed_actions.append({'time_from':t, 'time_to':t2, 'name':self.name, 'script':scr, 'time_from_h':'{:02d}:{:02d}'.format(t//60, t%60), 'time_to_h':'{:02d}:{:02d}'.format(t2//60, t2%60)})\n",
    "        return detailed_actions\n",
    "\n",
    "class Schedule():\n",
    "    def __init__(self, schedule_file_path=None):\n",
    "        if schedule_file_path is None:\n",
    "            schedule_options = []\n",
    "            for (root,_,files) in os.walk('sourcedSchedules'):\n",
    "                schedule_options += [os.path.join(root,f) for f in files]\n",
    "            schedule_file_path = np.random.choice(schedule_options)\n",
    "        with open(schedule_file_path) as f:\n",
    "            schedule = json.load(f)\n",
    "        self.activities = [Activity(act_name, act_time) for act_name,act_time in schedule.items()]\n",
    "    \n",
    "    def get_combined_script(self, verbose=False):\n",
    "        all_actions = []\n",
    "        for act in self.activities:\n",
    "            all_actions += act.get_action_info()\n",
    "        all_actions.sort(key = lambda x : x['time_from'])\n",
    "        if verbose:\n",
    "            for a in all_actions:\n",
    "                print (a['time_from_h']+' to '+a['time_to_h']+' : '+a['name'])\n",
    "                for l in a['script']:\n",
    "                    print(' - ',l)\n",
    "        valid=True\n",
    "        for end_time, next_start in zip([a['time_to'] for a in all_actions[:-1]], [a['time_from'] for a in all_actions[1:]]):\n",
    "            if end_time>next_start:\n",
    "                valid = False\n",
    "                if verbose:\n",
    "                    print(f'End time {end_time} of an activity, exceeds start time {next_start} of next activity')\n",
    "                break\n",
    "        return all_actions, valid\n",
    "\n",
    "def get_graphs(all_actions):\n",
    "    with open (init_graph_file,'r') as f:\n",
    "        init_graph = EnvironmentGraph(json.load(f))\n",
    "    name_equivalence = utils.load_name_equivalence()\n",
    "    executor = ScriptExecutor(init_graph, name_equivalence)\n",
    "    graphs = []\n",
    "    for action in all_actions:\n",
    "        print('Executing : ')\n",
    "        for l in action['script']:\n",
    "            print(' - ',str(l))\n",
    "        success, state, _ = executor.execute(Script(action['script']), w_graph_list=False)\n",
    "        if not success:\n",
    "            raise RuntimeError('Execution of {} starting at {} failed'.format(action['name'], action['time_from_h']))\n",
    "        graphs.append(state._graph)\n",
    "    return graphs\n",
    "\n"
   ]
  },
  {
   "cell_type": "code",
   "execution_count": null,
   "metadata": {},
   "outputs": [],
   "source": [
    "s = Schedule()\n",
    "actions, valid = s.get_combined_script()\n",
    "graphs = get_graphs(actions)"
   ]
  }
 ],
 "metadata": {
  "interpreter": {
   "hash": "4cffe7c9c5b16c39ad8342f96bfb2ea1c3f8c12324c2ee5fa5fb5a776efa78cb"
  },
  "kernelspec": {
   "display_name": "Python 3.7.4 64-bit ('.venv': venv)",
   "language": "python",
   "name": "python3"
  },
  "language_info": {
   "codemirror_mode": {
    "name": "ipython",
    "version": 3
   },
   "file_extension": ".py",
   "mimetype": "text/x-python",
   "name": "python",
   "nbconvert_exporter": "python",
   "pygments_lexer": "ipython3",
   "version": "3.6.9"
  },
  "orig_nbformat": 4
 },
 "nbformat": 4,
 "nbformat_minor": 2
}
