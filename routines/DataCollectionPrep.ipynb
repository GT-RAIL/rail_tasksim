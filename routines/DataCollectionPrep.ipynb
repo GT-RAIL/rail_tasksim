{
 "cells": [
  {
   "cell_type": "markdown",
   "metadata": {},
   "source": [
    "## Setup the Simulator"
   ]
  },
  {
   "cell_type": "code",
   "execution_count": 25,
   "metadata": {},
   "outputs": [
    {
     "name": "stdout",
     "output_type": "stream",
     "text": [
      "The autoreload extension is already loaded. To reload it, use:\n",
      "  %reload_ext autoreload\n",
      "Using scene 1, i.e. TrimmedTestScene2\n"
     ]
    }
   ],
   "source": [
    "%load_ext autoreload\n",
    "%autoreload 2\n",
    "\n",
    "\n",
    "import os\n",
    "import json\n",
    "import numpy as np\n",
    "import sys\n",
    "sys.path.append('..')\n",
    "sys.path.append('../simulation')\n",
    "from dataset_utils import execute_script_utils as utils\n",
    "from evolving_graph import scripts\n",
    "from GraphReader import GraphReader, remove_nodes_from_graph, reference_graph_file, base_graph_file, init_graph_file, scene_num\n",
    "\n",
    "print(f'Using scene {int(scene_num)-1}, i.e. TrimmedTestScene{scene_num}')"
   ]
  },
  {
   "cell_type": "markdown",
   "metadata": {},
   "source": [
    "## Add necessary objects"
   ]
  },
  {
   "cell_type": "markdown",
   "metadata": {},
   "source": [
    "Some objects need to be removed."
   ]
  },
  {
   "cell_type": "code",
   "execution_count": 26,
   "metadata": {},
   "outputs": [],
   "source": [
    "nodes = ['phone', 'cellphone', 'dresser', 'keyboard', 'orchid', 'pillow']\n",
    "remove_nodes_from_graph(reference_graph_file, nodes, base_graph_file)"
   ]
  },
  {
   "cell_type": "code",
   "execution_count": 27,
   "metadata": {},
   "outputs": [],
   "source": [
    "base_graph = GraphReader(base_graph_file)"
   ]
  },
  {
   "cell_type": "markdown",
   "metadata": {},
   "source": [
    "Fill in objects placements in `AddObjects.py` with statements of the form :\n",
    " ```\n",
    " base_graph.add(\"food_apple\", \"ON\", ref_nodes['dining_room']['kitchen_counter'])\n",
    " ```"
   ]
  },
  {
   "cell_type": "markdown",
   "metadata": {},
   "source": [
    "### Some 'furniture' was missing in the graphs so we add them first"
   ]
  },
  {
   "cell_type": "code",
   "execution_count": 28,
   "metadata": {},
   "outputs": [],
   "source": [
    "ref_nodes = base_graph.usable_nodes_by_room\n",
    "\n",
    "washing_machine_id = base_graph.new_obj_id\n",
    "base_graph.add(\"washing_machine\", \"INSIDE\", ref_nodes['dining_room']['dining_room'], category=\"Appliances\")\n",
    "base_graph.usable_nodes_by_room['dining_room']['washing_machine'] = washing_machine_id\n",
    "base_graph.new_obj_id += 1\n",
    "\n",
    "stove_id = base_graph.new_obj_id\n",
    "base_graph.add(\"stove\", \"ON\", ref_nodes['dining_room']['kitchen_counter'], category=\"Appliances\")\n",
    "base_graph.usable_nodes_by_room['dining_room']['stove'] = stove_id\n",
    "base_graph.new_obj_id += 1\n",
    "\n",
    "cabinet_id = base_graph.new_obj_id\n",
    "base_graph.add(\"kitchen_cabinet\", \"INSIDE\", ref_nodes['dining_room']['dining_room'], category=\"Furniture\")\n",
    "base_graph.usable_nodes_by_room['dining_room']['kitchen_cabinet'] = cabinet_id\n",
    "base_graph.new_obj_id += 1\n",
    "\n",
    "fridge_id = base_graph.new_obj_id\n",
    "base_graph.add(\"fridge\", \"INSIDE\", ref_nodes['dining_room']['dining_room'], category=\"Appliances\")\n",
    "base_graph.usable_nodes_by_room['dining_room']['fridge'] = fridge_id\n",
    "base_graph.new_obj_id += 1\n",
    "\n",
    "dresser_id = base_graph.new_obj_id\n",
    "base_graph.add(\"dresser\", \"INSIDE\", ref_nodes['bedroom']['bedroom'], category=\"Furniture\")\n",
    "base_graph.usable_nodes_by_room['bedroom']['dresser'] = dresser_id\n",
    "base_graph.new_obj_id += 1\n",
    "\n",
    "shoe_rack_id = base_graph.new_obj_id\n",
    "base_graph.add(\"shoe_rack\", \"INSIDE\", ref_nodes['dining_room']['dining_room'], category=\"Furniture\")\n",
    "base_graph.usable_nodes_by_room['dining_room']['shoe_rack'] = shoe_rack_id\n",
    "base_graph.new_obj_id += 1\n",
    "\n",
    "\n",
    "base_graph.node_map['<washing_machine>'] = f'<washing_machine> ({washing_machine_id})'\n",
    "base_graph.node_map['<stove>'] = f'<stove> ({stove_id})'\n",
    "base_graph.node_map['<kitchen_cabinet>'] = f'<kitchen_cabinet> ({cabinet_id})'\n",
    "base_graph.node_map['<fridge>'] = f'<fridge> ({fridge_id})'\n",
    "base_graph.node_map['<dresser>'] = f'<dresser> ({dresser_id})'\n",
    "base_graph.node_map['<shoe_rack>'] = f'<shoe_rack> ({shoe_rack_id})'"
   ]
  },
  {
   "cell_type": "code",
   "execution_count": 29,
   "metadata": {},
   "outputs": [
    {
     "name": "stdout",
     "output_type": "stream",
     "text": [
      "List of available locations :\n",
      "#####  bathroom  #####\n",
      "['bathroom', 'bathroom_cabinet', 'bathroom_counter', 'ceilinglamp', 'curtain', 'door', 'drawing', 'faucet', 'light', 'mat', 'shower', 'sink', 'toilet', 'walllamp']\n",
      "#####  dining_room  #####\n",
      "['bench', 'bookshelf', 'ceilinglamp', 'coffe_maker', 'cupboard', 'dining_room', 'dishwasher', 'door', 'drawing', 'dresser', 'faucet', 'freezer', 'fridge', 'kitchen_cabinet', 'kitchen_counter', 'knifeblock', 'light', 'mat', 'microwave', 'oven', 'pot', 'powersocket', 'shoe_rack', 'sink', 'stove', 'stovefan', 'table', 'toaster', 'trashcan', 'tray', 'tvstand', 'walllamp', 'washing_machine']\n",
      "#####  bedroom  #####\n",
      "['bed', 'bedroom', 'bookshelf', 'ceilinglamp', 'chair', 'computer', 'cpuscreen', 'curtain', 'desk', 'door', 'drawing', 'dresser', 'filing_cabinet', 'light', 'mat', 'mouse', 'mousepad', 'nightstand', 'photoframe', 'sofa', 'table', 'tablelamp']\n",
      "#####  home_office  #####\n",
      "['bookshelf', 'ceilinglamp', 'chair', 'computer', 'cpuscreen', 'curtain', 'desk', 'door', 'drawing', 'hanger', 'home_office', 'light', 'mat', 'mouse', 'mousepad', 'powersocket', 'sofa', 'table', 'television', 'tvstand', 'walllamp']\n",
      "#####  outside  #####\n",
      "['outside']\n"
     ]
    }
   ],
   "source": [
    "print('List of available locations :')\n",
    "for room,nodelist in ref_nodes.items():\n",
    "    print('##### ',room,' #####')\n",
    "    furniture = list(nodelist.keys())\n",
    "    furniture.sort()\n",
    "    print(furniture)"
   ]
  },
  {
   "cell_type": "code",
   "execution_count": 30,
   "metadata": {},
   "outputs": [
    {
     "name": "stdout",
     "output_type": "stream",
     "text": [
      "States not found for bleach\n",
      "States not found for bottlebrush\n",
      "States not found for dishtowel\n",
      "States not found for disinfectant_wipes\n",
      "States not found for dustbrush\n",
      "States not found for featherduster\n",
      "States not found for kitchentowel\n",
      "States not found for magiceraser\n",
      "States not found for multicleaner\n",
      "States not found for recyclebin\n",
      "States not found for scouringpad\n",
      "States not found for scraper\n",
      "States not found for scrubber\n",
      "States not found for steelwool\n",
      "States not found for trashbag\n",
      "States not found for washcloth\n",
      "States not found for whiskbroom\n"
     ]
    }
   ],
   "source": [
    "%run -i 'AddObjects.py'"
   ]
  },
  {
   "cell_type": "code",
   "execution_count": 31,
   "metadata": {},
   "outputs": [],
   "source": [
    "base_graph.write(init_graph_file)"
   ]
  },
  {
   "cell_type": "code",
   "execution_count": 32,
   "metadata": {},
   "outputs": [],
   "source": [
    "with open('ActivityObjects.json') as f:\n",
    "    activities = list(json.load(f).keys())\n",
    "\n",
    "for act in activities:\n",
    "    activity_dir = os.path.join('data/sourcedScriptsByActivity',act)\n",
    "    if not os.path.exists(activity_dir):\n",
    "        os.makedirs(activity_dir)"
   ]
  },
  {
   "cell_type": "code",
   "execution_count": null,
   "metadata": {},
   "outputs": [],
   "source": []
  }
 ],
 "metadata": {
  "interpreter": {
   "hash": "6c44053934534b20d3a940e90c6cf7ed3394be216f46c73e9aa30edae98e616b"
  },
  "kernelspec": {
   "display_name": "Python 3.6.9 64-bit ('.venv': virtualenv)",
   "name": "python3"
  },
  "language_info": {
   "codemirror_mode": {
    "name": "ipython",
    "version": 3
   },
   "file_extension": ".py",
   "mimetype": "text/x-python",
   "name": "python",
   "nbconvert_exporter": "python",
   "pygments_lexer": "ipython3",
   "version": "3.6.9"
  },
  "orig_nbformat": 4
 },
 "nbformat": 4,
 "nbformat_minor": 2
}
