{
  "cells": [
    {
      "cell_type": "markdown",
      "metadata": {
        "id": "EJjxgRy6PeS8"
      },
      "source": [
        "# Welcome to our script collection!!\n",
        "\n",
        "This notebook will walk you through the steps of writing as many scripts as you want and eventually download your work for submission. You can run each cell by moving your mouse to the top left of the cell and clickin on the 'play' icon that appears. Enjoy scripting and feel free to ask us any questions!"
      ]
    },
    {
      "cell_type": "code",
      "execution_count": 1,
      "metadata": {},
      "outputs": [],
      "source": [
        "%load_ext autoreload\n",
        "%autoreload 2"
      ]
    },
    {
      "cell_type": "code",
      "execution_count": 2,
      "metadata": {
        "id": "7wtp9It35erI"
      },
      "outputs": [],
      "source": [
        "#@title Run this cell once at the start of a session to download the necessary prerequisites\n",
        "# ! rm -r RoutinesDataCollection\n",
        "# ! git clone https://github.com/Maithili/RoutinesDataCollection.git\n",
        "\n",
        "# %load_ext autoreload\n",
        "# %autoreload 2"
      ]
    },
    {
      "cell_type": "code",
      "execution_count": 3,
      "metadata": {
        "cellView": "form",
        "id": "Orkoeno65c3w"
      },
      "outputs": [],
      "source": [
        "# #@title Add your name : \n",
        "# #@markdown Run this cell, enter your first name and press enter\n",
        "\n",
        "# name = input('Enter your first name: ')"
      ]
    },
    {
      "cell_type": "code",
      "execution_count": 4,
      "metadata": {
        "cellView": "form",
        "id": "-wdsPFdl5c3v"
      },
      "outputs": [
        {
          "name": "stdout",
          "output_type": "stream",
          "text": [
            "(16, 'shower', 'bathroom') exists! (34, 'walllamp', 'bathroom') exists! (61, 'door', 'dining_room') exists! (110, 'drawing', 'dining_room') exists! (113, 'bench', 'dining_room') exists! (117, 'cupboard', 'dining_room') exists! (119, 'kitchen_counter', 'dining_room') exists! (119, 'kitchen_counter', 'dining_room') exists! (137, 'ceilinglamp', 'dining_room') exists! (139, 'walllamp', 'dining_room') exists! (139, 'walllamp', 'dining_room') exists! (192, 'nightstand', 'bedroom') exists! (201, 'drawing', 'bedroom') exists! (204, 'curtain', 'bedroom') exists! (204, 'curtain', 'bedroom') exists! (238, 'tablelamp', 'bedroom') exists! (289, 'curtain', 'home_office') exists! (289, 'curtain', 'home_office') exists! (292, 'hanger', 'home_office') exists! (292, 'hanger', 'home_office') exists! (304, 'walllamp', 'home_office') exists! (304, 'walllamp', 'home_office') exists! (304, 'walllamp', 'home_office') exists! (38, 'door', 'bathroom') exists! (61, 'door', 'dining_room') exists! (61, 'door', 'dining_room') exists! (61, 'door', 'dining_room') exists! (78, 'pot', 'dining_room') exists! (281, 'television', 'home_office') exists! (132, 'toaster', 'dining_room') exists! (128, 'tray', 'dining_room') exists! \n",
            "\n",
            "Using scene 1\n",
            "\n",
            "\n",
            "Your environment has four rooms: bathroom, dining room, bedroom, home office.\n",
            "These are all the objects present in your environment, categorized by the rooms.\n",
            "\n",
            "############################################  bathroom  ############################################\n",
            "after_shave           bathroom              bathroom_cabinet      bathroom_counter      blow_dryer            \n",
            "ceilinglamp           ceilinglamp_bathroom  comb                  conditioner           curtain               \n",
            "curtain_bathroom      deodorant             door                  door_bathroom         door_bathroom1        \n",
            "drawing               drawing_bathroom      electric_shaver       face_soap             facial_cleanser       \n",
            "faucet                faucet_bathroom       hairbrush             hairdryer             light                 \n",
            "light_bathroom        mat                   mat_bathroom          mouthwash             nail_polish           \n",
            "napkin                painkillers           perfume               razor                 shampoo               \n",
            "shaving_cream         shower                shower_bathroom1      sink                  sink_bathroom         \n",
            "soap                  spectacles            toilet                toilet_paper          tooth_paste           \n",
            "toothbrush            toothbrush_holder     towel                 towel_rack            walllamp              \n",
            "walllamp_bathroom     walllamp_bathroom1    \n",
            "\n",
            "##########################################  dining_room  ###########################################\n",
            "basket_for_clothes            bench                         bench_dining_room1            bleach                        \n",
            "blender                       bookshelf                     bookshelf_dining_room         bottlebrush                   \n",
            "bowl                          broom                         brush                         ceilinglamp_dining_room       \n",
            "ceilinglamp_dining_room1      chef_knife                    cleaning_bottle               cleaning_solution             \n",
            "cloth_napkin                  coffe_maker                   coffee                        coffee_cup                    \n",
            "coffee_filter                 coffee_pot                    colander                      cookingpot                    \n",
            "crackers                      cup                           cupboard                      cupboard_dining_room1         \n",
            "cutting_board                 detergent                     dining_room                   dish_soap                     \n",
            "dishrack                      dishtowel                     dishwasher                    disinfectant_wipes            \n",
            "door_dining_room              door_dining_room1             door_dining_room2             door_dining_room3             \n",
            "door_dining_room4             dough                         drawing_dining_room           drawing_dining_room1          \n",
            "drinking_glass                dry_pasta                     drying_rack                   dustbrush                     \n",
            "duster                        dustpan                       faucet_dining_room            featherduster                 \n",
            "food_apple                    food_bacon                    food_banana                   food_bread                    \n",
            "food_butter                   food_cake                     food_carrot                   food_cereal                   \n",
            "food_cheese                   food_chicken                  food_dessert                  food_donut                    \n",
            "food_egg                      food_fish                     food_food                     food_fruit                    \n",
            "food_hamburger                food_ice_cream                food_jam                      food_kiwi                     \n",
            "food_lemon                    food_noodles                  food_oatmeal                  food_onion                    \n",
            "food_orange                   food_peach                    food_peanut_butter            food_pizza                    \n",
            "food_potato                   food_rice                     food_salt                     food_snack                    \n",
            "food_steak                    food_sugar                    food_turkey                   food_vegetable                \n",
            "fork                          freezer                       fridge                        fryingpan                     \n",
            "garbage_can                   ground_coffee                 ice                           jelly                         \n",
            "juice                         kettle                        keys                          kitchen_cabinet               \n",
            "kitchen_counter               kitchen_counter_dining_room1  kitchen_counter_dining_room2  kitchentowel                  \n",
            "knife                         knifeblock                    laundry_detergent             light_dining_room             \n",
            "magiceraser                   mat_dining_room               measuring_cup                 microwave                     \n",
            "milk                          mop                           mop_bucket                    mug                           \n",
            "multicleaner                  oil                           oven                          oven_mitts                    \n",
            "paper_towel                   pasta                         plate                         pot                           \n",
            "pot_dining_room1              powersocket                   powersocket_dining_room       purse                         \n",
            "rag                           recyclebin                    sauce                         sauce_pan                     \n",
            "scouringpad                   scraper                       scrubber                      shoe-shine_kit                \n",
            "shoe_rack                     shoes                         sink_dining_room              sponge                        \n",
            "spoon                         steelwool                     stove                         stovefan                      \n",
            "table                         table_cloth                   table_dining_room             tea                           \n",
            "tea_bag                       toaster                       toaster_dining_room1          trashbag                      \n",
            "trashcan                      tray                          tray_dining_room1             tvstand                       \n",
            "tvstand_dining_room           vacuum_cleaner                walllamp_dining_room          walllamp_dining_room1         \n",
            "walllamp_dining_room2         washcloth                     washing_machine               water_glass                   \n",
            "whiskbroom                    wine                          wine_glass                    wooden_spoon                  \n",
            "\n",
            "\n",
            "############################################  bedroom  #############################################\n",
            "alarm_clock          bag                  bed                  bedroom              book                 \n",
            "bookmark             bookshelf_bedroom    candle               ceilinglamp_bedroom  cellphone            \n",
            "chair                chair_bedroom        clothes_dress        clothes_gloves       clothes_hat          \n",
            "clothes_jacket       clothes_pants        clothes_scarf        clothes_shirt        clothes_skirt        \n",
            "clothes_socks        clothes_underwear    comforter            computer             computer_bedroom     \n",
            "cpuscreen            cpuscreen_bedroom    curtain_bedroom      curtain_bedroom1     curtain_bedroom2     \n",
            "desk                 desk_bedroom         door_bedroom         drawing_bedroom      drawing_bedroom1     \n",
            "dresser              filing_cabinet       iron                 ironing_board        light_bedroom        \n",
            "mat_bedroom          mouse                mouse_bedroom        mousepad             mousepad_bedroom     \n",
            "nightstand           nightstand_bedroom1  pajamas              photoframe           pillow               \n",
            "sheets               slippers             sofa                 sofa_bedroom         table_bedroom        \n",
            "tablelamp            tablelamp_bedroom1   \n",
            "\n",
            "##########################################  home_office  ###########################################\n",
            "blanket                  board_game               bookshelf_home_office    cd                       cd_player                \n",
            "ceilinglamp_home_office  chair_home_office        chessboard               computer_home_office     cpuscreen_home_office    \n",
            "curtain_home_office      curtain_home_office1     curtain_home_office2     deck_of_cards            desk_home_office         \n",
            "diary                    door_home_office         drawing_home_office      dvd_player               hanger                   \n",
            "hanger_home_office1      hanger_home_office2      headset                  highlighter              home_office              \n",
            "instrument_guitar        instrument_piano         instrument_violin        keyboard                 laptop                   \n",
            "light_home_office        magazine                 mat_home_office          mouse_home_office        mousepad_home_office     \n",
            "newspaper                note_pad                 notebook                 novel                    pen                      \n",
            "pencil                   phone                    powersocket_home_office  printer                  printing_paper           \n",
            "radio                    remote_control           scrabble                 shredder                 sofa_home_office         \n",
            "table_home_office        telephone                television               television_home_office1  textbook                 \n",
            "tvstand_home_office      video_game_console       video_game_controller    walllamp_home_office     walllamp_home_office1    \n",
            "walllamp_home_office2    walllamp_home_office3    \n",
            "\n",
            "############################################  outside  #############################################\n",
            "groceries  mail       outside    \n"
          ]
        }
      ],
      "source": [
        "#@title Setup the Simulator\n",
        "#@markdown Run this cell to setup your simulation environment\n",
        "\n",
        "import os\n",
        "import json\n",
        "import numpy as np\n",
        "import sys\n",
        "# sys.path.append('RoutinesDataCollection')\n",
        "# sys.path.append('RoutinesDataCollection/simulation')\n",
        "# sys.path.append('RoutinesDataCollection/routines')\n",
        "from GraphReader import GraphReader, init_graph_file, scene_num\n",
        "from ProgramExecutor import execute_program\n",
        "\n",
        "def print_list(l):\n",
        "  width = max([len(obj) for obj in l]) + 2\n",
        "  line = ''\n",
        "  for obj in l:\n",
        "    line = line + obj.ljust(width,' ')\n",
        "    if len(line) > 100:\n",
        "      print(line)\n",
        "      line = ''\n",
        "  print(line)\n",
        "\n",
        "init_graph = GraphReader(init_graph_file)\n",
        "print(f'\\n\\nUsing scene {int(scene_num)-1}')\n",
        "open('program.txt', 'a').close()\n",
        "\n",
        "print('\\n\\nYour environment has four rooms: bathroom, dining room, bedroom, home office.')\n",
        "print('These are all the objects present in your environment, categorized by the rooms.')\n",
        "for room, stuff in init_graph.usable_nodes_by_room.items():\n",
        "    print()\n",
        "    print(('  '+room+'  ').center(100, '#'))\n",
        "    objs = list(stuff.keys())\n",
        "    objs.sort()\n",
        "    print_list(objs)\n",
        "    "
      ]
    },
    {
      "cell_type": "code",
      "execution_count": 5,
      "metadata": {
        "cellView": "form",
        "id": "PLxmU9Rl5c3x"
      },
      "outputs": [
        {
          "ename": "FileNotFoundError",
          "evalue": "[Errno 2] No such file or directory: 'RoutinesDataCollection/routines/ActivityObjects.json'",
          "output_type": "error",
          "traceback": [
            "\u001b[0;31m---------------------------------------------------------------------------\u001b[0m",
            "\u001b[0;31mFileNotFoundError\u001b[0m                         Traceback (most recent call last)",
            "\u001b[1;32m/home/maithili/repos/rail_tasksim/routines/DataCollection.ipynb Cell 6\u001b[0m in \u001b[0;36m<cell line: 4>\u001b[0;34m()\u001b[0m\n\u001b[1;32m      <a href='vscode-notebook-cell://ssh-remote%2B130.207.121.23/home/maithili/repos/rail_tasksim/routines/DataCollection.ipynb#ch0000005vscode-remote?line=0'>1</a>\u001b[0m \u001b[39m#@title Pick your Activity!\u001b[39;00m\n\u001b[1;32m      <a href='vscode-notebook-cell://ssh-remote%2B130.207.121.23/home/maithili/repos/rail_tasksim/routines/DataCollection.ipynb#ch0000005vscode-remote?line=1'>2</a>\u001b[0m \u001b[39m#@markdown Run this cell to see a list of activities and select one.\u001b[39;00m\n\u001b[0;32m----> <a href='vscode-notebook-cell://ssh-remote%2B130.207.121.23/home/maithili/repos/rail_tasksim/routines/DataCollection.ipynb#ch0000005vscode-remote?line=3'>4</a>\u001b[0m \u001b[39mwith\u001b[39;00m \u001b[39mopen\u001b[39;49m(\u001b[39m'\u001b[39;49m\u001b[39mRoutinesDataCollection/routines/ActivityObjects.json\u001b[39;49m\u001b[39m'\u001b[39;49m) \u001b[39mas\u001b[39;00m f:\n\u001b[1;32m      <a href='vscode-notebook-cell://ssh-remote%2B130.207.121.23/home/maithili/repos/rail_tasksim/routines/DataCollection.ipynb#ch0000005vscode-remote?line=4'>5</a>\u001b[0m     activities \u001b[39m=\u001b[39m \u001b[39mlist\u001b[39m(json\u001b[39m.\u001b[39mload(f)\u001b[39m.\u001b[39mkeys())\n\u001b[1;32m      <a href='vscode-notebook-cell://ssh-remote%2B130.207.121.23/home/maithili/repos/rail_tasksim/routines/DataCollection.ipynb#ch0000005vscode-remote?line=5'>6</a>\u001b[0m activities \u001b[39m=\u001b[39m activities[\u001b[39m1\u001b[39m:]\n",
            "\u001b[0;31mFileNotFoundError\u001b[0m: [Errno 2] No such file or directory: 'RoutinesDataCollection/routines/ActivityObjects.json'"
          ]
        }
      ],
      "source": [
        "#@title Pick your Activity!\n",
        "#@markdown Run this cell to see a list of activities and select one.\n",
        "\n",
        "with open('RoutinesDataCollection/routines/ActivityObjects.json') as f:\n",
        "    activities = list(json.load(f).keys())\n",
        "activities = activities[1:]\n",
        "\n",
        "print('Activity Options \\n')\n",
        "print_list(activities)\n",
        "\n",
        "while True:\n",
        "    activity = input('\\nWhich activity do you choose?\\n').lower()\n",
        "    activity = activity.lower()\n",
        "    if activity in activities:\n",
        "        break\n",
        "    else:\n",
        "        print('Activity does not exist! Try again.')\n",
        "\n",
        "if activity not in activities:\n",
        "    raise KeyError('Are you sure you typed the correct activity? Please try again...')\n",
        "\n",
        "activity_dir = os.path.join(name,activity)\n",
        "if not os.path.exists(activity_dir):\n",
        "    os.makedirs(activity_dir)\n",
        "\n",
        "with open('RoutinesDataCollection/routines/ActivityObjects.json') as f:\n",
        "    objs = json.load(f)\n",
        "    available_obj_for_activity = objs[activity] + objs[\"all_activities\"]\n",
        "\n",
        "print('\\n\\n')\n",
        "use_actions = ['Close', 'Drink', 'Eat', 'Find', 'Walk', 'Grab', 'Open', 'Putback', 'Putin', 'Sit', 'Standup', 'Switchoff', 'Switchon',\n",
        "'Turnto', 'Watch', 'Wipe', 'Puton', 'Putoff', 'Greet', 'Read', 'Lie', 'Pour', 'Type', 'Push', 'Pull', 'Wash', 'Rinse', \n",
        "'Scrub', 'Plugin', 'Plugout', 'Cut', 'Eat', 'Sleep', 'Wakeup']\n",
        "print('To do this activity, you can use any of the following actions : \\n')\n",
        "from evolving_graph import scripts\n",
        "action_template = [('['+a.title()+']'+' <.>'*scripts.Action[a].value[1]) for a in scripts.Action.__members__ if a.title() in use_actions]\n",
        "\n",
        "print_list(action_template)\n",
        "\n",
        "\n",
        "print('\\n\\n')\n",
        "print('Objects suitable for the chosen activity are :\\n')\n",
        "for room, stuff in init_graph.expanded_nodes_by_room.items():\n",
        "    available_obj = [full_obj for full_obj,(obj,id) in list(stuff.items()) if obj in available_obj_for_activity]\n",
        "    available_obj.sort()\n",
        "    print(('  '+room+'  ').center(100, '#'))\n",
        "    if(available_obj):\n",
        "      print_list(available_obj)\n"
      ]
    },
    {
      "cell_type": "markdown",
      "metadata": {
        "id": "HhtFDHwvsWtZ"
      },
      "source": [
        "You can copy from the above templates into your scipts and populate them with objects or rooms from the above list. Notice that the that the number of angle brackets signify the number of objects required to specify the action, e.g. `Find` has only one object to specify what to find, whereas `Putin` has two objects specifying what object to put and inside what. Some like `StandUp` and `Sit` might not need an object"
      ]
    },
    {
      "cell_type": "markdown",
      "metadata": {
        "id": "lfpSC-dd5c3z"
      },
      "source": [
        "# Write the Program <br>\n",
        "\n",
        "## Guidelines on writing the program\n",
        "\n",
        "*   The program will be composed of the above actions and can use any of the above objects. You should see the objects relevant to the activity right above this cell, but if you can't find a specific object there, please feel free to scroll further up and refer to the full list of objects. \n",
        "*   Your program should include comments with every few actions specifying how much time you expect those actions to take. Please mention times for as small a set of actions as you can as opposed to writing a single time range for many actions. Every comment must start with `##` and be of the form `<min_time_in_mins> - <max_time_in_mins>`\n",
        "*   All scripts must end with the avatar standing up (as opposed to sitting or lying down) and not holding anything in their hands\n",
        "\n",
        "**The complete syntax of the program is**\n",
        "```\n",
        "## min_time - max_time\n",
        "[Action1] <object1a> <object1b> ...\n",
        "[Action2] <object2a> ...\n",
        "\n",
        "## min_time - max_time\n",
        "[Action3] <object3a> <object3b> ...\n",
        "```\n",
        "\n",
        "Here is a short example.\n",
        "```\n",
        "## 1-2\n",
        "[Walk] <dining_room>\n",
        "[Walk] <food_apple>\n",
        "## 3-4\n",
        "[Find] <food_apple>\n",
        "[Grab] <food_apple>\n",
        "[Walk] <kitchen_counter>\n",
        "[PutBack] <food_apple> <kitchen_counter>\n",
        "```\n",
        "\n",
        "Now, please write the program depicting how you would do the activity you chose. Be creative with the available actions, and write **detailed and realistic** scripts. Prefer using as many objects and locations around the house as you can.\n",
        "\n",
        "Once you write something in the file, you can run the below cell to check if it executes properly. If it doesn't, the output will tell you where it failed, and you can fix the issue and try running it again. We suggest that you iteratively write a couple of lines and run to check them before writing more for easier debugging. \n"
      ]
    },
    {
      "cell_type": "markdown",
      "metadata": {
        "id": "H97HCwNlKr2l"
      },
      "source": [
        "To the left side of your screen you can see a folder icon. Select the icon to find the file `program.txt`. Open that file by double clicking on it. You will write your desired program in this file. \n",
        "\n",
        "## Happy Scripting!!!"
      ]
    },
    {
      "cell_type": "code",
      "execution_count": 10,
      "metadata": {
        "id": "KLCpjTaW5c30"
      },
      "outputs": [
        {
          "name": "stdout",
          "output_type": "stream",
          "text": [
            "Checking scripts...exec info ---- \n",
            "\n",
            "This is how the scene changes after every set of actions...\n",
            "Changes from  [WALK] <dining_room> (41) [1]\n",
            " -  character INSIDE bedroom\n",
            " +  character INSIDE dining_room\n",
            "Changes from  [WALK] <cupboard> (117) [2]\n",
            "Changes from  [OPEN] <cupboard> (117) [3]\n",
            "State change for 117(cupboard) : {'CLOSED'} -> {'OPEN'}\n",
            "Changes from  [FIND] <bowl> (1024) [4]\n",
            "Changes from  [GRAB] <bowl> (1024) [5]\n",
            " -  bowl INSIDE cupboard\n",
            " +  character HOLDS_RH bowl\n",
            "Changes from  [FIND] <cupboard> (117) [6]\n",
            "Changes from  [CLOSE] <cupboard> (117) [7]\n",
            "State change for 117(cupboard) : {'OPEN'} -> {'CLOSED'}\n",
            "Changes from  [WALK] <table> (114) [8]\n",
            "Changes from  [PUTBACK] <bowl> (1024) <table> (114) [9]\n",
            " -  character HOLDS_RH bowl\n",
            " +  bowl ON table\n",
            "Changes from  [FIND] <food_cereal> (1085) [10]\n",
            "Changes from  [FIND] <cupboard> (117) [11]\n",
            "Changes from  [OPEN] <cupboard> (117) [12]\n",
            "State change for 117(cupboard) : {'CLOSED'} -> {'OPEN'}\n",
            "Changes from  [GRAB] <food_cereal> (1085) [13]\n",
            " -  food_cereal INSIDE cupboard\n",
            " +  character HOLDS_RH food_cereal\n",
            "Changes from  [CLOSE] <cupboard> (117) [14]\n",
            "State change for 117(cupboard) : {'OPEN'} -> {'CLOSED'}\n",
            "Changes from  [WALK] <table> (114) [15]\n",
            "Changes from  [FIND] <bowl> (1024) [16]\n",
            "Changes from  [POUR] <food_cereal> (1085) <bowl> (1024) [17]\n",
            "Changes from  [PUTBACK] <food_cereal> (1085) <table> (114) [18]\n",
            " -  character HOLDS_RH food_cereal\n",
            " +  food_cereal ON table\n",
            "Changes from  [WALK] <fridge> (1006) [19]\n",
            "Changes from  [OPEN] <fridge> (1006) [20]\n",
            "State change for 1006(fridge) : {'CLOSED'} -> {'OPEN'}\n",
            "Changes from  [FIND] <milk> (1142) [21]\n",
            "Changes from  [GRAB] <milk> (1142) [22]\n",
            " -  milk INSIDE fridge\n",
            " +  character HOLDS_RH milk\n",
            "Changes from  [CLOSE] <fridge> (1006) [23]\n",
            "State change for 1006(fridge) : {'OPEN'} -> {'CLOSED'}\n",
            "Changes from  [WALK] <table> (114) [24]\n",
            "Changes from  [FIND] <bowl> (1024) [25]\n",
            "Changes from  [POUR] <milk> (1142) <bowl> (1024) [26]\n",
            "Changes from  [PUTBACK] <milk> (1142) <table> (114) [27]\n",
            " -  character HOLDS_RH milk\n",
            " +  milk ON table\n",
            "Changes from  [WALK] <cupboard> (117) [28]\n",
            "Changes from  [OPEN] <cupboard> (117) [29]\n",
            "State change for 117(cupboard) : {'CLOSED'} -> {'OPEN'}\n",
            "Changes from  [FIND] <spoon> (1191) [30]\n",
            "Changes from  [GRAB] <spoon> (1191) [31]\n",
            " -  spoon INSIDE cupboard\n",
            " +  character HOLDS_RH spoon\n",
            "Changes from  [CLOSE] <cupboard> (117) [32]\n",
            "State change for 117(cupboard) : {'OPEN'} -> {'CLOSED'}\n",
            "Changes from  [WALK] <table> (114) [33]\n",
            "Changes from  [FIND] <bowl> (1024) [34]\n",
            "Changes from  [PUTBACK] <spoon> (1191) <bowl> (1024) [35]\n",
            " -  character HOLDS_RH spoon\n",
            " +  spoon ON bowl\n",
            "Changes from  [WALK] <table> (114) [36]\n",
            "Changes from  [FIND] <food_cereal> (1085) [37]\n",
            "Changes from  [EAT] <food_cereal> (1085) [38]\n",
            "Changes from  [FIND] <food_cereal> (1085) [39]\n",
            "Changes from  [GRAB] <food_cereal> (1085) [40]\n",
            " -  food_cereal ON table\n",
            " +  character HOLDS_RH food_cereal\n",
            "Changes from  [WALK] <cupboard> (117) [41]\n",
            "Changes from  [OPEN] <cupboard> (117) [42]\n",
            "State change for 117(cupboard) : {'CLOSED'} -> {'OPEN'}\n",
            "Changes from  [PUTBACK] <food_cereal> (1085) <cupboard> (117) [43]\n",
            " -  character HOLDS_RH food_cereal\n",
            " +  food_cereal ON cupboard\n",
            "Changes from  [CLOSE] <cupboard> (117) [44]\n",
            "State change for 117(cupboard) : {'OPEN'} -> {'CLOSED'}\n",
            "Changes from  [FIND] <milk> (1142) [45]\n",
            "Changes from  [GRAB] <milk> (1142) [46]\n",
            " -  milk ON table\n",
            " +  character HOLDS_RH milk\n",
            "Changes from  [WALK] <fridge> (1006) [47]\n",
            "Changes from  [OPEN] <fridge> (1006) [48]\n",
            "State change for 1006(fridge) : {'CLOSED'} -> {'OPEN'}\n",
            "Changes from  [PUTBACK] <milk> (1142) <fridge> (1006) [49]\n",
            " -  character HOLDS_RH milk\n",
            " +  milk ON fridge\n",
            "Changes from  [CLOSE] <fridge> (1006) [50]\n",
            "State change for 1006(fridge) : {'OPEN'} -> {'CLOSED'}\n",
            "Changes from  [WALK] <table> (114) [51]\n",
            "Changes from  [FIND] <bowl> (1024) [52]\n",
            "Changes from  [GRAB] <bowl> (1024) [53]\n",
            " -  bowl ON table\n",
            " +  character HOLDS_RH bowl\n",
            " +  character HOLDS_RH spoon\n",
            "Changes from  [FIND] <spoon> (1191) [54]\n",
            "Changes from  [GRAB] <spoon> (1191) [55]\n",
            "Changes from  [WALK] <sink> (120) [56]\n",
            "Changes from  [PUTBACK] <bowl> (1024) <sink> (120) [57]\n",
            " -  character HOLDS_RH bowl\n",
            " -  character HOLDS_RH spoon\n",
            " +  bowl ON sink\n",
            "Changes from  [FIND] <spoon> (1191) [58]\n",
            "Changes from  [GRAB] <spoon> (1191) [59]\n",
            " -  spoon ON bowl\n",
            " +  character HOLDS_RH spoon\n",
            "Changes from  [PUTBACK] <spoon> (1191) <sink> (120) [60]\n",
            " -  character HOLDS_RH spoon\n",
            " +  spoon ON sink\n",
            "Changes from  [WALK] <sink> (120) [61]\n",
            "Changes from  [FIND] <bowl> (1024) [62]\n",
            "Changes from  [GRAB] <bowl> (1024) [63]\n",
            " -  bowl ON sink\n",
            " +  character HOLDS_RH bowl\n",
            "Changes from  [WASH] <bowl> (1024) [64]\n",
            "Changes from  [WALK] <cupboard> (117) [65]\n",
            "Changes from  [PUTBACK] <bowl> (1024) <cupboard> (117) [66]\n",
            " -  character HOLDS_RH bowl\n",
            " +  bowl ON cupboard\n",
            "Changes from  [WALK] <sink> (120) [67]\n",
            "Changes from  [FIND] <spoon> (1191) [68]\n",
            "Changes from  [GRAB] <spoon> (1191) [69]\n",
            " -  spoon ON sink\n",
            " +  character HOLDS_RH spoon\n",
            "Changes from  [WASH] <spoon> (1191) [70]\n",
            "Changes from  [WALK] <cupboard> (117) [71]\n",
            "Changes from  [PUTBACK] <spoon> (1191) <cupboard> (117) [72]\n",
            " -  character HOLDS_RH spoon\n",
            " +  spoon ON cupboard\n",
            "Execution successful!!\n",
            "Checking final state...Final state OK\n",
            "\n"
          ]
        }
      ],
      "source": [
        "#@title Check if your script works...\n",
        "#@markdown Run this cell to execute your script and check for failures\n",
        "\n",
        "execute_program(program_file='program.txt', graph_file=init_graph_file, node_map=init_graph.node_map, verbose=True)"
      ]
    },
    {
      "cell_type": "markdown",
      "metadata": {
        "id": "s9yRi4G_5c30"
      },
      "source": [
        "## Satisfied with your script?\n",
        "\n",
        "Remember, the script must execute and not throw errors on the above cell. We value detailed scripts which use a lot of actions and locations and have fine-grained time ranges!\n",
        "\n",
        "If everything looks good, please run the following cell to move the script to your database :) It will print the contents of the file; be sure to check that it is the script you want!"
      ]
    },
    {
      "cell_type": "code",
      "execution_count": null,
      "metadata": {
        "id": "Ib1Zl-vR5c30"
      },
      "outputs": [],
      "source": [
        "#@title Move script to the database\n",
        "#@markdown Run this cell to move your script to the database\n",
        "\n",
        "existing_files = [int(os.path.splitext(file)[0]) for file in os.listdir(activity_dir)]\n",
        "if existing_files:\n",
        "    new_file = os.path.join(activity_dir, str(max(existing_files)+1)+'.txt')\n",
        "else:\n",
        "    new_file = os.path.join(activity_dir, '0.txt')\n",
        "print(f'Saving your awesome script at {new_file} \\n\\n\\n')\n",
        "os.rename('program.txt',new_file)\n",
        "open('program.txt', 'a').close()\n",
        "\n",
        "! cat $new_file"
      ]
    },
    {
      "cell_type": "markdown",
      "metadata": {
        "id": "mwrHkl2B5c31"
      },
      "source": [
        "# Hurray! You did it :)\n",
        "\n",
        "To write another script, you can go back to the 'Pick your activity' section and follow the process over again!\n",
        "\n",
        "If you are done, proceed with the following cell to download your work."
      ]
    },
    {
      "cell_type": "code",
      "execution_count": null,
      "metadata": {
        "cellView": "form",
        "id": "crnSJxfiLzty"
      },
      "outputs": [],
      "source": [
        "# #@title  Download your scripts for submission\n",
        "# #@markdown Run this cell once at the end of your session to download your work\n",
        "\n",
        "# from google.colab import files\n",
        "# !zip -r ./$name\\_scripts.zip ./$name\n",
        "# files.download(f\"./{name}_scripts.zip\")"
      ]
    },
    {
      "cell_type": "markdown",
      "metadata": {
        "id": "Qcwe2B2zPEDn"
      },
      "source": [
        "# Thank you for participating!"
      ]
    }
  ],
  "metadata": {
    "colab": {
      "collapsed_sections": [],
      "name": "DataCollection.ipynb",
      "private_outputs": true,
      "provenance": []
    },
    "kernelspec": {
      "display_name": "Python 3.8.12 ('pyml')",
      "language": "python",
      "name": "python3"
    },
    "language_info": {
      "codemirror_mode": {
        "name": "ipython",
        "version": 3
      },
      "file_extension": ".py",
      "mimetype": "text/x-python",
      "name": "python",
      "nbconvert_exporter": "python",
      "pygments_lexer": "ipython3",
      "version": "3.8.12"
    },
    "vscode": {
      "interpreter": {
        "hash": "6f2dbfa5ef75a9144d7b0485e8c79d6707cb4300dbf38d3b3596c375ba449bc0"
      }
    }
  },
  "nbformat": 4,
  "nbformat_minor": 0
}
