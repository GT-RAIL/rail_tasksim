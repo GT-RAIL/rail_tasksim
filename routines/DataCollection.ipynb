{
  "cells": [
    {
      "cell_type": "markdown",
      "metadata": {
        "id": "EJjxgRy6PeS8"
      },
      "source": [
        "# Welcome to our script collection!!\n",
        "\n",
        "This notebook will walk you through the steps of writing as many scripts as you want and eventually download your work for submission. You can run each cell by moving your mouse to the top left of the cell and clickin on the 'play' icon that appears. Enjoy scripting and feel free to ask us any questions!"
      ]
    },
    {
      "cell_type": "code",
      "execution_count": null,
      "metadata": {},
      "outputs": [],
      "source": [
        "%load_ext autoreload\n",
        "%autoreload 2"
      ]
    },
    {
      "cell_type": "code",
      "execution_count": null,
      "metadata": {
        "id": "7wtp9It35erI"
      },
      "outputs": [],
      "source": [
        "#@title Run this cell once at the start of a session to download the necessary prerequisites\n",
        "# ! rm -r RoutinesDataCollection\n",
        "# ! git clone https://github.com/Maithili/RoutinesDataCollection.git\n",
        "\n",
        "# %load_ext autoreload\n",
        "# %autoreload 2"
      ]
    },
    {
      "cell_type": "code",
      "execution_count": null,
      "metadata": {
        "cellView": "form",
        "id": "Orkoeno65c3w"
      },
      "outputs": [],
      "source": [
        "# #@title Add your name : \n",
        "# #@markdown Run this cell, enter your first name and press enter\n",
        "\n",
        "# name = input('Enter your first name: ')"
      ]
    },
    {
      "cell_type": "code",
      "execution_count": null,
      "metadata": {
        "cellView": "form",
        "id": "-wdsPFdl5c3v"
      },
      "outputs": [],
      "source": [
        "#@title Setup the Simulator\n",
        "#@markdown Run this cell to setup your simulation environment\n",
        "\n",
        "import os\n",
        "import json\n",
        "import numpy as np\n",
        "import sys\n",
        "# sys.path.append('RoutinesDataCollection')\n",
        "# sys.path.append('RoutinesDataCollection/simulation')\n",
        "# sys.path.append('RoutinesDataCollection/routines')\n",
        "from GraphReader import GraphReader, init_graph_file, scene_num\n",
        "from ProgramExecutor import execute_program\n",
        "\n",
        "def print_list(l):\n",
        "  width = max([len(obj) for obj in l]) + 2\n",
        "  line = ''\n",
        "  for obj in l:\n",
        "    line = line + obj.ljust(width,' ')\n",
        "    if len(line) > 100:\n",
        "      print(line)\n",
        "      line = ''\n",
        "  print(line)\n",
        "\n",
        "init_graph = GraphReader(init_graph_file)\n",
        "print(f'\\n\\nUsing scene {int(scene_num)-1}')\n",
        "open('program.txt', 'a').close()\n",
        "\n",
        "print('\\n\\nYour environment has four rooms: bathroom, dining room, bedroom, home office.')\n",
        "print('These are all the objects present in your environment, categorized by the rooms.')\n",
        "for room, stuff in init_graph.usable_nodes_by_room.items():\n",
        "    print()\n",
        "    print(('  '+room+'  ').center(100, '#'))\n",
        "    objs = list(stuff.keys())\n",
        "    objs.sort()\n",
        "    print_list(objs)\n",
        "    "
      ]
    },
    {
      "cell_type": "code",
      "execution_count": null,
      "metadata": {
        "cellView": "form",
        "id": "PLxmU9Rl5c3x"
      },
      "outputs": [],
      "source": [
        "#@title Pick your Activity!\n",
        "#@markdown Run this cell to see a list of activities and select one.\n",
        "\n",
        "with open('RoutinesDataCollection/routines/ActivityObjects.json') as f:\n",
        "    activities = list(json.load(f).keys())\n",
        "activities = activities[1:]\n",
        "\n",
        "print('Activity Options \\n')\n",
        "print_list(activities)\n",
        "\n",
        "while True:\n",
        "    activity = input('\\nWhich activity do you choose?\\n').lower()\n",
        "    activity = activity.lower()\n",
        "    if activity in activities:\n",
        "        break\n",
        "    else:\n",
        "        print('Activity does not exist! Try again.')\n",
        "\n",
        "if activity not in activities:\n",
        "    raise KeyError('Are you sure you typed the correct activity? Please try again...')\n",
        "\n",
        "activity_dir = os.path.join(name,activity)\n",
        "if not os.path.exists(activity_dir):\n",
        "    os.makedirs(activity_dir)\n",
        "\n",
        "with open('RoutinesDataCollection/routines/ActivityObjects.json') as f:\n",
        "    objs = json.load(f)\n",
        "    available_obj_for_activity = objs[activity] + objs[\"all_activities\"]\n",
        "\n",
        "print('\\n\\n')\n",
        "use_actions = ['Close', 'Drink', 'Eat', 'Find', 'Walk', 'Grab', 'Open', 'Putback', 'Putin', 'Sit', 'Standup', 'Switchoff', 'Switchon',\n",
        "'Turnto', 'Watch', 'Wipe', 'Puton', 'Putoff', 'Greet', 'Read', 'Lie', 'Pour', 'Type', 'Push', 'Pull', 'Wash', 'Rinse', \n",
        "'Scrub', 'Plugin', 'Plugout', 'Cut', 'Eat', 'Sleep', 'Wakeup']\n",
        "print('To do this activity, you can use any of the following actions : \\n')\n",
        "from evolving_graph import scripts\n",
        "action_template = [('['+a.title()+']'+' <.>'*scripts.Action[a].value[1]) for a in scripts.Action.__members__ if a.title() in use_actions]\n",
        "\n",
        "print_list(action_template)\n",
        "\n",
        "\n",
        "print('\\n\\n')\n",
        "print('Objects suitable for the chosen activity are :\\n')\n",
        "for room, stuff in init_graph.expanded_nodes_by_room.items():\n",
        "    available_obj = [full_obj for full_obj,(obj,id) in list(stuff.items()) if obj in available_obj_for_activity]\n",
        "    available_obj.sort()\n",
        "    print(('  '+room+'  ').center(100, '#'))\n",
        "    if(available_obj):\n",
        "      print_list(available_obj)\n"
      ]
    },
    {
      "cell_type": "markdown",
      "metadata": {
        "id": "HhtFDHwvsWtZ"
      },
      "source": [
        "You can copy from the above templates into your scipts and populate them with objects or rooms from the above list. Notice that the that the number of angle brackets signify the number of objects required to specify the action, e.g. `Find` has only one object to specify what to find, whereas `Putin` has two objects specifying what object to put and inside what. Some like `StandUp` and `Sit` might not need an object"
      ]
    },
    {
      "cell_type": "markdown",
      "metadata": {
        "id": "lfpSC-dd5c3z"
      },
      "source": [
        "# Write the Program <br>\n",
        "\n",
        "## Guidelines on writing the program\n",
        "\n",
        "*   The program will be composed of the above actions and can use any of the above objects. You should see the objects relevant to the activity right above this cell, but if you can't find a specific object there, please feel free to scroll further up and refer to the full list of objects. \n",
        "*   Your program should include comments with every few actions specifying how much time you expect those actions to take. Please mention times for as small a set of actions as you can as opposed to writing a single time range for many actions. Every comment must start with `##` and be of the form `<min_time_in_mins> - <max_time_in_mins>`\n",
        "*   All scripts must end with the avatar standing up (as opposed to sitting or lying down) and not holding anything in their hands\n",
        "\n",
        "**The complete syntax of the program is**\n",
        "```\n",
        "## min_time - max_time\n",
        "[Action1] <object1a> <object1b> ...\n",
        "[Action2] <object2a> ...\n",
        "\n",
        "## min_time - max_time\n",
        "[Action3] <object3a> <object3b> ...\n",
        "```\n",
        "\n",
        "Here is a short example.\n",
        "```\n",
        "## 1-2\n",
        "[Walk] <dining_room>\n",
        "[Walk] <food_apple>\n",
        "## 3-4\n",
        "[Find] <food_apple>\n",
        "[Grab] <food_apple>\n",
        "[Walk] <kitchen_counter>\n",
        "[PutBack] <food_apple> <kitchen_counter>\n",
        "```\n",
        "\n",
        "Now, please write the program depicting how you would do the activity you chose. Be creative with the available actions, and write **detailed and realistic** scripts. Prefer using as many objects and locations around the house as you can.\n",
        "\n",
        "Once you write something in the file, you can run the below cell to check if it executes properly. If it doesn't, the output will tell you where it failed, and you can fix the issue and try running it again. We suggest that you iteratively write a couple of lines and run to check them before writing more for easier debugging. \n"
      ]
    },
    {
      "cell_type": "markdown",
      "metadata": {
        "id": "H97HCwNlKr2l"
      },
      "source": [
        "To the left side of your screen you can see a folder icon. Select the icon to find the file `program.txt`. Open that file by double clicking on it. You will write your desired program in this file. \n",
        "\n",
        "## Happy Scripting!!!"
      ]
    },
    {
      "cell_type": "code",
      "execution_count": null,
      "metadata": {
        "id": "KLCpjTaW5c30"
      },
      "outputs": [],
      "source": [
        "#@title Check if your script works...\n",
        "#@markdown Run this cell to execute your script and check for failures\n",
        "\n",
        "execute_program(program_file='program.txt', graph_file=init_graph_file, node_map=init_graph.node_map, verbose=True)"
      ]
    },
    {
      "cell_type": "markdown",
      "metadata": {
        "id": "s9yRi4G_5c30"
      },
      "source": [
        "## Satisfied with your script?\n",
        "\n",
        "Remember, the script must execute and not throw errors on the above cell. We value detailed scripts which use a lot of actions and locations and have fine-grained time ranges!\n",
        "\n",
        "If everything looks good, please run the following cell to move the script to your database :) It will print the contents of the file; be sure to check that it is the script you want!"
      ]
    },
    {
      "cell_type": "code",
      "execution_count": null,
      "metadata": {
        "id": "Ib1Zl-vR5c30"
      },
      "outputs": [],
      "source": [
        "#@title Move script to the database\n",
        "#@markdown Run this cell to move your script to the database\n",
        "\n",
        "existing_files = [int(os.path.splitext(file)[0]) for file in os.listdir(activity_dir)]\n",
        "if existing_files:\n",
        "    new_file = os.path.join(activity_dir, str(max(existing_files)+1)+'.txt')\n",
        "else:\n",
        "    new_file = os.path.join(activity_dir, '0.txt')\n",
        "print(f'Saving your awesome script at {new_file} \\n\\n\\n')\n",
        "os.rename('program.txt',new_file)\n",
        "open('program.txt', 'a').close()\n",
        "\n",
        "! cat $new_file"
      ]
    },
    {
      "cell_type": "markdown",
      "metadata": {
        "id": "mwrHkl2B5c31"
      },
      "source": [
        "# Hurray! You did it :)\n",
        "\n",
        "To write another script, you can go back to the 'Pick your activity' section and follow the process over again!\n",
        "\n",
        "If you are done, proceed with the following cell to download your work."
      ]
    },
    {
      "cell_type": "code",
      "execution_count": null,
      "metadata": {
        "cellView": "form",
        "id": "crnSJxfiLzty"
      },
      "outputs": [],
      "source": [
        "# #@title  Download your scripts for submission\n",
        "# #@markdown Run this cell once at the end of your session to download your work\n",
        "\n",
        "# from google.colab import files\n",
        "# !zip -r ./$name\\_scripts.zip ./$name\n",
        "# files.download(f\"./{name}_scripts.zip\")"
      ]
    },
    {
      "cell_type": "markdown",
      "metadata": {
        "id": "Qcwe2B2zPEDn"
      },
      "source": [
        "# Thank you for participating!"
      ]
    }
  ],
  "metadata": {
    "colab": {
      "collapsed_sections": [],
      "name": "DataCollection.ipynb",
      "private_outputs": true,
      "provenance": []
    },
    "kernelspec": {
      "display_name": "Python 3.8.12 ('pyml')",
      "language": "python",
      "name": "python3"
    },
    "language_info": {
      "codemirror_mode": {
        "name": "ipython",
        "version": 3
      },
      "file_extension": ".py",
      "mimetype": "text/x-python",
      "name": "python",
      "nbconvert_exporter": "python",
      "pygments_lexer": "ipython3",
      "version": "3.8.12"
    },
    "vscode": {
      "interpreter": {
        "hash": "6f2dbfa5ef75a9144d7b0485e8c79d6707cb4300dbf38d3b3596c375ba449bc0"
      }
    }
  },
  "nbformat": 4,
  "nbformat_minor": 0
}
