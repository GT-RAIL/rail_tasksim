{
 "cells": [
  {
   "cell_type": "code",
   "execution_count": null,
   "metadata": {},
   "outputs": [],
   "source": [
    "%load_ext autoreload\n",
    "%autoreload 2\n",
    "\n",
    "\n",
    "import json\n",
    "import os\n",
    "import matplotlib.pyplot as plt\n",
    "import numpy as np\n",
    "\n",
    "from ScheduleDistributionSampler import ScheduleDistributionSampler, activity_map, start_times"
   ]
  },
  {
   "cell_type": "code",
   "execution_count": null,
   "metadata": {},
   "outputs": [],
   "source": [
    "print({a : {} for a in set(activity_map.values())})"
   ]
  },
  {
   "cell_type": "code",
   "execution_count": null,
   "metadata": {},
   "outputs": [],
   "source": [
    "see_activities = list(set(activity_map.values()))\n",
    "see_activities.remove(None)\n",
    "individual_histograms = {}\n",
    "\n",
    "schedule_num = 0\n",
    "for root, dirs, files in os.walk('data/AMT_Schedules'):\n",
    "    total_files = len(files) - 4\n",
    "    fig, ind_plot = plt.subplots(total_files, len(see_activities), sharex=True, sharey=True)\n",
    "    fig.set_size_inches(80, 50)\n",
    "    scene_histogram = {}\n",
    "    for f in files:\n",
    "        if f.endswith('.json'):\n",
    "            if f in ['A3EF9IKIU8IAHY.json', 'A3FKOG3VU5MP0X.json','AFER49XXMM4PE.json','A332L3FO6RCY6G.json']:\n",
    "                continue\n",
    "            individual_histograms[f[:-5]] = {}\n",
    "            with open(os.path.join(root,f)) as file:\n",
    "                sch = json.load(file)\n",
    "            age = int(sch[\"questionnaireData\"][\"age\"][:2])\n",
    "            if sch[\"questionnaireData\"][\"gender\"] == 'Female': c = [age/60, 0, 0]\n",
    "            if sch[\"questionnaireData\"][\"gender\"] == 'Male': c = [0, 0, age/60]\n",
    "            # ind_plot[schedule_num,0].set_ylabel(str(age) + ', '+gender[0])\n",
    "            activity_times = {}\n",
    "            scene_histogram[f] = {k:{s:0 for s in start_times} for k in activity_map.values()}\n",
    "            for timestring,activities in sch['activitiesChosen'].items():\n",
    "                start_time = timestring.split('m')[0]\n",
    "                start_time = int(start_time[:-1]) if start_time[-1] == 'a' else int(start_time[:-1])+12\n",
    "                if start_time == 24:\n",
    "                    start_time = 12\n",
    "                for act in activities:\n",
    "                    sch_activity = activity_map[act]\n",
    "                    scene_histogram[f][sch_activity][start_time] = 1\n",
    "            for iact,act in enumerate(see_activities):\n",
    "                individual_histograms[f[:-5]][act] = list(scene_histogram[f][act].values())\n",
    "                ind_plot[schedule_num][iact].bar(scene_histogram[f][act].keys(), scene_histogram[f][act].values())\n",
    "                ind_plot[schedule_num][iact].set_yticks([])\n",
    "                ind_plot[schedule_num][iact].set_xticks([])\n",
    "            ind_plot[schedule_num,0].set_ylabel(f[:-5], rotation=0, labelpad=100)\n",
    "            schedule_num += 1\n",
    "    print('Done')\n",
    "schedule_num -= 1\n",
    "for iact, act in enumerate(see_activities):\n",
    "    ind_plot[0,iact].set_title(act.replace('_','\\n'))\n",
    "    ind_plot[schedule_num][iact].set_xticks([6,9,12,15,18,21,24])\n",
    "    ind_plot[schedule_num][iact].set_xticklabels(['6\\nam','','','3\\npm','','','12\\nam'])"
   ]
  },
  {
   "cell_type": "code",
   "execution_count": null,
   "metadata": {},
   "outputs": [],
   "source": [
    "# with open('data/personaBasedSchedules/individual_histograms.json', 'w') as f:\n",
    "#     json.dump(individual_histograms, f, indent=4)"
   ]
  },
  {
   "cell_type": "code",
   "execution_count": null,
   "metadata": {},
   "outputs": [],
   "source": [
    "with open('data/personaBasedSchedules/corrected_histograms.json') as f:\n",
    "    corrected_histograms = json.load(f)\n",
    "\n",
    "fig, ind_plot = plt.subplots(len(corrected_histograms.keys()), len(see_activities), sharex=True, sharey=True)\n",
    "fig.set_size_inches(80, 50)\n",
    "\n",
    "for i,(id,act_hists) in enumerate(corrected_histograms.items()):\n",
    "    for j,(activity,data) in enumerate(act_hists.items()):\n",
    "        ind_plot[i][j].bar(start_times, data)\n",
    "        ind_plot[i][j].set_yticks([])\n",
    "        ind_plot[i][j].set_xticks([])\n",
    "        if i==0:\n",
    "            ind_plot[i][j].set_title(activity.replace('_','\\n'))\n",
    "    ind_plot[i][0].set_ylabel(id, rotation=0, labelpad=100)"
   ]
  },
  {
   "cell_type": "code",
   "execution_count": null,
   "metadata": {},
   "outputs": [],
   "source": [
    "persona_traits = {\n",
    "'breakfast': {\"has\":[], \"skips\":[]}, \n",
    "'lunch': {\"has\":[], \"skips\":[]}, \n",
    "'dinner': {\"has\":[], \"skips\":[]}, \n",
    "'computer_work': {\"less\":[], \"normal\":[], \"more\":[]}, \n",
    "'going_to_the_bathroom': {\"uses_bathroom\":[], \"does_not_use_bathroom\":[]}, \n",
    "'leave_home': {\"morning\":[], \"evening\":[], \"multiple_times\":[], \"not_at_all\":[]}, \n",
    "'come_home': {\"morning\":[], \"evening\":[], \"multiple_times\":[], \"not_at_all\":[]}, \n",
    "'playing_music': {\"morning\":[], \"evening\":[], \"multiple_times\":[], \"not_at_all\":[]}, \n",
    "'getting_dressed': {\"morning\":[], \"evening\":[], \"multiple_times\":[], \"not_at_all\":[]}, \n",
    "'cleaning': {\"morning\":[], \"evening\":[], \"multiple_times\":[], \"not_at_all\":[]}, \n",
    "'socializing': {\"morning\":[], \"evening\":[], \"multiple_times\":[], \"not_at_all\":[]}, \n",
    "'listening_to_music':  {\"morning\":[], \"evening\":[], \"multiple_times\":[], \"not_at_all\":[]}, \n",
    "'taking_medication': {\"morning\":[], \"evening\":[], \"multiple_times\":[], \"not_at_all\":[]}, \n",
    "'take_out_trash': {\"morning\":[], \"evening\":[], \"multiple_times\":[], \"not_at_all\":[]}, \n",
    "'kitchen_cleaning': {\"morning\":[], \"evening\":[], \"multiple_times\":[], \"not_at_all\":[]}, \n",
    "'wash_dishes': {\"morning\":[], \"evening\":[], \"multiple_times\":[], \"not_at_all\":[]}, \n",
    "'brushing_teeth': {\"morning\":[], \"evening\":[], \"multiple_times\":[], \"not_at_all\":[]}, \n",
    "'laundry': {\"morning\":[], \"evening\":[], \"multiple_times\":[], \"not_at_all\":[]}, \n",
    "'hand_wash_clothes': {\"morning\":[], \"evening\":[], \"multiple_times\":[], \"not_at_all\":[]}, \n",
    "'reading': {\"morning\":[], \"evening\":[], \"multiple_times\":[], \"not_at_all\":[]}, \n",
    "'showering': {\"morning\":[], \"evening\":[], \"multiple_times\":[], \"not_at_all\":[]}, \n",
    "'vaccuum_cleaning': {\"morning\":[], \"evening\":[], \"multiple_times\":[], \"not_at_all\":[]}, \n",
    "'watching_tv': {\"morning\":[], \"evening\":[], \"multiple_times\":[], \"not_at_all\":[]}, \n",
    "}"
   ]
  },
  {
   "cell_type": "code",
   "execution_count": null,
   "metadata": {},
   "outputs": [],
   "source": [
    "cutoff = 10\n",
    "computer_work_cutoffs = [4, 10]\n",
    "\n",
    "for i,(id,act_hists) in enumerate(corrected_histograms.items()):\n",
    "    for j,(activity,data) in enumerate(act_hists.items()):\n",
    "        np_data = np.array(data)\n",
    "        if set(list(persona_traits[activity].keys())) == set([\"morning\", \"evening\", \"multiple_times\", \"not_at_all\"]):\n",
    "            morning = np_data[:cutoff].sum() > 0\n",
    "            evening = np_data[cutoff:].sum() > 0\n",
    "            if morning and evening: persona_traits[activity][\"multiple_times\"].append(id)\n",
    "            elif morning: persona_traits[activity][\"morning\"].append(id)\n",
    "            elif evening: persona_traits[activity][\"evening\"].append(id)\n",
    "            else: persona_traits[activity][\"not_at_all\"].append(id)\n",
    "        if set(list(persona_traits[activity].keys())) == set([\"has\", \"skips\"]):\n",
    "            if (np_data.sum() > 0): persona_traits[activity][\"has\"].append(id)\n",
    "            else: persona_traits[activity][\"skips\"].append(id)\n",
    "        if activity == \"computer_work\":\n",
    "            if (np_data.sum() <= computer_work_cutoffs[0]): persona_traits[activity][\"less\"].append(id)\n",
    "            elif (np_data.sum() <= computer_work_cutoffs[1]): persona_traits[activity][\"normal\"].append(id)\n",
    "            else: persona_traits[activity][\"more\"].append(id)\n",
    "        if activity == \"going_to_the_bathroom\":\n",
    "            if (np_data.sum() > 0): persona_traits[activity][\"uses_bathroom\"].append(id)\n",
    "            else: persona_traits[activity][\"does_not_use_bathroom\"].append(id)\n",
    "\n",
    "persona_traits"
   ]
  },
  {
   "cell_type": "code",
   "execution_count": null,
   "metadata": {},
   "outputs": [],
   "source": [
    "with open('data/personaBasedSchedules/persona_traits.json', 'w') as f:\n",
    "    json.dump(persona_traits, f, indent=4)\n",
    "\n",
    "persona_trait_frequencies = {act:{trait: len(files) for trait, files in trait_files.items()} for act,trait_files in persona_traits.items()}\n",
    "persona_trait_frequencies"
   ]
  },
  {
   "cell_type": "code",
   "execution_count": null,
   "metadata": {},
   "outputs": [],
   "source": [
    "# with open('data/personaBasedSchedules/persona_traits.json') as f:\n",
    "#     persona_traits = json.load(f)\n",
    "\n",
    "def plot_together(list_of_freqs, ax):\n",
    "    for i,freqs in enumerate(list_of_freqs):\n",
    "        freq_exist = np.array(start_times)[np.array(freqs) == 1]\n",
    "        ax.plot(freq_exist,freq_exist*0 + i, '.')\n",
    "\n",
    "trait_histograms = {}\n",
    "\n",
    "for activity in persona_traits:\n",
    "    trait_histograms[activity] = {}\n",
    "    fig, axs = plt.subplots(2, len(persona_traits[activity]), sharex=True)\n",
    "    fig.set_size_inches(20, 5)\n",
    "    fig.suptitle(activity)\n",
    "    for i, (trait, files) in enumerate(persona_traits[activity].items()):\n",
    "        if len(files) == 0:\n",
    "            continue\n",
    "        trait_histograms[activity][trait] = list((np.array([np.array(corrected_histograms[f][activity]) for f in files])).mean(0))\n",
    "        axs[1][i].plot(start_times, trait_histograms[activity][trait], '-.k')\n",
    "        plot_together([corrected_histograms[f][activity] for f in files], axs[0][i])\n",
    "        axs[0][i].set_title('{}; p={:.2f}'.format(trait, len(files)/total_files))\n",
    "    fig.tight_layout()\n",
    "    plt.savefig('data/personaBasedSchedules/histograms/'+activity+'.jpg')\n",
    "\n",
    "\n",
    "with open('data/personaBasedSchedules/trait_histograms.json','w') as f:\n",
    "    json.dump(trait_histograms, f, indent=4)"
   ]
  }
 ],
 "metadata": {
  "interpreter": {
   "hash": "4cffe7c9c5b16c39ad8342f96bfb2ea1c3f8c12324c2ee5fa5fb5a776efa78cb"
  },
  "kernelspec": {
   "display_name": "Python 3.7.4 64-bit ('.venv': venv)",
   "language": "python",
   "name": "python3"
  },
  "language_info": {
   "codemirror_mode": {
    "name": "ipython",
    "version": 3
   },
   "file_extension": ".py",
   "mimetype": "text/x-python",
   "name": "python",
   "nbconvert_exporter": "python",
   "pygments_lexer": "ipython3",
   "version": "3.8.12"
  },
  "orig_nbformat": 4
 },
 "nbformat": 4,
 "nbformat_minor": 2
}
