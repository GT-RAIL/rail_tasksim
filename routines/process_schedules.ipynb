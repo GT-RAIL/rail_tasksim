{
 "cells": [
  {
   "cell_type": "code",
   "execution_count": 2,
   "metadata": {},
   "outputs": [],
   "source": [
    "%load_ext autoreload\n",
    "%autoreload 2\n",
    "\n",
    "\n",
    "import json\n",
    "import os\n",
    "import matplotlib.pyplot as plt\n",
    "import numpy as np\n",
    "from copy import deepcopy\n",
    "\n",
    "from ScheduleDistributionSampler import ScheduleDistributionSampler, activity_map, start_times, individual_histograms , KLdivergence, both_over_either\n"
   ]
  },
  {
   "cell_type": "code",
   "execution_count": 3,
   "metadata": {},
   "outputs": [],
   "source": [
    "# kl_mat = {}\n",
    "# sampler = {}\n",
    "# for per in ['hard_worker','home_maker','senior','work_from_home']:\n",
    "#     sampler[per] = ScheduleDistributionSampler(per)\n",
    "# for per in ['hard_worker','home_maker','senior','work_from_home']:\n",
    "#     kl_mat[per] = {}\n",
    "#     for per2 in ['hard_worker','home_maker','senior','work_from_home']:\n",
    "#         kl_mat[per][per2] = KLdivergence(sampler[per].activity_histogram, sampler[per2].activity_histogram)\n",
    "\n",
    "# kl_mat"
   ]
  },
  {
   "cell_type": "code",
   "execution_count": 4,
   "metadata": {},
   "outputs": [
    {
     "name": "stdout",
     "output_type": "stream",
     "text": [
      "{'cleaning': {}, 'socializing': {}, 'laundry': {}, 'going_to_the_bathroom': {}, 'leave_home': {}, 'taking_medication': {}, 'playing_music': {}, 'reading': {}, 'kitchen_cleaning': {}, 'take_out_trash': {}, 'vaccuum_cleaning': {}, 'breakfast': {}, 'wash_dishes': {}, 'watching_tv': {}, 'come_home': {}, 'brushing_teeth': {}, 'showering': {}, None: {}, 'listening_to_music': {}, 'getting_dressed': {}, 'computer_work': {}, 'lunch': {}, 'dinner': {}}\n"
     ]
    }
   ],
   "source": [
    "print({a : {} for a in set(activity_map.values())})"
   ]
  },
  {
   "cell_type": "code",
   "execution_count": 5,
   "metadata": {},
   "outputs": [],
   "source": [
    "see_activities = list(set(activity_map.values()))\n",
    "see_activities.remove(None)\n",
    "# individual_histograms = {}\n",
    "\n",
    "# schedule_num = 0\n",
    "# for root, dirs, files in os.walk('data/AMT_Schedules'):\n",
    "#     total_files = len(files) - 4\n",
    "#     fig, ind_plot = plt.subplots(total_files, len(see_activities), sharex=True, sharey=True)\n",
    "#     fig.set_size_inches(80, 50)\n",
    "#     scene_histogram = {}\n",
    "#     for f in files:\n",
    "#         if f.endswith('.json'):\n",
    "#             if f in ['A3EF9IKIU8IAHY.json', 'A3FKOG3VU5MP0X.json','AFER49XXMM4PE.json','A332L3FO6RCY6G.json']:\n",
    "#                 continue\n",
    "#             individual_histograms[f[:-5]] = {}\n",
    "#             with open(os.path.join(root,f)) as file:\n",
    "#                 sch = json.load(file)\n",
    "#             age = int(sch[\"questionnaireData\"][\"age\"][:2])\n",
    "#             if sch[\"questionnaireData\"][\"gender\"] == 'Female': c = [age/60, 0, 0]\n",
    "#             if sch[\"questionnaireData\"][\"gender\"] == 'Male': c = [0, 0, age/60]\n",
    "#             # ind_plot[schedule_num,0].set_ylabel(str(age) + ', '+gender[0])\n",
    "#             activity_times = {}\n",
    "#             scene_histogram[f] = {k:{s:0 for s in start_times} for k in activity_map.values()}\n",
    "#             for timestring,activities in sch['activitiesChosen'].items():\n",
    "#                 start_time = timestring.split('m')[0]\n",
    "#                 start_time = int(start_time[:-1]) if start_time[-1] == 'a' else int(start_time[:-1])+12\n",
    "#                 if start_time == 24:\n",
    "#                     start_time = 12\n",
    "#                 for act in activities:\n",
    "#                     sch_activity = activity_map[act]\n",
    "#                     scene_histogram[f][sch_activity][start_time] = 1\n",
    "#             for iact,act in enumerate(see_activities):\n",
    "#                 individual_histograms[f[:-5]][act] = list(scene_histogram[f][act].values())\n",
    "#                 ind_plot[schedule_num][iact].bar(scene_histogram[f][act].keys(), scene_histogram[f][act].values())\n",
    "#                 ind_plot[schedule_num][iact].set_yticks([])\n",
    "#                 ind_plot[schedule_num][iact].set_xticks([])\n",
    "#             ind_plot[schedule_num,0].set_ylabel(f[:-5], rotation=0, labelpad=100)\n",
    "#             schedule_num += 1\n",
    "#     print('Done')\n",
    "# schedule_num -= 1\n",
    "# for iact, act in enumerate(see_activities):\n",
    "#     ind_plot[0,iact].set_title(act.replace('_','\\n'))\n",
    "#     ind_plot[schedule_num][iact].set_xticks([6,9,12,15,18,21,24])\n",
    "#     ind_plot[schedule_num][iact].set_xticklabels(['6\\nam','','','3\\npm','','','12\\nam'])"
   ]
  },
  {
   "cell_type": "code",
   "execution_count": 6,
   "metadata": {},
   "outputs": [],
   "source": [
    "# with open('data/personaBasedSchedules/individual_histograms.json', 'w') as f:\n",
    "#     json.dump(individual_histograms, f, indent=4)"
   ]
  },
  {
   "cell_type": "code",
   "execution_count": 7,
   "metadata": {},
   "outputs": [],
   "source": [
    "# with open('data/personaBasedSchedules/corrected_histograms.json') as f:\n",
    "    # corrected_histograms = json.load(f)\n",
    "\n",
    "# fig, ind_plot = plt.subplots(len(corrected_histograms.keys()), len(see_activities), sharex=True, sharey=True)\n",
    "# fig.set_size_inches(80, 50)\n",
    "\n",
    "# for i,(id,act_hists) in enumerate(corrected_histograms.items()):\n",
    "#     for j,(activity,data) in enumerate(act_hists.items()):\n",
    "#         ind_plot[i][j].bar(start_times, data)\n",
    "#         ind_plot[i][j].set_yticks([])\n",
    "#         ind_plot[i][j].set_xticks([])\n",
    "#         if i==0:\n",
    "#             ind_plot[i][j].set_title(activity.replace('_','\\n'))\n",
    "#     ind_plot[i][0].set_ylabel(id, rotation=0, labelpad=100)"
   ]
  },
  {
   "cell_type": "markdown",
   "metadata": {},
   "source": [
    "### Rule-based habits"
   ]
  },
  {
   "cell_type": "code",
   "execution_count": 8,
   "metadata": {},
   "outputs": [],
   "source": [
    "persona_traits = {\n",
    "'breakfast': {\"has\":[], \"skips\":[]}, \n",
    "'lunch': {\"has\":[], \"skips\":[]}, \n",
    "'dinner': {\"has\":[], \"skips\":[]}, \n",
    "'computer_work': {\"less\":[], \"normal\":[], \"more\":[]}, \n",
    "'going_to_the_bathroom': {\"uses_bathroom\":[], \"does_not_use_bathroom\":[]}, \n",
    "'leave_home': {\"morning\":[], \"evening\":[], \"multiple_times\":[], \"not_at_all\":[]}, \n",
    "'come_home': {\"morning\":[], \"evening\":[], \"multiple_times\":[], \"not_at_all\":[]}, \n",
    "'playing_music': {\"morning\":[], \"evening\":[], \"multiple_times\":[], \"not_at_all\":[]}, \n",
    "'getting_dressed': {\"morning\":[], \"evening\":[], \"multiple_times\":[], \"not_at_all\":[]}, \n",
    "'cleaning': {\"morning\":[], \"evening\":[], \"multiple_times\":[], \"not_at_all\":[]}, \n",
    "'socializing': {\"morning\":[], \"evening\":[], \"multiple_times\":[], \"not_at_all\":[]}, \n",
    "'listening_to_music':  {\"morning\":[], \"evening\":[], \"multiple_times\":[], \"not_at_all\":[]}, \n",
    "'taking_medication': {\"morning\":[], \"evening\":[], \"multiple_times\":[], \"not_at_all\":[]}, \n",
    "'take_out_trash': {\"morning\":[], \"evening\":[], \"multiple_times\":[], \"not_at_all\":[]}, \n",
    "'kitchen_cleaning': {\"morning\":[], \"evening\":[], \"multiple_times\":[], \"not_at_all\":[]}, \n",
    "'wash_dishes': {\"morning\":[], \"evening\":[], \"multiple_times\":[], \"not_at_all\":[]}, \n",
    "'brushing_teeth': {\"morning\":[], \"evening\":[], \"multiple_times\":[], \"not_at_all\":[]}, \n",
    "'laundry': {\"morning\":[], \"evening\":[], \"multiple_times\":[], \"not_at_all\":[]}, \n",
    "'reading': {\"morning\":[], \"evening\":[], \"multiple_times\":[], \"not_at_all\":[]}, \n",
    "'showering': {\"morning\":[], \"evening\":[], \"multiple_times\":[], \"not_at_all\":[]}, \n",
    "'vaccuum_cleaning': {\"morning\":[], \"evening\":[], \"multiple_times\":[], \"not_at_all\":[]}, \n",
    "'watching_tv': {\"morning\":[], \"evening\":[], \"multiple_times\":[], \"not_at_all\":[]}, \n",
    "}"
   ]
  },
  {
   "cell_type": "code",
   "execution_count": 9,
   "metadata": {},
   "outputs": [],
   "source": [
    "# cutoff = 10\n",
    "# computer_work_cutoffs = [4, 10]\n",
    "\n",
    "# for i,(id,act_hists) in enumerate(corrected_histograms.items()):\n",
    "#     for j,(activity,data) in enumerate(act_hists.items()):\n",
    "#         np_data = np.array(data)\n",
    "#         if set(list(persona_traits[activity].keys())) == set([\"morning\", \"evening\", \"multiple_times\", \"not_at_all\"]):\n",
    "#             morning = np_data[:cutoff].sum() > 0\n",
    "#             evening = np_data[cutoff:].sum() > 0\n",
    "#             if morning and evening: persona_traits[activity][\"multiple_times\"].append(id)\n",
    "#             elif morning: persona_traits[activity][\"morning\"].append(id)\n",
    "#             elif evening: persona_traits[activity][\"evening\"].append(id)\n",
    "#             else: persona_traits[activity][\"not_at_all\"].append(id)\n",
    "#         if set(list(persona_traits[activity].keys())) == set([\"has\", \"skips\"]):\n",
    "#             if (np_data.sum() > 0): persona_traits[activity][\"has\"].append(id)\n",
    "#             else: persona_traits[activity][\"skips\"].append(id)\n",
    "#         if activity == \"computer_work\":\n",
    "#             if (np_data.sum() <= computer_work_cutoffs[0]): persona_traits[activity][\"less\"].append(id)\n",
    "#             elif (np_data.sum() <= computer_work_cutoffs[1]): persona_traits[activity][\"normal\"].append(id)\n",
    "#             else: persona_traits[activity][\"more\"].append(id)\n",
    "#         if activity == \"going_to_the_bathroom\":\n",
    "#             if (np_data.sum() > 0): persona_traits[activity][\"uses_bathroom\"].append(id)\n",
    "#             else: persona_traits[activity][\"does_not_use_bathroom\"].append(id)\n",
    "\n",
    "# persona_traits"
   ]
  },
  {
   "cell_type": "code",
   "execution_count": 10,
   "metadata": {},
   "outputs": [],
   "source": [
    "# with open('data/personaBasedSchedules/persona_traits.json', 'w') as f:\n",
    "#     json.dump(persona_traits, f, indent=4)\n",
    "\n",
    "# persona_trait_frequencies = {act:{trait: len(files) for trait, files in trait_files.items()} for act,trait_files in persona_traits.items()}\n",
    "# persona_trait_frequencies"
   ]
  },
  {
   "cell_type": "code",
   "execution_count": 11,
   "metadata": {},
   "outputs": [],
   "source": [
    "# with open('data/personaBasedSchedules/persona_traits.json') as f:\n",
    "#     persona_traits = json.load(f)\n",
    "\n",
    "def plot_together(list_of_freqs, ax):\n",
    "    for i,freqs in enumerate(list_of_freqs):\n",
    "        freq_exist = np.array(start_times)[np.array(freqs) == 1]\n",
    "        ax.plot(freq_exist,freq_exist*0 + i, '.')\n",
    "        if sum(freqs) == 0:\n",
    "            ax.plot(np.array(start_times),np.array(start_times)*0 + i, linewidth = 0.3, color=[0.8,0.8,0.8])\n",
    "\n",
    "\n",
    "# trait_histograms = {}\n",
    "# trait_probabilities = {}\n",
    "\n",
    "# for activity in persona_traits:\n",
    "#     trait_histograms[activity] = {}\n",
    "#     trait_probabilities[activity] = {}\n",
    "#     fig, axs = plt.subplots(2, len(persona_traits[activity]), sharex=True)\n",
    "#     fig.set_size_inches(20, 5)\n",
    "#     fig.suptitle(activity)\n",
    "#     for i, (trait, files) in enumerate(persona_traits[activity].items()):\n",
    "#         if len(files) == 0:\n",
    "#             continue\n",
    "#         trait_histograms[activity][trait] = list((np.array([np.array(corrected_histograms[f][activity]) for f in files])).mean(0))\n",
    "#         trait_probabilities[activity][trait] = len(files)/total_files\n",
    "#         axs[1][i].plot(start_times, trait_histograms[activity][trait], '-.k')\n",
    "#         plot_together([corrected_histograms[f][activity] for f in files], axs[0][i])\n",
    "#         axs[0][i].set_title('{}; p={:.2f}'.format(trait, trait_probabilities[activity][trait]))\n",
    "#     fig.tight_layout()\n",
    "#     plt.savefig('data/personaBasedSchedules/histograms/'+activity+'.jpg')\n",
    "\n",
    "\n",
    "# with open('data/personaBasedSchedules/trait_histograms.json','w') as f:\n",
    "#     json.dump(trait_histograms, f, indent=4)"
   ]
  },
  {
   "cell_type": "code",
   "execution_count": 12,
   "metadata": {},
   "outputs": [],
   "source": [
    "# from copy import deepcopy\n",
    "# samples = {1:[]}\n",
    "# for activity, activity_traits in trait_probabilities.items():\n",
    "#     prev_samples = deepcopy(samples)\n",
    "#     samples = {}\n",
    "#     for trait, prob in activity_traits.items():\n",
    "#         for sample_prob, trait_list in prev_samples.items():\n",
    "#             if sample_prob*prob > 0.00000000001:\n",
    "#                 samples[sample_prob*prob] = trait_list + [(activity, trait)]\n",
    "        "
   ]
  },
  {
   "cell_type": "code",
   "execution_count": 13,
   "metadata": {},
   "outputs": [],
   "source": [
    "# from matplotlib import pyplot as plt\n",
    "# probs = sorted(list(samples.keys()))[::-1]\n",
    "# plt.plot(probs)\n",
    "# # plt.xlim([0,20000])"
   ]
  },
  {
   "cell_type": "markdown",
   "metadata": {},
   "source": [
    "### Clustering individuals"
   ]
  },
  {
   "cell_type": "code",
   "execution_count": 14,
   "metadata": {},
   "outputs": [
    {
     "data": {
      "text/plain": [
       "dict_keys(['A22HIX1M4QXZBB', 'ACXP8KHFX06KR', 'A1FVXS8IM5QYO8', 'A1KYKDX6XH90OT', 'A34SIGOLUGKIHJ', 'A2146E0NJ4893F', 'APHOTULGVIEVH', 'A23KAJRDVCVGOE', 'A2K1QVO3F9M9Z9', 'A15VCKELIEEPJN', 'AM4CVEUB9KITP', 'A2P65VCJIAZOYW', 'A1MS6RMVVATCNE', 'A26M997VYVK0E6', 'A33L61XKPX76DB', 'A2E3V6BKN6ZRFX', 'AQ5KOKZQSZU0B', 'A8UJNIY9R8S7W', 'A3GWCILDIQLY6U', 'A1SH1K3O9YE16Y', 'A12VQHPT0YHMIS'])"
      ]
     },
     "execution_count": 14,
     "metadata": {},
     "output_type": "execute_result"
    }
   ],
   "source": [
    "from ScheduleDistributionSampler import ScheduleDistributionSampler, activity_map, start_times, KLdivergence, individual_histograms\n",
    "individual_histograms.keys()"
   ]
  },
  {
   "cell_type": "code",
   "execution_count": 15,
   "metadata": {},
   "outputs": [
    {
     "data": {
      "text/plain": [
       "dict_keys(['breakfast', 'lunch', 'dinner', 'computer_work', 'going_to_the_bathroom', 'leave_home', 'come_home', 'playing_music', 'getting_dressed', 'cleaning', 'socializing', 'listening_to_music', 'taking_medication', 'take_out_trash', 'kitchen_cleaning', 'wash_dishes', 'brushing_teeth', 'laundry', 'reading', 'showering', 'vaccuum_cleaning', 'watching_tv'])"
      ]
     },
     "execution_count": 15,
     "metadata": {},
     "output_type": "execute_result"
    }
   ],
   "source": [
    "activities = persona_traits.keys()\n",
    "activities"
   ]
  },
  {
   "cell_type": "code",
   "execution_count": 22,
   "metadata": {},
   "outputs": [],
   "source": [
    "from sklearn.mixture import GaussianMixture\n",
    "from sklearn.cluster import KMeans\n",
    "from sklearn.metrics import calinski_harabasz_score, davies_bouldin_score, silhouette_score\n",
    "\n",
    "individual_features = {}\n",
    "activities = persona_traits.keys()\n",
    "\n",
    "morning = np.array([1 if i<12 else 0 for i in range(6,24)])\n",
    "afternoon = np.array([1 if i>=12 and i<18 else 0 for i in range(6,24)])\n",
    "evening = np.array([1 if i>=18 else 0 for i in range(6,24)])\n",
    "\n",
    "for indiv, act_hist in individual_histograms.items():\n",
    "    feat = []\n",
    "    for act in ['cleaning']:\n",
    "        seq = np.argwhere(act_hist[act]).reshape(-1)\n",
    "        if len(seq) > 1:\n",
    "            gm = GaussianMixture(n_components=2).fit(seq.reshape(-1,1))\n",
    "            gm_means = gm.means_.reshape(-1)\n",
    "            gm_covs = gm.covariances_.reshape(-1)\n",
    "            gm_inds = gm_means.argsort()[::-1]\n",
    "            gm_means = deepcopy(gm_means[gm_inds]).reshape(-1)\n",
    "            gm_mean_diff = gm_means[0] - gm_means[1]\n",
    "            gm_covs = deepcopy(gm_covs[gm_inds]).reshape(-1)\n",
    "            median_time = np.median(seq)\n",
    "        elif len(seq) == 1:\n",
    "            gm_means = np.ones((2,)) * -1\n",
    "            gm_means[0] = deepcopy(seq[0])\n",
    "            gm_means[1] = deepcopy(seq[0])\n",
    "            gm_mean_diff = 0\n",
    "            gm_covs = np.zeros_like(gm_means)\n",
    "            median_time = np.median(seq) if len(seq) > 0 else -1\n",
    "        else:\n",
    "            gm_means = np.ones((2,)) * -1\n",
    "            gm_covs = np.ones((2,)) * -1\n",
    "            gm_mean_diff = -1\n",
    "            median_time = -1\n",
    "        this_act = np.array(act_hist[act])\n",
    "        feat += [sum(morning*this_act), sum(afternoon*this_act), sum(evening*this_act)]\n",
    "        feat += list(gm_means)\n",
    "        # feat += [gm_means[0]/18]\n",
    "        feat += [gm_mean_diff]\n",
    "        # feat += list(gm_covs)\n",
    "        feat += [float(sum(act_hist[act]))]\n",
    "    individual_features[indiv] = np.array(feat)"
   ]
  },
  {
   "cell_type": "code",
   "execution_count": 23,
   "metadata": {},
   "outputs": [],
   "source": [
    "import sklearn\n",
    "individual_features_array = np.array(np.array(list(individual_features.values())))\n",
    "individual_features_array.shape\n",
    "pca = sklearn.decomposition.PCA().fit(individual_features_array)"
   ]
  },
  {
   "cell_type": "code",
   "execution_count": 18,
   "metadata": {},
   "outputs": [],
   "source": [
    "! rm -r cluster_visuals\n",
    "! mkdir cluster_visuals"
   ]
  },
  {
   "cell_type": "code",
   "execution_count": 19,
   "metadata": {},
   "outputs": [],
   "source": [
    "# metrics = []"
   ]
  },
  {
   "cell_type": "code",
   "execution_count": 24,
   "metadata": {},
   "outputs": [
    {
     "name": "stdout",
     "output_type": "stream",
     "text": [
      "(21, 7)\n",
      "##### Number of clusters 2 #####  : center-to-center 14.882616835916666 : sample_to_center 3.7658736081935467\n",
      "9 : 12 : \n",
      "(21, 7)\n",
      "##### Number of clusters 3 #####  : center-to-center 15.671930770348796 : sample_to_center 1.9071012973707608\n",
      "6 : 12 : 3 : \n",
      "(21, 7)\n",
      "##### Number of clusters 4 #####  : center-to-center 13.640583165359592 : sample_to_center 1.0852421045023068\n",
      "3 : 8 : 6 : 4 : \n",
      "(21, 7)\n",
      "##### Number of clusters 5 #####  : center-to-center 12.40052786034216 : sample_to_center 0.767896871812082\n",
      "5 : 8 : 3 : 1 : 4 : \n",
      "(21, 7)\n",
      "##### Number of clusters 6 #####  : center-to-center 12.35428835055953 : sample_to_center 0.5521415418013303\n",
      "5 : 8 : 2 : 1 : 4 : 1 : \n",
      "(21, 7)\n",
      "##### Number of clusters 7 #####  : center-to-center 11.99717739362972 : sample_to_center 0.32266211459395\n",
      "2 : 8 : 2 : 1 : 4 : 1 : 3 : \n",
      "(21, 7)\n",
      "##### Number of clusters 8 #####  : center-to-center 12.24489791041825 : sample_to_center 0.16835876545333964\n",
      "2 : 8 : 1 : 4 : 1 : 1 : 1 : 3 : \n",
      "(21, 7)\n",
      "##### Number of clusters 9 #####  : center-to-center 11.957833948667801 : sample_to_center 0.06734351099811853\n",
      "2 : 8 : 1 : 3 : 1 : 1 : 1 : 3 : 1 : \n",
      "(21, 7)\n",
      "##### Number of clusters 10 #####  : center-to-center 11.634857007549519 : sample_to_center 8.027971144932198e-09\n",
      "1 : 8 : 1 : 3 : 1 : 1 : 1 : 3 : 1 : 1 : \n"
     ]
    },
    {
     "data": {
      "image/png": "[encoded data removed]",
      "text/plain": [
       "<Figure size 432x288 with 1 Axes>"
      ]
     },
     "metadata": {
      "needs_background": "light"
     },
     "output_type": "display_data"
    },
    {
     "data": {
      "image/png": "[encoded data removed]",
      "text/plain": [
       "<Figure size 432x288 with 1 Axes>"
      ]
     },
     "metadata": {
      "needs_background": "light"
     },
     "output_type": "display_data"
    },
    {
     "data": {
      "image/png": "[encoded data removed]",
      "text/plain": [
       "<Figure size 720x720 with 1 Axes>"
      ]
     },
     "metadata": {
      "needs_background": "light"
     },
     "output_type": "display_data"
    }
   ],
   "source": [
    "from ScheduleDistributionSampler import ScheduleDistributionSampler\n",
    "import shutil\n",
    "\n",
    "typename = 'new'\n",
    "\n",
    "goodness = []\n",
    "c2c = []\n",
    "s2c = []\n",
    "ch_score = []\n",
    "db_score = []\n",
    "sh_score = []\n",
    "\n",
    "cluster_lengths = [2,3,4,5,6,7,8,9,10]\n",
    "all_clusters = {k:None for k in cluster_lengths}\n",
    "\n",
    "for n_clusters in cluster_lengths:\n",
    "    individual_names = list(individual_features.keys())\n",
    "    individual_features_array = np.array(np.array(list(individual_features.values())))\n",
    "    print(individual_features_array.shape)\n",
    "    kmeans = KMeans(n_clusters=n_clusters, random_state=0).fit(individual_features_array)\n",
    "    cluster_center_distances = []\n",
    "    for c1 in kmeans.cluster_centers_:\n",
    "        for c2 in kmeans.cluster_centers_:\n",
    "            cluster_center_distances.append(np.linalg.norm(c1-c2))\n",
    "    avg_center_dist = sum(cluster_center_distances)/(n_clusters * (n_clusters-1))\n",
    "    sample_to_center_dist = kmeans.transform(individual_features_array).min(axis=-1)\n",
    "    print(f'##### Number of clusters {n_clusters} #####  : center-to-center {avg_center_dist} : sample_to_center {sample_to_center_dist.mean()}')\n",
    "\n",
    "    goodness.append(avg_center_dist/sample_to_center_dist.mean())\n",
    "    c2c.append(avg_center_dist)\n",
    "    s2c.append(sample_to_center_dist.mean())\n",
    "    ch_score.append(calinski_harabasz_score(individual_features_array, kmeans.labels_))\n",
    "    db_score.append(davies_bouldin_score(individual_features_array, kmeans.labels_))\n",
    "    sh_score.append(silhouette_score(individual_features_array, kmeans.labels_))\n",
    "\n",
    "    clusters = []\n",
    "    for n in range(n_clusters):\n",
    "        print(individual_features_array[kmeans.labels_==n].shape[0], end = ' : ')\n",
    "        clusters.append([name for i,name in enumerate(individual_names) if kmeans.labels_[i]==n])\n",
    "        # print(clusters[-1])\n",
    "    \n",
    "    all_clusters[n_clusters] = clusters\n",
    "    print()\n",
    "    \n",
    "import matplotlib.pyplot as plt\n",
    "plt.plot(cluster_lengths, goodness)\n",
    "fig,ax = plt.subplots()\n",
    "plt.plot(cluster_lengths, c2c)\n",
    "plt.plot(cluster_lengths, s2c)\n",
    "fig,ax = plt.subplots()\n",
    "fig.set_size_inches(10,10)\n",
    "plt.plot(cluster_lengths, ch_score, label='calinski harabasz score')\n",
    "plt.plot(cluster_lengths, db_score, label='davies bouldin score')\n",
    "# plt.plot(cluster_lengths, sh_score, label='silhouette score')\n",
    "ax.legend()\n",
    "fig.savefig('cluster_visuals/scores.jpg')"
   ]
  },
  {
   "cell_type": "code",
   "execution_count": 25,
   "metadata": {},
   "outputs": [],
   "source": [
    "n_clusters = 4\n",
    "clusters = all_clusters[n_clusters]\n",
    "cluster_histograms = [{} for _ in range(n_clusters)]"
   ]
  },
  {
   "cell_type": "code",
   "execution_count": 26,
   "metadata": {},
   "outputs": [
    {
     "ename": "TypeError",
     "evalue": "unhashable type: 'dict'",
     "output_type": "error",
     "traceback": [
      "\u001b[0;31m---------------------------------------------------------------------------\u001b[0m",
      "\u001b[0;31mTypeError\u001b[0m                                 Traceback (most recent call last)",
      "\u001b[1;32m/home/maithili/repos/rail_tasksim/routines/process_schedules.ipynb Cell 23'\u001b[0m in \u001b[0;36m<cell line: 23>\u001b[0;34m()\u001b[0m\n\u001b[1;32m     <a href='vscode-notebook-cell://ssh-remote%2B130.207.121.23/home/maithili/repos/rail_tasksim/routines/process_schedules.ipynb#ch0000023vscode-remote?line=18'>19</a>\u001b[0m     fig\u001b[39m.\u001b[39msavefig(\u001b[39mf\u001b[39m\u001b[39m'\u001b[39m\u001b[39m{\u001b[39;00mroot\u001b[39m}\u001b[39;00m\u001b[39m/histograms/\u001b[39m\u001b[39m{\u001b[39;00mactivity\u001b[39m}\u001b[39;00m\u001b[39m.jpg\u001b[39m\u001b[39m'\u001b[39m)\n\u001b[1;32m     <a href='vscode-notebook-cell://ssh-remote%2B130.207.121.23/home/maithili/repos/rail_tasksim/routines/process_schedules.ipynb#ch0000023vscode-remote?line=22'>23</a>\u001b[0m \u001b[39mfor\u001b[39;00m i \u001b[39min\u001b[39;00m \u001b[39mrange\u001b[39m(n_clusters):\n\u001b[0;32m---> <a href='vscode-notebook-cell://ssh-remote%2B130.207.121.23/home/maithili/repos/rail_tasksim/routines/process_schedules.ipynb#ch0000023vscode-remote?line=23'>24</a>\u001b[0m     sampler \u001b[39m=\u001b[39m ScheduleDistributionSampler(cluster_histograms[i], custom_label\u001b[39m=\u001b[39;49m\u001b[39m'\u001b[39;49m\u001b[39mcluster : \u001b[39;49m\u001b[39m'\u001b[39;49m\u001b[39m+\u001b[39;49m\u001b[39mstr\u001b[39;49m(\u001b[39mlen\u001b[39;49m(clusters[i])))\n\u001b[1;32m     <a href='vscode-notebook-cell://ssh-remote%2B130.207.121.23/home/maithili/repos/rail_tasksim/routines/process_schedules.ipynb#ch0000023vscode-remote?line=24'>25</a>\u001b[0m     \u001b[39mdir\u001b[39m \u001b[39m=\u001b[39m os\u001b[39m.\u001b[39mmakedirs(\u001b[39mf\u001b[39m\u001b[39m'\u001b[39m\u001b[39m{\u001b[39;00mroot\u001b[39m}\u001b[39;00m\u001b[39m/\u001b[39m\u001b[39m{\u001b[39;00mi\u001b[39m}\u001b[39;00m\u001b[39m'\u001b[39m)\n\u001b[1;32m     <a href='vscode-notebook-cell://ssh-remote%2B130.207.121.23/home/maithili/repos/rail_tasksim/routines/process_schedules.ipynb#ch0000023vscode-remote?line=25'>26</a>\u001b[0m     sampler\u001b[39m.\u001b[39mplot(dirname\u001b[39m=\u001b[39m\u001b[39mf\u001b[39m\u001b[39m'\u001b[39m\u001b[39m{\u001b[39;00mroot\u001b[39m}\u001b[39;00m\u001b[39m/\u001b[39m\u001b[39m{\u001b[39;00mi\u001b[39m}\u001b[39;00m\u001b[39m'\u001b[39m)\n",
      "File \u001b[0;32m~/repos/rail_tasksim/routines/ScheduleDistributionSampler.py:269\u001b[0m, in \u001b[0;36mScheduleDistributionSampler.__init__\u001b[0;34m(self, type, idle_sampling_factor, resample_after, custom_label, num_optional_activities, filter_histograms)\u001b[0m\n\u001b[1;32m    <a href='file:///home/maithili/repos/rail_tasksim/routines/ScheduleDistributionSampler.py?line=264'>265</a>\u001b[0m             \u001b[39m# raise e\u001b[39;00m\n\u001b[1;32m    <a href='file:///home/maithili/repos/rail_tasksim/routines/ScheduleDistributionSampler.py?line=265'>266</a>\u001b[0m \u001b[39melse\u001b[39;00m:\n\u001b[1;32m    <a href='file:///home/maithili/repos/rail_tasksim/routines/ScheduleDistributionSampler.py?line=266'>267</a>\u001b[0m     \u001b[39mraise\u001b[39;00m ArgumentError(\u001b[39mf\u001b[39m\u001b[39m'\u001b[39m\u001b[39mUnknown value \u001b[39m\u001b[39m{\u001b[39;00m\u001b[39mtype\u001b[39m\u001b[39m}\u001b[39;00m\u001b[39m for Schedule Sampler\u001b[39m\u001b[39m'\u001b[39m)\n\u001b[0;32m--> <a href='file:///home/maithili/repos/rail_tasksim/routines/ScheduleDistributionSampler.py?line=268'>269</a>\u001b[0m opt_activities \u001b[39m=\u001b[39m activity_lists[\u001b[39mtype\u001b[39;49m]\n\u001b[1;32m    <a href='file:///home/maithili/repos/rail_tasksim/routines/ScheduleDistributionSampler.py?line=269'>270</a>\u001b[0m \u001b[39mif\u001b[39;00m num_optional_activities \u001b[39m>\u001b[39m \u001b[39m0\u001b[39m:\n\u001b[1;32m    <a href='file:///home/maithili/repos/rail_tasksim/routines/ScheduleDistributionSampler.py?line=270'>271</a>\u001b[0m     \u001b[39mif\u001b[39;00m num_optional_activities \u001b[39m<\u001b[39m \u001b[39mlen\u001b[39m(opt_activities):\n",
      "\u001b[0;31mTypeError\u001b[0m: unhashable type: 'dict'"
     ]
    },
    {
     "data": {
      "image/png": "[encoded data removed]",
      "text/plain": [
       "<Figure size 1440x360 with 8 Axes>"
      ]
     },
     "metadata": {
      "needs_background": "light"
     },
     "output_type": "display_data"
    }
   ],
   "source": [
    "typename = 'scored'\n",
    "root = 'cluster_visuals/'+str(n_clusters)+typename\n",
    "if os.path.exists(f'{root}'):\n",
    "    shutil.rmtree(f'{root}')\n",
    "os.makedirs(f'{root}/histograms')\n",
    "\n",
    "for activity in ['playing_music']:\n",
    "    fig, axs = plt.subplots(2, n_clusters, sharex=True)\n",
    "    fig.set_size_inches(20, 5)\n",
    "    fig.suptitle(activity)\n",
    "    for i, cluster in enumerate(clusters):\n",
    "        avg = np.array([individual_histograms[ind][activity] for ind in cluster]).mean(axis=0)\n",
    "        cluster_histograms[i][activity] = avg\n",
    "        axs[1][i].plot(start_times, avg, '-.k')\n",
    "        plot_together([individual_histograms[ind][activity] for ind in cluster], axs[0][i])\n",
    "        # axs[0][i].set_title('{} : {}'.format(i, cluster))\n",
    "        axs[0][i].set_title('{}'.format(i))\n",
    "    fig.tight_layout()\n",
    "    fig.savefig(f'{root}/histograms/{activity}.jpg')\n",
    "\n",
    "\n",
    "\n",
    "for i in range(n_clusters):\n",
    "    sampler = ScheduleDistributionSampler(cluster_histograms[i], custom_label='cluster : '+str(len(clusters[i])))\n",
    "    dir = os.makedirs(f'{root}/{i}')\n",
    "    sampler.plot(dirname=f'{root}/{i}')\n",
    "    # shutil.move(f'{root}/{i}/sampling_distribution_separated.jpeg', f'{root}/{i}.jpeg')\n",
    "    # shutil.rmtree(f'{root}/{i}')\n",
    "\n",
    "kl_mat = np.zeros((n_clusters, n_clusters))\n",
    "# boe_mat = np.zeros((n_clusters, n_clusters))\n",
    "for i in range(n_clusters):\n",
    "    for j in range(n_clusters):\n",
    "        kl_mat[i][j] = KLdivergence(cluster_histograms[i], cluster_histograms[j])\n",
    "        # boe_mat[i][j] = both_over_either(cluster_histograms[i], cluster_histograms[j])\n",
    "avg_kl = kl_mat.sum()/(n_clusters*(n_clusters-1))\n",
    "# avg_boe = boe_mat.sum()/(n_clusters*(n_clusters-1))\n",
    "\n",
    "np.savetxt(f'{root}/boe.txt', kl_mat)\n",
    "with open(f'{root}/boe.txt', 'a') as f:\n",
    "    f.write('\\n\\n'+str(avg_kl))\n",
    "\n",
    "# np.savetxt(f'{root}/boe.txt', boe_mat)\n",
    "# with open(f'{root}/boe.txt', 'a') as f:\n",
    "#     f.write('\\n\\n'+str(avg_boe))\n",
    "\n",
    "with open(f'{root}/clusters.json', 'w') as f:\n",
    "    json.dump(clusters, f, indent=4)"
   ]
  },
  {
   "cell_type": "code",
   "execution_count": 25,
   "metadata": {},
   "outputs": [],
   "source": [
    "cluster_histograms_writable = [{k:list(v) for k,v in ch.items()} for ch in cluster_histograms]"
   ]
  },
  {
   "cell_type": "code",
   "execution_count": 27,
   "metadata": {},
   "outputs": [],
   "source": [
    "with open('data/personaBasedSchedules/cluster_histograms.json','w') as f:\n",
    "    json.dump(cluster_histograms_writable, f)"
   ]
  },
  {
   "cell_type": "code",
   "execution_count": null,
   "metadata": {},
   "outputs": [],
   "source": []
  },
  {
   "cell_type": "code",
   "execution_count": null,
   "metadata": {},
   "outputs": [],
   "source": []
  }
 ],
 "metadata": {
  "interpreter": {
   "hash": "4cffe7c9c5b16c39ad8342f96bfb2ea1c3f8c12324c2ee5fa5fb5a776efa78cb"
  },
  "kernelspec": {
   "display_name": "Python 3.7.4 64-bit ('.venv': venv)",
   "language": "python",
   "name": "python3"
  },
  "language_info": {
   "codemirror_mode": {
    "name": "ipython",
    "version": 3
   },
   "file_extension": ".py",
   "mimetype": "text/x-python",
   "name": "python",
   "nbconvert_exporter": "python",
   "pygments_lexer": "ipython3",
   "version": "3.8.12"
  },
  "orig_nbformat": 4
 },
 "nbformat": 4,
 "nbformat_minor": 2
}
