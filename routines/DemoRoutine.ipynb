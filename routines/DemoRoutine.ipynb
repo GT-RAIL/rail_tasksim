{
 "cells": [
  {
   "cell_type": "code",
   "execution_count": 37,
   "metadata": {},
   "outputs": [],
   "source": [
    "import os\n",
    "import numpy as np\n",
    "import networkx as nx\n",
    "from copy import deepcopy\n",
    "import json"
   ]
  },
  {
   "cell_type": "code",
   "execution_count": 44,
   "metadata": {},
   "outputs": [],
   "source": [
    "class Graph():\n",
    "    def __init__(self, root='kitchen'):\n",
    "        self.root = root\n",
    "        self.parents = {}\n",
    "    \n",
    "    def add(self, node, parent):\n",
    "        assert parent in self.parents.keys() or parent == self.root\n",
    "        self.parents[node] = parent\n",
    "\n",
    "    def draw(self):\n",
    "        G = nx.DiGraph()\n",
    "        G.add_nodes_from(list(self.parents.keys()))\n",
    "        G.add_edges_from([(n, self.parents[n]) for n in self.parents])\n",
    "        still_remaining = deepcopy(list(self.parents.keys()))\n",
    "        nodelists = [[self.root]]\n",
    "        while(len(still_remaining)):\n",
    "            new_layer = []\n",
    "            remaining_nodes = still_remaining\n",
    "            still_remaining = []\n",
    "            for n in remaining_nodes:\n",
    "                if self.parents[n] in nodelists[-1]:\n",
    "                    # print(n)\n",
    "                    new_layer.append(n)\n",
    "                else:\n",
    "                    still_remaining.append(n)\n",
    "            nodelists.append(new_layer)\n",
    "            # print(new_layer)\n",
    "        nx.draw_networkx(G)\n",
    "    \n",
    "    def move(self, object, location):\n",
    "        assert location in self.parents.keys() or location == self.root\n",
    "        self.parents[object] = location\n",
    "    \n",
    "    def to_dict(self):\n",
    "        id_map = {self.root:0}\n",
    "        id_map .update({n:i+1 for i,n in enumerate(self.parents.keys())})\n",
    "        graph_dict = {}\n",
    "        graph_dict['nodes'] = [{'id':i, 'class_name':n} for n,i in id_map.items()]\n",
    "        graph_dict['edges'] = [{'from_id':id_map[n], 'to_id':id_map[p], 'relation_type':'INSIDE'} for n,p in self.parents.items()]\n",
    "        return graph_dict\n",
    "\n",
    "    def dump(self, filename):\n",
    "        graph_dict = self.to_dict()\n",
    "        with open (filename, 'w') as f:\n",
    "            json.dump(graph_dict, f, indent=4)\n"
   ]
  },
  {
   "cell_type": "code",
   "execution_count": 45,
   "metadata": {},
   "outputs": [
    {
     "data": {
      "image/png": "[encoded data removed]",
      "text/plain": [
       "<Figure size 432x288 with 1 Axes>"
      ]
     },
     "metadata": {},
     "output_type": "display_data"
    }
   ],
   "source": [
    "initial_graph = Graph('kitchen')\n",
    "initial_graph.add(node='shelf', parent='kitchen')\n",
    "initial_graph.add(node='drawer', parent='kitchen')\n",
    "initial_graph.add(node='sink', parent='kitchen')\n",
    "initial_graph.add(node='counter', parent='kitchen')\n",
    "initial_graph.add(node='fridge', parent='kitchen')\n",
    "initial_graph.add(node='table', parent='kitchen')\n",
    "\n",
    "initial_graph.add(node='cereal', parent='shelf')\n",
    "initial_graph.add(node='bowl', parent='drawer')\n",
    "initial_graph.add(node='pills', parent='drawer')\n",
    "initial_graph.add(node='banana', parent='counter')\n",
    "initial_graph.add(node='glass', parent='counter')\n",
    "initial_graph.add(node='milk', parent='fridge')\n",
    "# print(initial_graph.parents)\n",
    "initial_graph.draw()"
   ]
  },
  {
   "cell_type": "code",
   "execution_count": 46,
   "metadata": {},
   "outputs": [],
   "source": [
    "initial_graph.dump('demo_graph.json')"
   ]
  },
  {
   "cell_type": "code",
   "execution_count": 47,
   "metadata": {},
   "outputs": [],
   "source": [
    "import random\n",
    "def d(dmin, dmax):\n",
    "    return (random.random()*(dmax-dmin))+dmin"
   ]
  },
  {
   "cell_type": "code",
   "execution_count": 51,
   "metadata": {},
   "outputs": [],
   "source": [
    "def execute_routine(graph, initial_time, steps):\n",
    "    time = initial_time\n",
    "    graph_list = []\n",
    "    time_list = []\n",
    "    for ((obj, loc), (dmin, dmax)) in steps:\n",
    "        duration = d(dmin, dmax)\n",
    "        graph.move(obj, loc)\n",
    "        graph_list.append(deepcopy(graph.to_dict()))\n",
    "        time_list.append(deepcopy(time))\n",
    "        time += duration\n",
    "    obj_in_use = [[] for _ in range(len(graph_list))]\n",
    "    return {\"graphs\":graph_list, \"times\": time_list, \"objects_in_use\":obj_in_use}\n",
    "\n",
    "\n",
    "breakfast_routine_major_steps = [\n",
    "        (('cereal', 'table'), (60,120)),\n",
    "        (('milk', 'table'), (3,5)),\n",
    "        (('bowl', 'table'), (3,5)),\n",
    "        (('glass', 'table'), (3,5)),\n",
    "        (('milk', 'fridge'), (10,15)),\n",
    "        (('bowl', 'sink'), (10,15)),\n",
    "        (('glass', 'sink'), (3,5)),\n",
    "        (('cereal', 'shelf'), (3,5))\n",
    "    ]\n",
    "\n",
    "breakfast_routine_minor_steps = [\n",
    "        (('banana', 'table'), (60,120)),\n",
    "        (('glass', 'table'), (3,5)),\n",
    "        (('glass', 'sink'), (10,15))\n",
    "    ]\n",
    "\n",
    "medication_steps = [\n",
    "        (('pills', 'table'), (60,120)),\n",
    "        (('glass', 'table'), (3,5)),\n",
    "        (('glass', 'sink'), (10,15)),\n",
    "        (('pills', 'drawer'), (3,5))\n",
    "]"
   ]
  },
  {
   "cell_type": "code",
   "execution_count": 54,
   "metadata": {},
   "outputs": [],
   "source": [
    "major_breakfast_prob = 0.8\n",
    "\n",
    "directory = 'demo_routines/routines_train'\n",
    "os.makedirs(directory)\n",
    "for i in range(30):\n",
    "    if random.random() < 0.8:\n",
    "        routine = execute_routine(initial_graph, 0, breakfast_routine_major_steps+medication_steps)\n",
    "    else:\n",
    "        routine = execute_routine(initial_graph, 0, breakfast_routine_minor_steps+medication_steps)\n",
    "    \n",
    "    with open(os.path.join(directory,\"{:3d}.json\".format(i)), 'w') as f:\n",
    "        json.dump(routine, f)\n",
    "\n",
    "directory = 'demo_routines/routines_test'\n",
    "os.makedirs(directory)\n",
    "for i in range(10):\n",
    "    if random.random() < 0.8:\n",
    "        routine = execute_routine(initial_graph, 0, breakfast_routine_major_steps+medication_steps)\n",
    "    else:\n",
    "        routine = execute_routine(initial_graph, 0, breakfast_routine_minor_steps+medication_steps)\n",
    "    \n",
    "    with open(os.path.join(directory,\"{:3d}.json\".format(i)), 'w') as f:\n",
    "        json.dump(routine, f)\n",
    "\n"
   ]
  },
  {
   "cell_type": "code",
   "execution_count": null,
   "metadata": {},
   "outputs": [],
   "source": []
  }
 ],
 "metadata": {
  "interpreter": {
   "hash": "6f2dbfa5ef75a9144d7b0485e8c79d6707cb4300dbf38d3b3596c375ba449bc0"
  },
  "kernelspec": {
   "display_name": "Python 3.8.12 ('pyml')",
   "language": "python",
   "name": "python3"
  },
  "language_info": {
   "codemirror_mode": {
    "name": "ipython",
    "version": 3
   },
   "file_extension": ".py",
   "mimetype": "text/x-python",
   "name": "python",
   "nbconvert_exporter": "python",
   "pygments_lexer": "ipython3",
   "version": "3.8.12"
  },
  "orig_nbformat": 4
 },
 "nbformat": 4,
 "nbformat_minor": 2
}
