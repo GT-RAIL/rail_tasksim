{
 "cells": [
  {
   "cell_type": "markdown",
   "source": [
    "## Setup the Simulator"
   ],
   "metadata": {}
  },
  {
   "cell_type": "code",
   "execution_count": 1,
   "source": [
    "%load_ext autoreload\n",
    "%autoreload 2\n",
    "\n",
    "\n",
    "import os\n",
    "import json\n",
    "import numpy as np\n",
    "import sys\n",
    "sys.path.append('simulation')\n",
    "from unity_simulator.comm_unity import UnityCommunication\n",
    "from dataset_utils import execute_script_utils as utils\n",
    "from evolving_graph import scripts\n",
    "from GraphReader import GraphReader, remove_nodes_from_graph, reference_graph_file, base_graph_file, init_graph_file, scene_num\n",
    "\n",
    "print(f'Using scene {int(scene_num)-1}, i.e. TrimmedTestScene{scene_num}')"
   ],
   "outputs": [
    {
     "output_type": "stream",
     "name": "stdout",
     "text": [
      "Using scene 1, i.e. TrimmedTestScene2\n"
     ]
    }
   ],
   "metadata": {}
  },
  {
   "cell_type": "markdown",
   "source": [
    "## Add necessary objects"
   ],
   "metadata": {}
  },
  {
   "cell_type": "markdown",
   "source": [
    "Some objects need to be removed."
   ],
   "metadata": {}
  },
  {
   "cell_type": "code",
   "execution_count": 2,
   "source": [
    "nodes = ['phone', 'cellphone', 'dresser', 'keyboard', 'orchid', 'pillow']\n",
    "remove_nodes_from_graph(reference_graph_file, nodes, base_graph_file)"
   ],
   "outputs": [],
   "metadata": {}
  },
  {
   "cell_type": "code",
   "execution_count": 3,
   "source": [
    "base_graph = GraphReader(base_graph_file)"
   ],
   "outputs": [],
   "metadata": {}
  },
  {
   "cell_type": "markdown",
   "source": [
    "Fill in objects placements in `AddObjects.py` with statements of the form :\n",
    " ```\n",
    " base_graph.add(\"food_apple\", \"ON\", ref_nodes['dining_room']['kitchen_counter'])\n",
    " ```"
   ],
   "metadata": {}
  },
  {
   "cell_type": "markdown",
   "source": [
    "### Some 'furniture' was missing in the graphs so we add them first"
   ],
   "metadata": {}
  },
  {
   "cell_type": "code",
   "execution_count": 4,
   "source": [
    "ref_nodes = base_graph.usable_nodes_by_room\n",
    "\n",
    "washing_machine_id = base_graph.new_obj_id\n",
    "base_graph.add(\"washing_machine\", \"INSIDE\", ref_nodes['dining_room']['dining_room'])\n",
    "base_graph.usable_nodes_by_room['dining_room']['washing_machine'] = washing_machine_id\n",
    "base_graph.new_obj_id += 1\n",
    "\n",
    "stove_id = base_graph.new_obj_id\n",
    "base_graph.add(\"stove\", \"ON\", ref_nodes['dining_room']['kitchen_counter'])\n",
    "base_graph.usable_nodes_by_room['dining_room']['stove'] = stove_id\n",
    "base_graph.new_obj_id += 1\n",
    "\n",
    "cabinet_id = base_graph.new_obj_id\n",
    "base_graph.add(\"kitchen_cabinet\", \"INSIDE\", ref_nodes['dining_room']['dining_room'])\n",
    "base_graph.usable_nodes_by_room['dining_room']['kitchen_cabinet'] = cabinet_id\n",
    "base_graph.new_obj_id += 1\n",
    "\n",
    "fridge_id = base_graph.new_obj_id\n",
    "base_graph.add(\"fridge\", \"INSIDE\", ref_nodes['dining_room']['dining_room'])\n",
    "base_graph.usable_nodes_by_room['dining_room']['fridge'] = fridge_id\n",
    "base_graph.new_obj_id += 1\n",
    "\n",
    "dresser_id = base_graph.new_obj_id\n",
    "base_graph.add(\"dresser\", \"INSIDE\", ref_nodes['bedroom']['bedroom'])\n",
    "base_graph.usable_nodes_by_room['bedroom']['dresser'] = dresser_id\n",
    "base_graph.new_obj_id += 1\n",
    "\n",
    "shoe_rack_id = base_graph.new_obj_id\n",
    "base_graph.add(\"shoe_rack\", \"INSIDE\", ref_nodes['dining_room']['dining_room'])\n",
    "base_graph.usable_nodes_by_room['dining_room']['shoe_rack'] = shoe_rack_id\n",
    "base_graph.new_obj_id += 1\n",
    "\n",
    "\n",
    "base_graph.node_map['<washing_machine>'] = f'<washing_machine> ({washing_machine_id})'\n",
    "base_graph.node_map['<stove>'] = f'<stove> ({stove_id})'\n",
    "base_graph.node_map['<kitchen_cabinet>'] = f'<kitchen_cabinet> ({cabinet_id})'\n",
    "base_graph.node_map['<fridge>'] = f'<fridge> ({fridge_id})'\n",
    "base_graph.node_map['<dresser>'] = f'<dresser> ({dresser_id})'\n",
    "base_graph.node_map['<shoe_rack>'] = f'<shoe_rack> ({shoe_rack_id})'"
   ],
   "outputs": [],
   "metadata": {}
  },
  {
   "cell_type": "code",
   "execution_count": 5,
   "source": [
    "print('List of available locations :')\n",
    "for room,nodelist in ref_nodes.items():\n",
    "    print('##### ',room,' #####')\n",
    "    furniture = list(nodelist.keys())\n",
    "    furniture.sort()\n",
    "    print(furniture)"
   ],
   "outputs": [
    {
     "output_type": "stream",
     "name": "stdout",
     "text": [
      "List of available locations :\n",
      "#####  bathroom  #####\n",
      "['bathroom', 'bathroom_cabinet', 'bathroom_counter', 'ceilinglamp', 'curtain', 'drawing', 'faucet', 'light', 'mat', 'shower', 'sink', 'toilet', 'walllamp']\n",
      "#####  dining_room  #####\n",
      "['bench', 'bookshelf', 'ceilinglamp', 'coffe_maker', 'cupboard', 'dining_room', 'dishwasher', 'drawing', 'faucet', 'freezer', 'fridge', 'kitchen_cabinet', 'kitchen_counter', 'knifeblock', 'light', 'mat', 'microwave', 'oven', 'pot', 'powersocket', 'shoe_rack', 'sink', 'stove', 'stovefan', 'table', 'toaster', 'trashcan', 'tray', 'tvstand', 'walllamp', 'washing_machine']\n",
      "#####  bedroom  #####\n",
      "['bed', 'bedroom', 'bookshelf', 'ceilinglamp', 'chair', 'computer', 'cpuscreen', 'curtain', 'desk', 'drawing', 'dresser', 'filing_cabinet', 'light', 'mat', 'mouse', 'mousepad', 'nightstand', 'photoframe', 'sofa', 'table', 'tablelamp']\n",
      "#####  home_office  #####\n",
      "['bookshelf', 'ceilinglamp', 'chair', 'computer', 'cpuscreen', 'curtain', 'desk', 'drawing', 'hanger', 'home_office', 'light', 'mat', 'mouse', 'mousepad', 'powersocket', 'sofa', 'table', 'television', 'tvstand', 'walllamp']\n"
     ]
    }
   ],
   "metadata": {}
  },
  {
   "cell_type": "code",
   "execution_count": 6,
   "source": [
    "%run -i 'AddObjects.py'"
   ],
   "outputs": [],
   "metadata": {}
  },
  {
   "cell_type": "code",
   "execution_count": 7,
   "source": [
    "base_graph.write(init_graph_file)"
   ],
   "outputs": [],
   "metadata": {}
  },
  {
   "cell_type": "code",
   "execution_count": 8,
   "source": [
    "with open('ActivityObjects.json') as f:\n",
    "    activities = list(json.load(f).keys())\n",
    "\n",
    "for act in activities:\n",
    "    activity_dir = os.path.join('sourcedScripts',act)\n",
    "    if not os.path.exists(activity_dir):\n",
    "        os.makedirs(activity_dir)"
   ],
   "outputs": [],
   "metadata": {}
  }
 ],
 "metadata": {
  "interpreter": {
   "hash": "6c44053934534b20d3a940e90c6cf7ed3394be216f46c73e9aa30edae98e616b"
  },
  "kernelspec": {
   "name": "python3",
   "display_name": "Python 3.6.9 64-bit ('.venv': virtualenv)"
  },
  "language_info": {
   "codemirror_mode": {
    "name": "ipython",
    "version": 3
   },
   "file_extension": ".py",
   "mimetype": "text/x-python",
   "name": "python",
   "nbconvert_exporter": "python",
   "pygments_lexer": "ipython3",
   "version": "3.6.9"
  },
  "orig_nbformat": 4
 },
 "nbformat": 4,
 "nbformat_minor": 2
}