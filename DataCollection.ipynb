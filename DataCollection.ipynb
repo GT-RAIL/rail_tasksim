{
 "cells": [
  {
   "cell_type": "markdown",
   "metadata": {},
   "source": [
    "## Setup the Simulator"
   ]
  },
  {
   "cell_type": "code",
   "execution_count": null,
   "metadata": {},
   "outputs": [],
   "source": [
    "%load_ext autoreload\n",
    "%autoreload 2\n",
    "\n",
    "\n",
    "import os\n",
    "import re\n",
    "import json\n",
    "import glob\n",
    "import random\n",
    "import numpy as np\n",
    "import shutil\n",
    "import sys\n",
    "sys.path.append('simulation')\n",
    "from unity_simulator.comm_unity import UnityCommunication\n",
    "from dataset_utils import execute_script_utils as utils\n",
    "from evolving_graph import scripts\n",
    "\n",
    "def setup():\n",
    "    comm = UnityCommunication()\n",
    "    return comm\n",
    "\n",
    "def process_file_inbuilt(script_file, graph_file):\n",
    "    return utils.render_script_from_path(setup(),\n",
    "                                script_file, graph_file,\n",
    "                                {\"processing_time_limit\": 500, \"image_width\": 320, \"image_height\": 240, \"image_synthesis\": ['normal'], \"gen_vid\": True, \"file_name_prefix\": \"test\", \"camera_mode\": 'PERSON_TOP'}, scene_id=1)"
   ]
  },
  {
   "cell_type": "code",
   "execution_count": null,
   "metadata": {},
   "outputs": [],
   "source": [
    "bare_graph_file = 'example_graphs/CustomSceneBare_graph.json'\n",
    "init_graph_file = 'example_graphs/CustomScene_graph.json'\n",
    "unnecessary_nodes = ['floor','wall','ceiling','window','character','door','doorjamb']"
   ]
  },
  {
   "cell_type": "markdown",
   "metadata": {},
   "source": [
    "## Add necessary objects"
   ]
  },
  {
   "cell_type": "code",
   "execution_count": null,
   "metadata": {},
   "outputs": [],
   "source": [
    "with open (bare_graph_file,'r') as f:\n",
    "    graph_dict = json.load(f)\n",
    "\n",
    "nodes = {n['id']:n['class_name'] for n in graph_dict['nodes']}\n",
    "\n",
    "for e in graph_dict['edges']:\n",
    "    rel = e['relation_type']\n",
    "    if rel != \"CLOSE\" and rel!= \"FACING\":\n",
    "        n1 = e['from_id']\n",
    "        n2 = e['to_id']\n",
    "        if nodes[n1] not in unnecessary_nodes and nodes[n2] not in unnecessary_nodes:\n",
    "            print(f'{nodes[n1]}({n1}) {rel} {nodes[n2]}({n2})')\n",
    "\n",
    "new_obj_id = 1000\n",
    "with open ('resources/object_states.json','r') as f:\n",
    "    object_states = json.load(f)\n",
    "with open ('resources/properties_data.json','r') as f:\n",
    "    object_properties = json.load(f)\n",
    "\n",
    "def add_to_scene(obj, relation, parent_id):\n",
    "    assert(relation in [\"INSIDE\",\"ON\"])\n",
    "    global new_obj_id, graph_dict\n",
    "    new_node = None\n",
    "    new_edges = []\n",
    "    # graph_dict['nodes'].append({\"id\": new_obj_id, \"class_name\": obj, \"category\": \"placable_objects\", \"properties\": object_properties[obj], \"states\": object_states[obj], \"prefab_name\": None, \"bounding_box\": None})\n",
    "    graph_dict['nodes'].append({\"id\": new_obj_id, \"class_name\": obj, \"category\": \"placable_objects\", \"properties\": [], \"states\": [], \"prefab_name\": None, \"bounding_box\": None})\n",
    "    graph_dict['edges'].append({\"from_id\":new_obj_id, \"relation_type\":relation, \"to_id\":parent_id})\n",
    "    for e in graph_dict['edges']:\n",
    "        if e is not None:\n",
    "            if e['from_id'] == parent_id and e['relation_type'] in [\"INSIDE\",\"ON\"]:\n",
    "                ne = e.copy()\n",
    "                ne.update({\"from_id\":new_obj_id})\n",
    "                graph_dict['edges'].append(ne)\n",
    "    new_obj_id += 1"
   ]
  },
  {
   "cell_type": "code",
   "execution_count": null,
   "metadata": {},
   "outputs": [],
   "source": [
    "add_to_scene(\"food_apple\",\"ON\",230)"
   ]
  },
  {
   "cell_type": "code",
   "execution_count": null,
   "metadata": {},
   "outputs": [],
   "source": [
    "with open (init_graph_file,'w') as f:\n",
    "    json.dump(graph_dict, f)"
   ]
  },
  {
   "cell_type": "markdown",
   "metadata": {},
   "source": [
    "## Prepare guide based on graph"
   ]
  },
  {
   "cell_type": "code",
   "execution_count": null,
   "metadata": {},
   "outputs": [],
   "source": [
    "# import networkx as nx\n",
    "edges = {}\n",
    "\n",
    "# graph = nx.DiGraph()\n",
    "with open (init_graph_file,'r') as f:\n",
    "    graph_dict = json.load(f)\n",
    "nodes = {n['id']:n['class_name'] for n in graph_dict['nodes']}\n",
    "nodes_by_room = {n['class_name']:{} for n in graph_dict['nodes'] if n['category'] == \"Rooms\"}\n",
    "node_rooms = {n['class_name']:{} for n in graph_dict['nodes'] if n['category'] == \"Rooms\"}\n",
    "node_map = {'<'+n['class_name']+'>': '<'+n['class_name']+'> ('+str(n['id'])+')' for n in graph_dict['nodes'] if n['category'] == \"Rooms\"}\n",
    "\n",
    "for e in graph_dict['edges']:\n",
    "    rel = e['relation_type']\n",
    "    if rel != \"CLOSE\" and rel!= \"FACING\":\n",
    "        n1 = e['from_id']\n",
    "        n2 = e['to_id']\n",
    "        if nodes[n1] not in unnecessary_nodes and nodes[n2] not in unnecessary_nodes:\n",
    "            edge_id = (nodes[n1],rel,nodes[n2])\n",
    "            if edge_id not in edges:\n",
    "                edges[edge_id] = e.update({'from_class':nodes[n1], 'to_class':nodes[n2]})\n",
    "            if nodes[n2] in nodes_by_room:\n",
    "                nodes_by_room[nodes[n2]][n1] = nodes[n1]\n",
    "                node_rooms[n1] = nodes[n2]\n",
    "            # graph.add_edge(f'{nodes[n1]}({n1})', f'{nodes[n2]}({n2})', type=rel)\n",
    "\n",
    "print(len(nodes))\n",
    "print(sum([len(l) for l in nodes_by_room.values()]))\n",
    "print([nodes[id] for id in node_rooms if node_rooms[id]==None])\n"
   ]
  },
  {
   "cell_type": "code",
   "execution_count": null,
   "metadata": {},
   "outputs": [],
   "source": [
    "usable_nodes_by_room = {}\n",
    "for room,nodelist in nodes_by_room.items():\n",
    "    usable_nodes_by_room[room] = {}\n",
    "    for id, name in nodelist.items():\n",
    "        if name not in usable_nodes_by_room[room]:\n",
    "            usable_nodes_by_room[room][name] = id\n",
    "\n",
    "repeated_nodes = []\n",
    "for l in usable_nodes_by_room.values():\n",
    "    repeated_nodes += list(l.keys())\n",
    "repeated_nodes  = [n for n in repeated_nodes if repeated_nodes.count(n)>1]\n",
    "\n",
    "expanded_nodes_by_room = {}\n",
    "for room,nodelist in usable_nodes_by_room.items():\n",
    "    expanded_nodes_by_room[room] = {}\n",
    "    for name, id in nodelist.items():\n",
    "        full_name = name\n",
    "        if name in repeated_nodes:\n",
    "            full_name += '_'+room\n",
    "        expanded_nodes_by_room[room][full_name] = (name,id)\n",
    "\n",
    "for l in expanded_nodes_by_room.values():\n",
    "    node_map.update({f'<{key}>':f'<{val[0]}> ({val[1]})' for key,val in l.items()})\n",
    "\n",
    "print(node_map.keys())\n"
   ]
  },
  {
   "cell_type": "code",
   "execution_count": null,
   "metadata": {},
   "outputs": [],
   "source": [
    "from evolving_graph.scripts import Script, parse_script_line\n",
    "from evolving_graph.environment import EnvironmentGraph\n",
    "from evolving_graph.execution import ScriptExecutor\n",
    "import evolving_graph.utils as utils\n",
    "\n",
    "class ProgramExecutor():\n",
    "    def __init__(self, program_file='program.txt', graph_file=init_graph_file):\n",
    "        with open (graph_file,'r') as f:\n",
    "            self.init_graph_dict = json.load(f)\n",
    "        self.init_graph = EnvironmentGraph(self.init_graph_dict)\n",
    "        self.read_program(program_file)\n",
    "\n",
    "    def read_program(self, file_name):\n",
    "        self.action_scripts = []\n",
    "        self.single_script = []\n",
    "        self.action_headers = []\n",
    "        with open(file_name) as f:\n",
    "            lines = []\n",
    "            index = 1\n",
    "            for line in f:\n",
    "                if line.startswith('##'):\n",
    "                    self.action_headers.append(line[2:].strip())\n",
    "                    self.action_scripts.append(lines)\n",
    "                    lines = []\n",
    "                    index = 1\n",
    "                if '[' not in line:\n",
    "                    continue\n",
    "                line = line.strip()\n",
    "                if len(line) > 0 and not line.startswith('#'):\n",
    "                    mapped_line = line\n",
    "                    for full_name, name_id in node_map.items():\n",
    "                        mapped_line = mapped_line.replace(full_name, name_id)\n",
    "                    scr_line = parse_script_line(mapped_line, index, custom_patt_params = r'\\<(.+?)\\>\\s*\\((.+?)\\)')\n",
    "                    print(scr_line)\n",
    "                    self.single_script.append(scr_line)\n",
    "                    lines.append(scr_line)\n",
    "                    index += 1\n",
    "\n",
    "    def execute(self):\n",
    "        name_equivalence = utils.load_name_equivalence()\n",
    "        executor = ScriptExecutor(self.init_graph, name_equivalence)\n",
    "        graphs = []\n",
    "        for header, script in zip(self.action_headers, self.action_scripts):\n",
    "            success, state, _ = executor.execute(Script(script), w_graph_list=False)\n",
    "            if not success:\n",
    "                raise RuntimeError(f'Execution of {header} failed')\n",
    "            graphs.append(state._graph)\n",
    "        return self.action_headers, graphs"
   ]
  },
  {
   "cell_type": "code",
   "execution_count": null,
   "metadata": {},
   "outputs": [],
   "source": [
    "ProgramExecutor().execute()\n"
   ]
  },
  {
   "cell_type": "markdown",
   "metadata": {},
   "source": []
  }
 ],
 "metadata": {
  "interpreter": {
   "hash": "c0674fbd63299d983e2055c825b7503b2e6cabbeb669a9608e463c0c32d0bb71"
  },
  "kernelspec": {
   "display_name": "Python 3.6.9 64-bit ('.venv': venv)",
   "language": "python",
   "name": "python3"
  },
  "language_info": {
   "codemirror_mode": {
    "name": "ipython",
    "version": 3
   },
   "file_extension": ".py",
   "mimetype": "text/x-python",
   "name": "python",
   "nbconvert_exporter": "python",
   "pygments_lexer": "ipython3",
   "version": "3.6.9"
  },
  "orig_nbformat": 4
 },
 "nbformat": 4,
 "nbformat_minor": 2
}
