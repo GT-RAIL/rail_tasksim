{
 "cells": [
  {
   "cell_type": "markdown",
   "metadata": {},
   "source": [
    "## Setup the Simulator"
   ]
  },
  {
   "cell_type": "code",
   "execution_count": null,
   "metadata": {},
   "outputs": [],
   "source": [
    "%load_ext autoreload\n",
    "%autoreload 2\n",
    "\n",
    "\n",
    "import os\n",
    "import json\n",
    "import numpy as np\n",
    "import sys\n",
    "sys.path.append('simulation')\n",
    "from GraphReader import GraphReader, init_graph_file, scene_num\n",
    "from ProgramExecutor import execute_program\n",
    "\n",
    "init_graph = GraphReader(graph_file=init_graph_file)\n",
    "print(f'Using scene {int(scene_num)-1}, i.e. \\'TestScene{scene_num}\\'')"
   ]
  },
  {
   "cell_type": "code",
   "execution_count": null,
   "metadata": {},
   "outputs": [],
   "source": [
    "print('List of all objects : ')\n",
    "for room, stuff in init_graph.expanded_nodes_by_room.items():\n",
    "    print('##### ',room,' #####')\n",
    "    print(list(stuff.keys()))"
   ]
  },
  {
   "cell_type": "markdown",
   "metadata": {},
   "source": [
    "## Pick your Activity"
   ]
  },
  {
   "cell_type": "markdown",
   "metadata": {},
   "source": [
    "Activity options : \n",
    "\n",
    "`getting_out_of_bed, brushing_teeth, showering, getting_dressed, leave_home, going_to_the_bathroom, breakfast, lunch, dinner, reading, computer_work, watching_tv, hand_wash_clothes, laundry, kitchen_cleaning, vaccuum_cleaning, wash_dishes, take_out_trash, taking_medication, sleeping, cleaning, listening_to_music, socializing, diary_logging, playing_music, coming_back_home`"
   ]
  },
  {
   "cell_type": "code",
   "execution_count": null,
   "metadata": {},
   "outputs": [],
   "source": [
    "activity = input('Which are you scripting?')\n",
    "directory = os.path.join('sourcedScripts',activity)\n",
    "if not os.path.exists(directory):\n",
    "    raise KeyError('Are you sure you typed the correct activity? Please try again...')\n",
    "with open('ActivityObjects.json') as f:\n",
    "    objs = json.load(f)\n",
    "    available_obj_for_activity = objs[activity] + objs[\"all_activities\"]\n",
    "\n",
    "print('Objects suitable for the chosen activity are : ')\n",
    "for room, stuff in init_graph.expanded_nodes_by_room.items():\n",
    "    available_obj = [full_obj for full_obj,(obj,id) in list(stuff.items()) if obj in available_obj_for_activity]\n",
    "    available_obj.sort()\n",
    "    print('##### ',room,' #####')\n",
    "    print(available_obj)"
   ]
  },
  {
   "cell_type": "markdown",
   "metadata": {},
   "source": [
    "# Write the Program <br>\n",
    "\n",
    "### Write the desired program in `program.txt`. The program should include a list of actions and comments specifying how much time you expect it to take.\n",
    "Example\n",
    "```\n",
    "## 1-2\n",
    "[Walk] <dining_room>\n",
    "[Walk] <food_apple>\n",
    "## 3-4\n",
    "[Grab] <food_apple>\n",
    "[Walk] <kitchen_counter>\n",
    "[PutBack] <food_apple> <kitchen_counter>\n",
    "```\n",
    "#### Note: Every comment must start with `##` and be of the form `<min_time_in_mins> - <max_time_in_mins>`\n",
    "\n",
    "You will find the list of objects you can use above this cell. Here is a list of actions you can use : <br>\n",
    "`WALK, FIND, SIT, STANDUP, GRAB, OPEN, CLOSE, PUTBACK, PUTIN, SWITCHON, SWITCHOFF, DRINK, LOOKAT, TURNTO, WIPE, RUN, PUTON, PUTOFF, GREET, DROP, READ, POINTAT, TOUCH, LIE, PUTOBJBACK, POUR, TYPE, WATCH, PUSH, PULL, MOVE, RINSE, WASH, SCRUB, SQUEEZE, PLUGIN, PLUGOUT, CUT, EAT, SLEEP, WAKEUP, RELEASE`\n",
    "\n",
    "Once you are done writing the program, run the below cell to check if it works."
   ]
  },
  {
   "cell_type": "code",
   "execution_count": null,
   "metadata": {},
   "outputs": [],
   "source": [
    "action_headers, graphs = execute_program(program_file='program.txt', graph_file=init_graph_file, node_map=init_graph.node_map)"
   ]
  },
  {
   "cell_type": "markdown",
   "metadata": {},
   "source": [
    "## If everything looks good, move the script to your database :)"
   ]
  },
  {
   "cell_type": "code",
   "execution_count": null,
   "metadata": {},
   "outputs": [],
   "source": [
    "existing_files = [int(os.path.splitext(file)[0]) for file in os.listdir(directory)]\n",
    "if existing_files:\n",
    "    new_file = os.path.join(directory, str(max(existing_files)+1)+'.txt')\n",
    "else:\n",
    "    new_file = os.path.join(directory, '0.txt')\n",
    "print(f'Saving your awesome script at {new_file}')\n",
    "os.rename('program.txt',new_file)\n",
    "open('program.txt', 'a').close()"
   ]
  },
  {
   "cell_type": "markdown",
   "metadata": {},
   "source": [
    "### In case you need to remove your script"
   ]
  },
  {
   "cell_type": "code",
   "execution_count": null,
   "metadata": {},
   "outputs": [],
   "source": [
    "os.remove(new_file)"
   ]
  },
  {
   "cell_type": "markdown",
   "metadata": {},
   "source": [
    "# Hurray! You did it :)"
   ]
  }
 ],
 "metadata": {
  "interpreter": {
   "hash": "c0674fbd63299d983e2055c825b7503b2e6cabbeb669a9608e463c0c32d0bb71"
  },
  "kernelspec": {
   "display_name": "Python 3.6.9 64-bit ('.venv': venv)",
   "language": "python",
   "name": "python3"
  },
  "language_info": {
   "codemirror_mode": {
    "name": "ipython",
    "version": 3
   },
   "file_extension": ".py",
   "mimetype": "text/x-python",
   "name": "python",
   "nbconvert_exporter": "python",
   "pygments_lexer": "ipython3",
   "version": "3.7.4"
  },
  "orig_nbformat": 4
 },
 "nbformat": 4,
 "nbformat_minor": 2
}
