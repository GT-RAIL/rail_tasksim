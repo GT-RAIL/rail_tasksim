{
 "cells": [
  {
   "cell_type": "markdown",
   "metadata": {},
   "source": [
    "## Setup the Simulator"
   ]
  },
  {
   "cell_type": "code",
   "execution_count": 33,
   "metadata": {},
   "outputs": [
    {
     "name": "stdout",
     "output_type": "stream",
     "text": [
      "The autoreload extension is already loaded. To reload it, use:\n",
      "  %reload_ext autoreload\n",
      "Using scene 1, i.e. TrimmedTestScene2\n"
     ]
    }
   ],
   "source": [
    "%load_ext autoreload\n",
    "%autoreload 2\n",
    "\n",
    "\n",
    "import os\n",
    "import json\n",
    "import numpy as np\n",
    "import sys\n",
    "sys.path.append('simulation')\n",
    "from unity_simulator.comm_unity import UnityCommunication\n",
    "from dataset_utils import execute_script_utils as utils\n",
    "from evolving_graph import scripts\n",
    "from GraphReader import GraphReader, remove_nodes_from_graph, reference_graph_file, base_graph_file, init_graph_file, scene_num\n",
    "\n",
    "print(f'Using scene {int(scene_num)-1}, i.e. TrimmedTestScene{scene_num}')"
   ]
  },
  {
   "cell_type": "markdown",
   "metadata": {},
   "source": [
    "## Add necessary objects"
   ]
  },
  {
   "cell_type": "markdown",
   "metadata": {},
   "source": [
    "Some objects need to be removed."
   ]
  },
  {
   "cell_type": "code",
   "execution_count": 34,
   "metadata": {},
   "outputs": [],
   "source": [
    "nodes = ['phone', 'cellphone', 'dresser', 'keyboard', 'orchid', 'pillow']\n",
    "remove_nodes_from_graph(reference_graph_file, nodes, base_graph_file)"
   ]
  },
  {
   "cell_type": "code",
   "execution_count": 35,
   "metadata": {},
   "outputs": [],
   "source": [
    "base_graph = GraphReader(base_graph_file)"
   ]
  },
  {
   "cell_type": "markdown",
   "metadata": {},
   "source": [
    "Fill in objects placements in `AddObjects.py` with statements of the form :\n",
    " ```\n",
    " base_graph.add(\"food_apple\", \"ON\", ref_nodes['dining_room']['kitchen_counter'])\n",
    " ```"
   ]
  },
  {
   "cell_type": "markdown",
   "metadata": {},
   "source": [
    "### Some 'furniture' was missing in the graphs so we add them first"
   ]
  },
  {
   "cell_type": "code",
   "execution_count": 36,
   "metadata": {},
   "outputs": [],
   "source": [
    "ref_nodes = base_graph.usable_nodes_by_room\n",
    "\n",
    "washing_machine_id = base_graph.new_obj_id\n",
    "base_graph.add(\"washing_machine\", \"INSIDE\", ref_nodes['dining_room']['dining_room'])\n",
    "base_graph.usable_nodes_by_room['dining_room']['washing_machine'] = washing_machine_id\n",
    "base_graph.new_obj_id += 1\n",
    "\n",
    "stove_id = base_graph.new_obj_id\n",
    "base_graph.add(\"stove\", \"ON\", ref_nodes['dining_room']['kitchen_counter'])\n",
    "base_graph.usable_nodes_by_room['dining_room']['stove'] = stove_id\n",
    "base_graph.new_obj_id += 1\n",
    "\n",
    "cabinet_id = base_graph.new_obj_id\n",
    "base_graph.add(\"kitchen_cabinet\", \"INSIDE\", ref_nodes['dining_room']['dining_room'])\n",
    "base_graph.usable_nodes_by_room['dining_room']['kitchen_cabinet'] = cabinet_id\n",
    "base_graph.new_obj_id += 1\n",
    "\n",
    "fridge_id = base_graph.new_obj_id\n",
    "base_graph.add(\"fridge\", \"INSIDE\", ref_nodes['dining_room']['dining_room'])\n",
    "base_graph.usable_nodes_by_room['dining_room']['fridge'] = fridge_id\n",
    "base_graph.new_obj_id += 1\n",
    "\n",
    "dresser_id = base_graph.new_obj_id\n",
    "base_graph.add(\"dresser\", \"INSIDE\", ref_nodes['bedroom']['bedroom'])\n",
    "base_graph.usable_nodes_by_room['bedroom']['dresser'] = dresser_id\n",
    "base_graph.new_obj_id += 1\n",
    "\n",
    "shoe_rack_id = base_graph.new_obj_id\n",
    "base_graph.add(\"shoe_rack\", \"INSIDE\", ref_nodes['dining_room']['dining_room'])\n",
    "base_graph.usable_nodes_by_room['dining_room']['shoe_rack'] = shoe_rack_id\n",
    "base_graph.new_obj_id += 1\n",
    "\n",
    "\n",
    "base_graph.node_map['<washing_machine>'] = f'<washing_machine> ({washing_machine_id})'\n",
    "base_graph.node_map['<stove>'] = f'<stove> ({stove_id})'\n",
    "base_graph.node_map['<kitchen_cabinet>'] = f'<kitchen_cabinet> ({cabinet_id})'\n",
    "base_graph.node_map['<fridge>'] = f'<fridge> ({fridge_id})'\n",
    "base_graph.node_map['<dresser>'] = f'<dresser> ({dresser_id})'\n",
    "base_graph.node_map['<shoe_rack>'] = f'<shoe_rack> ({shoe_rack_id})'"
   ]
  },
  {
   "cell_type": "code",
   "execution_count": 37,
   "metadata": {},
   "outputs": [
    {
     "name": "stdout",
     "output_type": "stream",
     "text": [
      "List of available locations :\n",
      "#####  bathroom  #####\n",
      "['bathroom', 'bathroom_cabinet', 'bathroom_counter', 'ceilinglamp', 'curtain', 'drawing', 'faucet', 'light', 'mat', 'shower', 'sink', 'toilet', 'walllamp']\n",
      "#####  dining_room  #####\n",
      "['bench', 'bookshelf', 'ceilinglamp', 'coffe_maker', 'cupboard', 'dining_room', 'dishwasher', 'drawing', 'faucet', 'freezer', 'fridge', 'kitchen_cabinet', 'kitchen_counter', 'knifeblock', 'light', 'mat', 'microwave', 'oven', 'pot', 'powersocket', 'shoe_rack', 'sink', 'stove', 'stovefan', 'table', 'toaster', 'trashcan', 'tray', 'tvstand', 'walllamp', 'washing_machine']\n",
      "#####  bedroom  #####\n",
      "['bed', 'bedroom', 'bookshelf', 'ceilinglamp', 'chair', 'computer', 'cpuscreen', 'curtain', 'desk', 'drawing', 'dresser', 'filing_cabinet', 'light', 'mat', 'mouse', 'mousepad', 'nightstand', 'photoframe', 'sofa', 'table', 'tablelamp']\n",
      "#####  home_office  #####\n",
      "['bookshelf', 'ceilinglamp', 'chair', 'computer', 'cpuscreen', 'curtain', 'desk', 'drawing', 'hanger', 'home_office', 'light', 'mat', 'mouse', 'mousepad', 'powersocket', 'sofa', 'table', 'television', 'tvstand', 'walllamp']\n"
     ]
    }
   ],
   "source": [
    "print('List of available locations :')\n",
    "for room,nodelist in ref_nodes.items():\n",
    "    print('##### ',room,' #####')\n",
    "    furniture = list(nodelist.keys())\n",
    "    furniture.sort()\n",
    "    print(furniture)"
   ]
  },
  {
   "cell_type": "code",
   "execution_count": 38,
   "metadata": {},
   "outputs": [],
   "source": [
    "%run -i 'AddObjects.py'"
   ]
  },
  {
   "cell_type": "code",
   "execution_count": 39,
   "metadata": {},
   "outputs": [],
   "source": [
    "base_graph.write(init_graph_file)"
   ]
  },
  {
   "cell_type": "markdown",
   "metadata": {},
   "source": [
    "## Write the Program"
   ]
  },
  {
   "cell_type": "code",
   "execution_count": 40,
   "metadata": {},
   "outputs": [],
   "source": [
    "from ProgramExecutor import ProgramExecutor"
   ]
  },
  {
   "cell_type": "markdown",
   "metadata": {},
   "source": [
    "### Write the desired program in `program.txt`. The program should include a list of actions and comments specifying how much time you expect it to take\n",
    "Example\n",
    "```\n",
    "## 1-2 mins\n",
    "[Walk] <dining_room>\n",
    "[Walk] <food_apple>\n",
    "## 3-4 mins\n",
    "[Grab] <food_apple>\n",
    "[Walk] <kitchen_counter>\n",
    "[PutBack] <food_apple> <kitchen_counter>\n",
    "```"
   ]
  },
  {
   "cell_type": "markdown",
   "metadata": {},
   "source": [
    "Available Actions : \n",
    "\n",
    "`WALK, FIND, SIT, STANDUP, GRAB, OPEN, CLOSE, PUTBACK, PUTIN, SWITCHON, SWITCHOFF, DRINK, LOOKAT, TURNTO, WIPE, RUN, PUTON, PUTOFF, GREET, DROP, READ, POINTAT, TOUCH, LIE, PUTOBJBACK, POUR, TYPE, WATCH, PUSH, PULL, MOVE, RINSE, WASH, SCRUB, SQUEEZE, PLUGIN, PLUGOUT, CUT, EAT, SLEEP, WAKEUP, RELEASE`"
   ]
  },
  {
   "cell_type": "code",
   "execution_count": 41,
   "metadata": {},
   "outputs": [],
   "source": [
    "init_graph = GraphReader(graph_file=init_graph_file)"
   ]
  },
  {
   "cell_type": "markdown",
   "metadata": {},
   "source": [
    "Activity options : \n",
    "\n",
    "getting_out_of_bed, brushing_teeth, showering, getting_dressed, leave_home, going_to_the_bathroom, breakfast, lunch, dinner, reading, computer_work, watching_tv, hand_wash_clothes, laundry, kitchen_cleaning, vaccuum_cleaning, wash_dishes, take_out_trash, taking_medication, sleeping, cleaning, listening_to_music, socializing, diary_logging, playing_music, coming_back_home"
   ]
  },
  {
   "cell_type": "code",
   "execution_count": 43,
   "metadata": {},
   "outputs": [],
   "source": [
    "activity = input('Which are you scripting?')\n",
    "directory = os.path.join('sourcedScripts',activity)\n",
    "if not os.path.exists(directory):\n",
    "    raise KeyError('Are you sure you typed the correct activity? Please try again...')"
   ]
  },
  {
   "cell_type": "code",
   "execution_count": 44,
   "metadata": {},
   "outputs": [
    {
     "name": "stdout",
     "output_type": "stream",
     "text": [
      "#####  bathroom  #####\n",
      "[]\n",
      "#####  dining_room  #####\n",
      "['ice', 'napkin', 'tray', 'wine', 'wine_glass']\n",
      "#####  bedroom  #####\n",
      "['cellphone', 'chair_bedroom', 'sofa_bedroom']\n",
      "#####  home_office  #####\n",
      "['board_game', 'chair_home_office', 'chessboard', 'deck_of_cards', 'phone', 'scrabble', 'sofa_home_office', 'telephone', 'video_game_console', 'video_game_controller']\n"
     ]
    }
   ],
   "source": [
    "with open('ActivityObjects.json') as f:\n",
    "    available_obj_for_activity = json.load(f)[activity]\n",
    "\n",
    "for room, stuff in init_graph.expanded_nodes_by_room.items():\n",
    "    available_obj = [full_obj for full_obj,(obj,id) in list(stuff.items()) if obj in available_obj_for_activity]\n",
    "    available_obj.sort()\n",
    "    print('##### ',room,' #####')\n",
    "    print(available_obj)"
   ]
  },
  {
   "cell_type": "markdown",
   "metadata": {},
   "source": [
    "## Please write your script in `program.txt` now\n",
    "Run the cell below to check if it works"
   ]
  },
  {
   "cell_type": "code",
   "execution_count": 45,
   "metadata": {},
   "outputs": [],
   "source": [
    "action_headers, graphs = ProgramExecutor(program_file='program.txt', graph_file=init_graph_file, node_map=init_graph.node_map).execute()"
   ]
  },
  {
   "cell_type": "markdown",
   "metadata": {},
   "source": [
    "## If everything looks good, move the script to your database :)"
   ]
  },
  {
   "cell_type": "code",
   "execution_count": 46,
   "metadata": {},
   "outputs": [
    {
     "name": "stdout",
     "output_type": "stream",
     "text": [
      "Saving your awesome script at sourcedScripts/socializing/0.txt\n"
     ]
    }
   ],
   "source": [
    "existing_files = [int(os.path.splitext(file)[0]) for file in os.listdir(directory)]\n",
    "if existing_files:\n",
    "    new_file = os.path.join(directory, str(max(existing_files)+1)+'.txt')\n",
    "else:\n",
    "    new_file = os.path.join(directory, '0.txt')\n",
    "print(f'Saving your awesome script at {new_file}')\n",
    "os.rename('program.txt',new_file)\n",
    "open('program.txt', 'a').close()"
   ]
  },
  {
   "cell_type": "markdown",
   "metadata": {},
   "source": [
    "### In case you need to remove your script"
   ]
  },
  {
   "cell_type": "code",
   "execution_count": 47,
   "metadata": {},
   "outputs": [],
   "source": [
    "# os.remove(new_file)"
   ]
  },
  {
   "cell_type": "markdown",
   "metadata": {},
   "source": [
    "# Hurray! You did it :)"
   ]
  }
 ],
 "metadata": {
  "interpreter": {
   "hash": "c0674fbd63299d983e2055c825b7503b2e6cabbeb669a9608e463c0c32d0bb71"
  },
  "kernelspec": {
   "display_name": "Python 3.6.9 64-bit ('.venv': venv)",
   "language": "python",
   "name": "python3"
  },
  "language_info": {
   "codemirror_mode": {
    "name": "ipython",
    "version": 3
   },
   "file_extension": ".py",
   "mimetype": "text/x-python",
   "name": "python",
   "nbconvert_exporter": "python",
   "pygments_lexer": "ipython3",
   "version": "3.7.4"
  },
  "orig_nbformat": 4
 },
 "nbformat": 4,
 "nbformat_minor": 2
}
