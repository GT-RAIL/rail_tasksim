{
 "cells": [
  {
   "cell_type": "markdown",
   "metadata": {},
   "source": [
    "# Saved scripts is assumed to have scripts with the following stuff in it\n",
    "\n",
    "### breakfast_weekday_1 : Prepare coffee and toast , Eat coffee and toast , Put b1 utensils in sink , Wash b1 utensils\n",
    "### breakfast_weekday_2 : Prepare cereal and milk , Eat cereal and milk , Put b2 utensils in sink , Wash b2 utensils\n",
    "### breakfast_weekend : Prepare peanut butter sandwich , Eat sandwich on sofa , Put bw utensils in sink , Wash bw utensils\n",
    "### icecream : Serve icecream , Eat icecream , Put away icecream , Put ic utensils in sink , Wash ic utensils\n",
    "### laundry : Collect clothes , Wash clothes , Put away clothes\n",
    "### meal : Prepare cheese sandwich , Eat cheese sandwich , Return ml utensils , Wash ml utensils\n",
    "### meal_long : Chop vegetables , Take out chicken , Cook chicken and vegetables , Serve meal , Eat meal , Return lml utensils , Wash lml utensils\n",
    "### read : Get a book , Read the book , Return the book\n",
    "### sleep : Get alarm clock and book , Read and sleep"
   ]
  },
  {
   "cell_type": "code",
   "execution_count": null,
   "metadata": {},
   "outputs": [],
   "source": [
    "actions_vacabulary = {\n",
    "'breakfast_weekday_1' : ['Prepare coffee and toast' , 'Eat coffee and toast' , 'Put b1 utensils in sink' , 'Wash b1 utensils'],\n",
    "'breakfast_weekday_2' : ['Prepare cereal and milk' , 'Eat cereal and milk' , 'Put b2 utensils in sink' , 'Wash b2 utensils'],\n",
    "'breakfast_weekend' : ['Prepare peanut butter sandwich' , 'Eat sandwich on sofa' , 'Put bw utensils in sink' , 'Wash bw utensils'],\n",
    "'icecream' : ['Serve icecream' , 'Eat icecream' , 'Put away icecream' , 'Put ic utensils in sink' , 'Wash ic utensils'],\n",
    "'laundry' : ['Collect clothes' , 'Wash clothes' , 'Put away clothes'],\n",
    "'meal' : ['Prepare cheese sandwich' , 'Eat cheese sandwich' , 'Return ml utensils' , 'Wash ml utensils'],\n",
    "'meal_long' : ['Chop vegetables' , 'Take out chicken' , 'Cook chicken and vegetables' , 'Serve meal' , 'Eat meal' , 'Return lml utensils' , 'Wash lml utensils'],\n",
    "'read' : ['Get a book' , 'Read the book' , 'Return the book'],\n",
    "'sleep' : ['Get alarm clock and book' , 'Read and sleep']\n",
    "}\n",
    "\n",
    "dt = 10 #min"
   ]
  },
  {
   "cell_type": "markdown",
   "metadata": {},
   "source": [
    "## Helper class to specify time options for an action"
   ]
  },
  {
   "cell_type": "code",
   "execution_count": null,
   "metadata": {},
   "outputs": [],
   "source": [
    "import numpy as np\n",
    "import random\n",
    "\n",
    "class ActionTime:\n",
    "    def __init__ (self, mean_t, std_t, min_t=None, max_t=None):\n",
    "        self.mean_t = mean_t\n",
    "        self.std_t = std_t\n",
    "        self.min_t = (mean_t-3*std_t) if min_t is None else min_t \n",
    "        self.max_t = (mean_t+3*std_t) if max_t is None else max_t \n",
    "        assert self.std_t>0, 'Std time should be positive'\n",
    "        assert self.min_t<self.max_t, 'Minimum time should be less than maximum'\n",
    "\n",
    "    def sample (self, n=1):\n",
    "        t = set()\n",
    "        while len(t) < n:\n",
    "            val = int(round(np.random.normal(self.mean_t, self.std_t)))\n",
    "            if val > self.min_t and val < self.max_t:\n",
    "                t.add(val)\n",
    "        t=list(t)\n",
    "        t.sort()\n",
    "        return t\n",
    "\n",
    "    def definite (self, n=1):\n",
    "        return list(np.linspace(self.mean_t-self.std_t, self.mean_t+self.std_t, n))\n"
   ]
  },
  {
   "cell_type": "markdown",
   "metadata": {},
   "source": [
    "## Helper functions for time related calculations"
   ]
  },
  {
   "cell_type": "code",
   "execution_count": null,
   "metadata": {},
   "outputs": [],
   "source": [
    "def time_internal(mins, hrs, days=0, weeks=0):\n",
    "    return int(round(((((weeks*7+days)*24)+hrs)*60+mins)/dt))\n",
    "\n",
    "def time_external(in_t):\n",
    "    in_t = in_t*dt\n",
    "    mins = in_t % 60\n",
    "    in_t = in_t // 60\n",
    "    hrs = in_t % 24\n",
    "    in_t = in_t // 24\n",
    "    days = in_t % 7\n",
    "    in_t = in_t // 7\n",
    "    weeks = in_t\n",
    "    return(weeks, days, hrs, mins)"
   ]
  },
  {
   "cell_type": "markdown",
   "metadata": {},
   "source": [
    "## Schedules and constraints"
   ]
  },
  {
   "cell_type": "code",
   "execution_count": null,
   "metadata": {},
   "outputs": [],
   "source": [
    "t=time_internal\n",
    "\n",
    "weekday_times = []\n",
    "weekday_times.append([\n",
    "    {'prob':0.5, 'action':'breakfast_weekday_1', 'time': ActionTime(mean_t=t(0,8), std_t=t(30,0), min_t=t(0,6), max_t=t(0,9))},\n",
    "    {'prob':0.5, 'action':'breakfast_weekday_2', 'time': ActionTime(mean_t=t(0,8), std_t=t(30,0), min_t=t(0,6), max_t=t(0,9))}\n",
    "])\n",
    "weekday_times.append([\n",
    "    {'prob':0.8, 'action':'meal', 'time': ActionTime(mean_t=t(0,19), std_t=t(0,1), min_t=t(0,18), max_t=t(0,20))},\n",
    "    {'prob':0.2, 'action':'meal_long', 'time': ActionTime(mean_t=t(0,19), std_t=t(0,1), min_t=t(0,18), max_t=t(0,20))}\n",
    "])\n",
    "weekday_times.append([\n",
    "    {'prob':1.0, 'action':'sleep', 'time': ActionTime(mean_t=t(0,22), std_t=t(30,0), min_t=t(0,21), max_t=t(0,23))}\n",
    "])\n",
    "\n",
    "\n",
    "weekend_times = []\n",
    "weekend_times.append([\n",
    "    {'prob':0.8, 'action':'breakfast_weekend', 'time': ActionTime(mean_t=t(0,10), std_t=t(30,1), min_t=t(0,8), max_t=t(0,12))},\n",
    "    {'prob':0.1, 'action':'breakfast_weekday_1', 'time': ActionTime(mean_t=t(0,10), std_t=t(30,1), min_t=t(0,8), max_t=t(0,12))},\n",
    "    {'prob':0.1, 'action':'breakfast_weekday_2', 'time': ActionTime(mean_t=t(0,10), std_t=t(30,1), min_t=t(0,8), max_t=t(0,12))}\n",
    "])\n",
    "weekend_times.append([\n",
    "    {'prob':0.8, 'action':'read', 'time': ActionTime(mean_t=t(0,12), std_t=t(0,3), min_t=t(0,9), max_t=t(0,16))},\n",
    "    {'prob':0.2, 'action':'laundry', 'time': ActionTime(mean_t=t(0,12), std_t=t(0,3), min_t=t(0,9), max_t=t(0,16))}\n",
    "])\n",
    "weekend_times.append([\n",
    "    {'prob':0.8, 'action':'meal_long', 'time': ActionTime(mean_t=t(30,13), std_t=t(0,1), min_t=t(0,11), max_t=t(0,15))},\n",
    "    {'prob':0.2, 'action':'meal', 'time': ActionTime(mean_t=t(30,13), std_t=t(0,1), min_t=t(0,11), max_t=t(0,15))}\n",
    "])\n",
    "weekend_times.append([\n",
    "    {'prob':0.8, 'action':'read', 'time': ActionTime(mean_t=t(0,18), std_t=t(0,3), min_t=t(0,15), max_t=t(0,21))},\n",
    "    {'prob':0.2, 'action':'laundry', 'time': ActionTime(mean_t=t(0,18), std_t=t(0,3), min_t=t(0,15), max_t=t(0,21))}\n",
    "])\n",
    "weekend_times.append([\n",
    "    {'prob':0.8, 'action':'meal_long', 'time': ActionTime(mean_t=t(30,19), std_t=t(0,1), min_t=t(0,17), max_t=t(0,21))},\n",
    "    {'prob':0.2, 'action':'meal', 'time': ActionTime(mean_t=t(30,19), std_t=t(0,1), min_t=t(0,17), max_t=t(0,21))}\n",
    "])\n",
    "weekend_times.append([\n",
    "    {'prob':0.7, 'action':'icecream', 'time': ActionTime(mean_t=t(0,20), std_t=t(0,2), min_t=t(0,18), max_t=t(0,22))},\n",
    "    # 0.3 : None\n",
    "])\n",
    "weekend_times.append([\n",
    "    {'prob':1.0, 'action':'sleep', 'time': ActionTime(mean_t=t(0,23), std_t=t(0,1), min_t=t(0,21), max_t=t(0,24))}\n",
    "])\n",
    "\n",
    "\n",
    "constraints = []  #constraint function, error message\n",
    "constraints.append((lambda sch: all([a[2]<b[2] for a in sch for b in sch if a[0]=='meal' and a[1]==1 and b[0]=='icecream' and b[1]==1]),  'Must eat meal before eating ice cream'))\n",
    "constraints.append((lambda sch: all([a[2]<b[2] for a in sch for b in sch if a[0]=='meal_long' and a[1]==4 and b[0]=='icecream' and b[1]==1]),  'Must eat long meal before eating ice cream'))\n",
    "constraints.append((lambda sch: all([a[2]<=b[2] for a in sch for b in sch if b[0]=='sleep' and b[1]==1]),  'Must do everything before sleeping'))\n",
    "constraints.append((lambda sch: len(set([t[2] for t in sch])) == len([t[2] for t in sch]),  'No two actions can have the same timestamp'))\n"
   ]
  },
  {
   "cell_type": "markdown",
   "metadata": {},
   "source": [
    "## Sampling helper functions"
   ]
  },
  {
   "cell_type": "code",
   "execution_count": null,
   "metadata": {},
   "outputs": [],
   "source": [
    "def sample_action_type(probs):\n",
    "    r = random.random()\n",
    "    for i,p in enumerate(probs):\n",
    "        r -= p\n",
    "        if r<0:\n",
    "            return i\n",
    "    return None\n",
    "\n",
    "def definite_action(_):\n",
    "    return 0\n",
    "\n",
    "def get_one_action_with_times(action_options, stochastic=True):\n",
    "    get_action = sample_action_type if stochastic else definite_action\n",
    "    action_idx = get_action([a['prob'] for a in action_options])\n",
    "    if action_idx is None:\n",
    "        return []\n",
    "    action = action_options[action_idx]['action']\n",
    "    action_times = action_options[action_idx]['time'].sample(len(actions_vacabulary[action]))\n",
    "    return ([(action, i, t) for i,t in enumerate(action_times)])"
   ]
  },
  {
   "cell_type": "markdown",
   "metadata": {},
   "source": [
    "## Test"
   ]
  },
  {
   "cell_type": "code",
   "execution_count": null,
   "metadata": {},
   "outputs": [],
   "source": [
    "def get_random_schedule(weekend=False):\n",
    "    template = weekend_times if weekend else weekday_times\n",
    "    sch = []\n",
    "    while True:\n",
    "        for seg in template:\n",
    "            sch = sch + get_one_action_with_times(seg, stochastic=True)\n",
    "        good_sch = all([c[0](sch) for c in constraints])\n",
    "        if good_sch:\n",
    "            sch.sort(key=lambda x: x[2])\n",
    "            return sch\n",
    "        sch = []\n",
    "\n",
    "sch = get_random_schedule(weekend=True)\n",
    "for s in (sch):\n",
    "    print (s[0], s[1],s[2], time_external(s[2]))\n",
    "\n",
    "for c in constraints:\n",
    "    if not c[0](sch):\n",
    "        print(c[1])\n"
   ]
  },
  {
   "cell_type": "markdown",
   "metadata": {},
   "source": [
    "## Helper class to realize a schedule"
   ]
  },
  {
   "cell_type": "code",
   "execution_count": null,
   "metadata": {},
   "outputs": [],
   "source": [
    "import json\n",
    "import os\n",
    "\n",
    "dataset_dir = 'saved_datasets/my_scripts'\n",
    "\n",
    "class Routine():\n",
    "    def __init__(self, sch = None, init_graph_file = '{}/initial_common.json'.format(dataset_dir)):\n",
    "        self.schedule = sch\n",
    "        with open (init_graph_file,'r') as f:\n",
    "            self.init_graph_dict = json.load(init_graph_file)\n",
    "        self.init_graph = None  # Read dict into internal object\n",
    "        self.script_paths_and_timestamps()\n",
    "    \n",
    "    def script_paths_and_timestamps(self):\n",
    "        # try:\n",
    "        #     return self.script_files, self.timestamps\n",
    "        # except:\n",
    "        self.script_files = []\n",
    "        self.timestamps = []\n",
    "        for seg in self.schedule:\n",
    "            self.script_files.append(os.path.join(dataset_dir, seg[0], 'parts', seg[1], '.txt'))\n",
    "            self.timestamps.append(seg[2])\n",
    "        return self.script_files, self.timestamps\n",
    "\n",
    "    def execute(self):\n",
    "        graphs = []\n",
    "        return self.timestamps, graphs"
   ]
  },
  {
   "cell_type": "code",
   "execution_count": null,
   "metadata": {},
   "outputs": [],
   "source": []
  }
 ],
 "metadata": {
  "interpreter": {
   "hash": "c0674fbd63299d983e2055c825b7503b2e6cabbeb669a9608e463c0c32d0bb71"
  },
  "kernelspec": {
   "display_name": "Python 3.6.9 64-bit ('.venv': venv)",
   "name": "python3"
  },
  "language_info": {
   "codemirror_mode": {
    "name": "ipython",
    "version": 3
   },
   "file_extension": ".py",
   "mimetype": "text/x-python",
   "name": "python",
   "nbconvert_exporter": "python",
   "pygments_lexer": "ipython3",
   "version": "3.6.9"
  },
  "orig_nbformat": 4
 },
 "nbformat": 4,
 "nbformat_minor": 2
}
